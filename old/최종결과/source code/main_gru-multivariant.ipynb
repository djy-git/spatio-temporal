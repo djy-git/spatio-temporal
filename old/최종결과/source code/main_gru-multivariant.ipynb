{
 "cells": [
  {
   "cell_type": "code",
   "execution_count": 1,
   "id": "cd880b60",
   "metadata": {
    "pycharm": {
     "name": "#%%\n"
    }
   },
   "outputs": [
    {
     "name": "stderr",
     "output_type": "stream",
     "text": [
      "2022-07-29 14:08:26.601738: I tensorflow/stream_executor/cuda/cuda_gpu_executor.cc:975] successful NUMA node read from SysFS had negative value (-1), but there must be at least one NUMA node, so returning NUMA node zero\n",
      "2022-07-29 14:08:26.607053: I tensorflow/stream_executor/cuda/cuda_gpu_executor.cc:975] successful NUMA node read from SysFS had negative value (-1), but there must be at least one NUMA node, so returning NUMA node zero\n",
      "2022-07-29 14:08:26.607244: I tensorflow/stream_executor/cuda/cuda_gpu_executor.cc:975] successful NUMA node read from SysFS had negative value (-1), but there must be at least one NUMA node, so returning NUMA node zero\n"
     ]
    }
   ],
   "source": [
    "import pandas as pd\n",
    "import numpy as np\n",
    "from tqdm import tqdm\n",
    "from numpy import zeros, newaxis\n",
    "from sklearn.preprocessing import MinMaxScaler\n",
    "\n",
    "import tensorflow.keras\n",
    "from common.data_loader import *\n",
    "from common.preprocessing import * \n",
    "from common.util import set_random_seed\n",
    "from tensorflow.keras import Input\n",
    "import tensorflow as tf\n",
    "from tensorflow.keras.models import Sequential\n",
    "from tensorflow.keras.layers import Dense, LSTM, GRU,Conv1D ,Dropout,Conv1DTranspose, Bidirectional, TimeDistributed,RepeatVector\n",
    "from tensorflow.keras.callbacks import EarlyStopping\n",
    "from tensorflow.keras.optimizers import Adam\n",
    "from datetime import datetime\n",
    "from os import path, environ\n",
    "from livelossplot import PlotLossesKeras\n",
    "import matplotlib.pyplot as plt\n",
    "from pytz import timezone\n",
    "\n",
    "\n",
    "environ[\"CUDA_VISIBLE_DEVICES\"] = \"0\"\n",
    "for gpu in tf.config.experimental.list_physical_devices('GPU'):\n",
    "    tf.config.experimental.set_memory_growth(gpu, True)"
   ]
  },
  {
   "cell_type": "code",
   "execution_count": 2,
   "id": "c7b199bf",
   "metadata": {
    "pycharm": {
     "name": "#%%\n"
    }
   },
   "outputs": [],
   "source": [
    "SEQ_LEN = 2\n",
    "BATCH_SIZE = 256\n",
    "EPOCHS = 100"
   ]
  },
  {
   "cell_type": "code",
   "execution_count": 3,
   "id": "4b444f46",
   "metadata": {
    "pycharm": {
     "name": "#%%\n"
    },
    "scrolled": false
   },
   "outputs": [
    {
     "name": "stdout",
     "output_type": "stream",
     "text": [
      "<class 'pandas.core.frame.DataFrame'>\n",
      "RangeIndex: 4228623 entries, 0 to 4228622\n",
      "Data columns (total 15 columns):\n",
      " #   Column   Dtype  \n",
      "---  ------   -----  \n",
      " 0   TurbID   int64  \n",
      " 1   Day      int64  \n",
      " 2   Tmstamp  object \n",
      " 3   Wspd     float64\n",
      " 4   Wdir     float64\n",
      " 5   Etmp     float64\n",
      " 6   Itmp     float64\n",
      " 7   Ndir     float64\n",
      " 8   Pab1     float64\n",
      " 9   Pab2     float64\n",
      " 10  Pab3     float64\n",
      " 11  Prtv     float64\n",
      " 12  Patv     float64\n",
      " 13  Date     object \n",
      " 14  Time     int64  \n",
      "dtypes: float64(10), int64(3), object(2)\n",
      "memory usage: 483.9+ MB\n"
     ]
    }
   ],
   "source": [
    "# Load dataset\n",
    "full_data = pd.read_csv(\"data/data5_gi.csv\")\n",
    "submission = pd.read_csv(\"data/sample_submission.csv\")\n",
    "full_data.info()"
   ]
  },
  {
   "cell_type": "code",
   "execution_count": 4,
   "id": "322be1b0",
   "metadata": {
    "pycharm": {
     "name": "#%%\n"
    }
   },
   "outputs": [],
   "source": [
    "full_data = marking_data(full_data, 0)"
   ]
  },
  {
   "cell_type": "code",
   "execution_count": 5,
   "id": "83d54739",
   "metadata": {
    "pycharm": {
     "name": "#%%\n"
    }
   },
   "outputs": [
    {
     "name": "stdout",
     "output_type": "stream",
     "text": [
      "* Data name: Feature engineering\n",
      "  - Number of data: 4228623\n",
      "  - Number of nan rows: 864\n"
     ]
    }
   ],
   "source": [
    "# Preprocessing\n",
    "full_data = feature_engineering(full_data, compute_Pmax_method ='clipping', compute_Pmax_clipping=False)"
   ]
  },
  {
   "cell_type": "markdown",
   "id": "2dff983c",
   "metadata": {
    "pycharm": {
     "name": "#%% md\n"
    }
   },
   "source": [
    "### best feature score 170"
   ]
  },
  {
   "cell_type": "code",
   "execution_count": 6,
   "id": "9afb65ed",
   "metadata": {
    "pycharm": {
     "name": "#%%\n"
    }
   },
   "outputs": [],
   "source": [
    "## n to n multivariant prediction\n",
    "features = ['TurbID','Day','Tmstamp','RPM', 'Bspd1', 'Bspd3', 'Bspd2', 'WspdX', 'Wspd', 'Wspd_cube', 'Pmax', 'Pab1', 'Pab2', 'Pab3', 'TSR1', 'TSR2', 'TSR3', 'Prtv','Patv']\n",
    "full_data_selectd = full_data[features]"
   ]
  },
  {
   "cell_type": "code",
   "execution_count": 7,
   "id": "d37e3c7d",
   "metadata": {
    "pycharm": {
     "name": "#%%\n"
    }
   },
   "outputs": [],
   "source": [
    "data = full_data_selectd[(full_data_selectd['Day']>=1)&(full_data_selectd['Day']<=200)]"
   ]
  },
  {
   "cell_type": "code",
   "execution_count": 8,
   "id": "daba5b86",
   "metadata": {
    "pycharm": {
     "name": "#%%\n"
    }
   },
   "outputs": [
    {
     "name": "stderr",
     "output_type": "stream",
     "text": [
      "100%|██████████| 134/134 [00:15<00:00,  8.79it/s]\n"
     ]
    },
    {
     "name": "stdout",
     "output_type": "stream",
     "text": [
      "* Data Split\n",
      "  - Train data(X, y)     : (24639, 288, 16) (24639, 288, 16)\n",
      "  - Validation data(X, y): (1334, 288, 16) (1334, 288, 16)\n",
      "  - Test data(X)         : (134, 288, 16)\n"
     ]
    }
   ],
   "source": [
    "day = 144\n",
    "hour = 6\n",
    "ten_minute = 1\n",
    "train_x, train_y, val_x, val_y,test_x = make_train_val_test_data(data, in_seq_len=SEQ_LEN*144, out_seq_len=SEQ_LEN*144, stride=day, shuffle=False, test_size=0.05)"
   ]
  },
  {
   "cell_type": "code",
   "execution_count": 9,
   "id": "e0108a98",
   "metadata": {
    "pycharm": {
     "name": "#%%\n"
    }
   },
   "outputs": [
    {
     "name": "stderr",
     "output_type": "stream",
     "text": [
      "2022-07-29 14:10:38.310718: I tensorflow/core/platform/cpu_feature_guard.cc:193] This TensorFlow binary is optimized with oneAPI Deep Neural Network Library (oneDNN) to use the following CPU instructions in performance-critical operations:  AVX2 FMA\n",
      "To enable them in other operations, rebuild TensorFlow with the appropriate compiler flags.\n",
      "2022-07-29 14:10:38.311622: I tensorflow/stream_executor/cuda/cuda_gpu_executor.cc:975] successful NUMA node read from SysFS had negative value (-1), but there must be at least one NUMA node, so returning NUMA node zero\n",
      "2022-07-29 14:10:38.311880: I tensorflow/stream_executor/cuda/cuda_gpu_executor.cc:975] successful NUMA node read from SysFS had negative value (-1), but there must be at least one NUMA node, so returning NUMA node zero\n",
      "2022-07-29 14:10:38.312029: I tensorflow/stream_executor/cuda/cuda_gpu_executor.cc:975] successful NUMA node read from SysFS had negative value (-1), but there must be at least one NUMA node, so returning NUMA node zero\n",
      "2022-07-29 14:10:38.687813: I tensorflow/stream_executor/cuda/cuda_gpu_executor.cc:975] successful NUMA node read from SysFS had negative value (-1), but there must be at least one NUMA node, so returning NUMA node zero\n",
      "2022-07-29 14:10:38.687984: I tensorflow/stream_executor/cuda/cuda_gpu_executor.cc:975] successful NUMA node read from SysFS had negative value (-1), but there must be at least one NUMA node, so returning NUMA node zero\n",
      "2022-07-29 14:10:38.688096: I tensorflow/stream_executor/cuda/cuda_gpu_executor.cc:975] successful NUMA node read from SysFS had negative value (-1), but there must be at least one NUMA node, so returning NUMA node zero\n",
      "2022-07-29 14:10:38.688190: I tensorflow/core/common_runtime/gpu/gpu_device.cc:1532] Created device /job:localhost/replica:0/task:0/device:GPU:0 with 22309 MB memory:  -> device: 0, name: NVIDIA GeForce RTX 3090, pci bus id: 0000:01:00.0, compute capability: 8.6\n"
     ]
    }
   ],
   "source": [
    "# Generate dataset\n",
    "train_ds = generate_dataset(train_x, train_y, batch_size=BATCH_SIZE)\n",
    "test_ds = generate_dataset(val_x, val_y, batch_size=BATCH_SIZE)"
   ]
  },
  {
   "cell_type": "code",
   "execution_count": 10,
   "id": "4aab53c9",
   "metadata": {
    "pycharm": {
     "name": "#%%\n"
    },
    "scrolled": true
   },
   "outputs": [],
   "source": [
    "set_random_seed(32)\n",
    "\n",
    "model = Sequential(name=\"GRU-Model\") # Model\n",
    "model.add(Input(shape=(train_x[0].shape[0],train_x[0].shape[1]), name='Input-Layer')) \n",
    "model.add(Bidirectional(GRU(units=256, activation='tanh', recurrent_activation='sigmoid', stateful=False), name='Hidden-GRU-Encoder-Layer')) # Encoder Layer\n",
    "model.add(RepeatVector(train_y[0].shape[0], name='Repeat-Vector-Layer')) # Repeat Vector\n",
    "model.add(Bidirectional(GRU(units=256, activation='tanh', recurrent_activation='sigmoid', stateful=False, return_sequences=True), name='Hidden-GRU-Decoder-Layer1')) # Decoder Layer\n",
    "model.add(TimeDistributed(Dense(units=train_y[0].shape[1], activation='linear'), name='Output-Layer')) # Output Layer, Linear(x) = x"
   ]
  },
  {
   "cell_type": "code",
   "execution_count": 11,
   "id": "a4f23314",
   "metadata": {
    "pycharm": {
     "name": "#%%\n"
    },
    "scrolled": false
   },
   "outputs": [
    {
     "name": "stdout",
     "output_type": "stream",
     "text": [
      "Model: \"GRU-Model\"\n",
      "_________________________________________________________________\n",
      " Layer (type)                Output Shape              Param #   \n",
      "=================================================================\n",
      " Hidden-GRU-Encoder-Layer (B  (None, 512)              420864    \n",
      " idirectional)                                                   \n",
      "                                                                 \n",
      " Repeat-Vector-Layer (Repeat  (None, 288, 512)         0         \n",
      " Vector)                                                         \n",
      "                                                                 \n",
      " Hidden-GRU-Decoder-Layer1 (  (None, 288, 512)         1182720   \n",
      " Bidirectional)                                                  \n",
      "                                                                 \n",
      " Output-Layer (TimeDistribut  (None, 288, 16)          8208      \n",
      " ed)                                                             \n",
      "                                                                 \n",
      "=================================================================\n",
      "Total params: 1,611,792\n",
      "Trainable params: 1,611,792\n",
      "Non-trainable params: 0\n",
      "_________________________________________________________________\n"
     ]
    }
   ],
   "source": [
    "model.summary()"
   ]
  },
  {
   "cell_type": "code",
   "execution_count": 12,
   "id": "02d461d8",
   "metadata": {
    "pycharm": {
     "name": "#%%\n"
    }
   },
   "outputs": [],
   "source": [
    "##### Step 4 - Compile the model\n",
    "model.compile(optimizer='adam', # default='rmsprop', an algorithm to be used in backpropagation\n",
    "              loss='mean_squared_error', # Loss function to be optimized. A string (name of loss function), or a tf.keras.losses.Loss instance.\n",
    "              metrics=['MeanSquaredError', 'MeanAbsoluteError'], # List of metrics to be evaluated by the model during training and testing. Each of this can be a string (name of a built-in function), function or a tf.keras.metrics.Metric instance. \n",
    "              loss_weights=None, # default=None, Optional list or dictionary specifying scalar coefficients (Python floats) to weight the loss contributions of different model outputs.\n",
    "              weighted_metrics=None, # default=None, List of metrics to be evaluated and weighted by sample_weight or class_weight during training and testing.\n",
    "              run_eagerly=None, # Defaults to False. If True, this Model's logic will not be wrapped in a tf.function. Recommended to leave this as None unless your Model cannot be run inside a tf.function.\n",
    "              steps_per_execution=None # Defaults to 1. The number of batches to run during each tf.function call. Running multiple batches inside a single tf.function call can greatly improve performance on TPUs or small models with a large Python overhead.\n",
    "             )"
   ]
  },
  {
   "cell_type": "code",
   "execution_count": 13,
   "id": "0b06d78f",
   "metadata": {
    "pycharm": {
     "name": "#%%\n"
    }
   },
   "outputs": [
    {
     "data": {
      "image/png": "[encoded data removed]",
      "text/plain": [
       "<Figure size 864x864 with 4 Axes>"
      ]
     },
     "metadata": {
      "needs_background": "light"
     },
     "output_type": "display_data"
    },
    {
     "name": "stdout",
     "output_type": "stream",
     "text": [
      "Loss\n",
      "\ttraining         \t (min: 80135.469, max: 80135.469, cur: 80135.469)\n",
      "\tvalidation       \t (min: 165324.984, max: 165324.984, cur: 165324.984)\n",
      "mean_absolute_error\n",
      "\ttraining         \t (min:   71.784, max:   71.784, cur:   71.784)\n",
      "\tvalidation       \t (min:   86.925, max:   86.925, cur:   86.925)\n",
      "mean_squared_error\n",
      "\ttraining         \t (min: 80135.453, max: 80135.453, cur: 80135.453)\n",
      "\tvalidation       \t (min: 165324.984, max: 165324.984, cur: 165324.984)\n",
      "97/97 [==============================] - 15s 91ms/step - loss: 80135.4688 - mean_squared_error: 80135.4531 - mean_absolute_error: 71.7838 - val_loss: 165324.9844 - val_mean_squared_error: 165324.9844 - val_mean_absolute_error: 86.9245\n",
      "-------------------- Evaluation on Test Data --------------------\n"
     ]
    },
    {
     "name": "stderr",
     "output_type": "stream",
     "text": [
      "WARNING:absl:Function `_wrapped_model` contains input name(s) Input-Layer with unsupported characters which will be renamed to input_layer in the SavedModel.\n",
      "WARNING:absl:Found untraced functions such as gru_cell_1_layer_call_fn, gru_cell_1_layer_call_and_return_conditional_losses, gru_cell_2_layer_call_fn, gru_cell_2_layer_call_and_return_conditional_losses, gru_cell_4_layer_call_fn while saving (showing 5 of 8). These functions will not be directly callable after loading.\n"
     ]
    },
    {
     "name": "stdout",
     "output_type": "stream",
     "text": [
      "INFO:tensorflow:Assets written to: saved_models/model_ep100_b256_seq2_2022-07-29 23:11:06/assets\n"
     ]
    },
    {
     "name": "stderr",
     "output_type": "stream",
     "text": [
      "INFO:tensorflow:Assets written to: saved_models/model_ep100_b256_seq2_2022-07-29 23:11:06/assets\n"
     ]
    }
   ],
   "source": [
    "##### Step 5 - Fit the model on the dataset\n",
    "history = model.fit(train_ds, # input data, # target data\n",
    "                    batch_size=1, # Number of samples per gradient update. If unspecified, batch_size will default to 32.\n",
    "                    epochs=1000, # default=1, Number of epochs to train the model. An epoch is an iteration over the entire x and y data provided\n",
    "                    verbose=1, # default='auto', ('auto', 0, 1, or 2). Verbosity mode. 0 = silent, 1 = progress bar, 2 = one line per epoch. 'auto' defaults to 1 for most cases, but 2 when used with ParameterServerStrategy.\n",
    "                    callbacks=[ PlotLossesKeras()\n",
    "                              ], # default=None, list of callbacks to apply during training. See tf.keras.callbacks\n",
    "                    #validation_split=0.2, # default=0.0, Fraction of the training data to be used as validation data. The model will set apart this fraction of the training data, will not train on it, and will evaluate the loss and any model metrics on this data at the end of each epoch. \n",
    "                    validation_data=test_ds, # default=None, Data on which to evaluate the loss and any model metrics at the end of each epoch. \n",
    "                    shuffle=True, # default=True, Boolean (whether to shuffle the training data before each epoch) or str (for 'batch').\n",
    "                    class_weight=None, # default=None, Optional dictionary mapping class indices (integers) to a weight (float) value, used for weighting the loss function (during training only). This can be useful to tell the model to \"pay more attention\" to samples from an under-represented class.\n",
    "                    sample_weight=None, # default=None, Optional Numpy array of weights for the training samples, used for weighting the loss function (during training only).\n",
    "                    initial_epoch=0, # Integer, default=0, Epoch at which to start training (useful for resuming a previous training run).\n",
    "                    steps_per_epoch=None, # Integer or None, default=None, Total number of steps (batches of samples) before declaring one epoch finished and starting the next epoch. When training with input tensors such as TensorFlow data tensors, the default None is equal to the number of samples in your dataset divided by the batch size, or 1 if that cannot be determined. \n",
    "                    validation_steps=None, # Only relevant if validation_data is provided and is a tf.data dataset. Total number of steps (batches of samples) to draw before stopping when performing validation at the end of every epoch.\n",
    "                    validation_batch_size=None, # Integer or None, default=None, Number of samples per validation batch. If unspecified, will default to batch_size.\n",
    "                    validation_freq=1, # default=1, Only relevant if validation data is provided. If an integer, specifies how many training epochs to run before a new validation run is performed, e.g. validation_freq=2 runs validation every 2 epochs.\n",
    "                    max_queue_size=10, # default=10, Used for generator or keras.utils.Sequence input only. Maximum size for the generator queue. If unspecified, max_queue_size will default to 10.\n",
    "                    workers=1, # default=1, Used for generator or keras.utils.Sequence input only. Maximum number of processes to spin up when using process-based threading. If unspecified, workers will default to 1.\n",
    "                    use_multiprocessing=True, # default=False, Used for generator or keras.utils.Sequence input only. If True, use process-based threading. If unspecified, use_multiprocessing will default to False. \n",
    "                   )\n",
    "\n",
    "print('-------------------- Evaluation on Test Data --------------------')\n",
    "\n",
    "now = datetime.now(timezone('Asia/Seoul'))\n",
    "current_time = now.strftime('%Y-%m-%d %H:%M:%S')\n",
    "model.save(f'saved_models/model_ep{EPOCHS}_b{BATCH_SIZE}_seq{SEQ_LEN}_{current_time}')"
   ]
  },
  {
   "cell_type": "code",
   "execution_count": 14,
   "id": "20b396eb",
   "metadata": {
    "scrolled": false,
    "pycharm": {
     "name": "#%%\n"
    }
   },
   "outputs": [
    {
     "name": "stdout",
     "output_type": "stream",
     "text": [
      "5/5 [==============================] - 1s 22ms/step\n"
     ]
    }
   ],
   "source": [
    "y_pred = model.predict(test_x)\n",
    "y_pred = y_pred.reshape(-1, y_pred.shape[2])\n",
    "submission['Patv'] =y_pred[:,-1]\n",
    "now = datetime.now(timezone('Asia/Seoul'))\n",
    "current_time = now.strftime('%Y-%m-%d %H:%M:%S')\n",
    "submission.to_csv(f\"transformer_prediction_{current_time}.csv\", index=False)"
   ]
  }
 ],
 "metadata": {
  "kernelspec": {
   "display_name": "full",
   "language": "python",
   "name": "full"
  },
  "language_info": {
   "codemirror_mode": {
    "name": "ipython",
    "version": 3
   },
   "file_extension": ".py",
   "mimetype": "text/x-python",
   "name": "python",
   "nbconvert_exporter": "python",
   "pygments_lexer": "ipython3",
   "version": "3.8.13"
  }
 },
 "nbformat": 4,
 "nbformat_minor": 5
}