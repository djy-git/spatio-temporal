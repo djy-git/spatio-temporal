{
 "cells": [
  {
   "cell_type": "markdown",
   "id": "a99f4000",
   "metadata": {},
   "source": [
    "# Import packages"
   ]
  },
  {
   "cell_type": "code",
   "execution_count": 1,
   "id": "56dfc354",
   "metadata": {
    "pycharm": {
     "name": "#%%\n"
    }
   },
   "outputs": [],
   "source": [
    "import os\n",
    "import sys\n",
    "sys.path.append(os.path.dirname(os.getcwd()))\n",
    "\n",
    "from common import *"
   ]
  },
  {
   "cell_type": "markdown",
   "id": "fe8d4788",
   "metadata": {},
   "source": [
    "# 1. Load dataset"
   ]
  },
  {
   "cell_type": "code",
   "execution_count": 2,
   "id": "8cacc39f",
   "metadata": {
    "pycharm": {
     "name": "#%%\n"
    }
   },
   "outputs": [
    {
     "name": "stdout",
     "output_type": "stream",
     "text": [
      "<class 'pandas.core.frame.DataFrame'>\n",
      "RangeIndex: 3859200 entries, 0 to 3859199\n",
      "Data columns (total 13 columns):\n",
      " #   Column   Dtype  \n",
      "---  ------   -----  \n",
      " 0   TurbID   int64  \n",
      " 1   Day      int64  \n",
      " 2   Tmstamp  object \n",
      " 3   Wspd     float64\n",
      " 4   Wdir     float64\n",
      " 5   Etmp     float64\n",
      " 6   Itmp     float64\n",
      " 7   Ndir     float64\n",
      " 8   Pab1     float64\n",
      " 9   Pab2     float64\n",
      " 10  Pab3     float64\n",
      " 11  Prtv     float64\n",
      " 12  Patv     float64\n",
      "dtypes: float64(10), int64(2), object(1)\n",
      "memory usage: 382.8+ MB\n"
     ]
    }
   ],
   "source": [
    "train_data = pd.read_csv(join(PATH.input, \"train_data.csv\"))\n",
    "sample_submission = pd.read_csv(join(PATH.input, \"sample_submission.csv\"))\n",
    "train_data = train_data.fillna(method = 'bfill')\n",
    "train_data.info()"
   ]
  },
  {
   "cell_type": "markdown",
   "id": "229e9287",
   "metadata": {},
   "source": [
    "# 2. Preprocessing"
   ]
  },
  {
   "cell_type": "markdown",
   "id": "bd33504c",
   "metadata": {},
   "source": [
    "## 1) Training set"
   ]
  },
  {
   "cell_type": "code",
   "execution_count": 3,
   "id": "19d0e8b3",
   "metadata": {
    "pycharm": {
     "name": "#%%\n"
    }
   },
   "outputs": [],
   "source": [
    "tms_list = list(pd.unique(train_data['Tmstamp']))\n",
    "train_data['Tmstamp'] = train_data['Tmstamp'].apply(lambda x: tms_list.index(x)+1)"
   ]
  },
  {
   "cell_type": "code",
   "execution_count": 4,
   "id": "99cc8620",
   "metadata": {},
   "outputs": [
    {
     "name": "stderr",
     "output_type": "stream",
     "text": [
      "100%|██████████| 134/134 [00:21<00:00,  6.24it/s]\n"
     ]
    },
    {
     "data": {
      "text/plain": [
       "((25728, 720, 11), (25728, 288))"
      ]
     },
     "execution_count": 4,
     "metadata": {},
     "output_type": "execute_result"
    }
   ],
   "source": [
    "train_x, train_y = make_train_data(train_data, 5, 198)\n",
    "train_x = train_x.reshape(-1, train_x[0].shape[0], train_x[0].shape[1])\n",
    "train_x.shape, train_y.shape"
   ]
  },
  {
   "cell_type": "markdown",
   "id": "9607d3dc",
   "metadata": {},
   "source": [
    "## 2) Validation set"
   ]
  },
  {
   "cell_type": "code",
   "execution_count": 5,
   "id": "acf49a61",
   "metadata": {},
   "outputs": [
    {
     "data": {
      "text/plain": [
       "((134, 720, 11), (134, 288))"
      ]
     },
     "execution_count": 5,
     "metadata": {},
     "output_type": "execute_result"
    }
   ],
   "source": [
    "val_x, val_y = make_val_data(train_data, 5)\n",
    "val_x = val_x.reshape(-1, train_x[0].shape[0], train_x[0].shape[1])\n",
    "val_y = val_y.reshape(-1, train_y.shape[-1])\n",
    "val_x.shape, val_y.shape"
   ]
  },
  {
   "cell_type": "markdown",
   "id": "6ca2728c",
   "metadata": {},
   "source": [
    "# 3. Modeling"
   ]
  },
  {
   "cell_type": "code",
   "execution_count": 6,
   "id": "e3b5e4c7",
   "metadata": {
    "pycharm": {
     "name": "#%%\n"
    },
    "scrolled": true
   },
   "outputs": [
    {
     "name": "stderr",
     "output_type": "stream",
     "text": [
      "2022-07-11 06:51:58.086802: I tensorflow/stream_executor/cuda/cuda_gpu_executor.cc:975] successful NUMA node read from SysFS had negative value (-1), but there must be at least one NUMA node, so returning NUMA node zero\n",
      "2022-07-11 06:51:58.090288: I tensorflow/stream_executor/cuda/cuda_gpu_executor.cc:975] successful NUMA node read from SysFS had negative value (-1), but there must be at least one NUMA node, so returning NUMA node zero\n",
      "2022-07-11 06:51:58.090459: I tensorflow/stream_executor/cuda/cuda_gpu_executor.cc:975] successful NUMA node read from SysFS had negative value (-1), but there must be at least one NUMA node, so returning NUMA node zero\n"
     ]
    }
   ],
   "source": [
    "import tensorflow as tf\n",
    "\n",
    "tf.keras.utils.set_random_seed(RANDOM_STATE)\n",
    "for gpu in tf.config.experimental.list_physical_devices('GPU'):\n",
    "    tf.config.experimental.set_memory_growth(gpu, True)"
   ]
  },
  {
   "cell_type": "code",
   "execution_count": 7,
   "id": "b2b17c82",
   "metadata": {},
   "outputs": [
    {
     "name": "stderr",
     "output_type": "stream",
     "text": [
      "2022-07-11 06:51:58.178779: I tensorflow/core/platform/cpu_feature_guard.cc:193] This TensorFlow binary is optimized with oneAPI Deep Neural Network Library (oneDNN) to use the following CPU instructions in performance-critical operations:  AVX2 FMA\n",
      "To enable them in other operations, rebuild TensorFlow with the appropriate compiler flags.\n",
      "2022-07-11 06:51:58.179585: I tensorflow/stream_executor/cuda/cuda_gpu_executor.cc:975] successful NUMA node read from SysFS had negative value (-1), but there must be at least one NUMA node, so returning NUMA node zero\n",
      "2022-07-11 06:51:58.179734: I tensorflow/stream_executor/cuda/cuda_gpu_executor.cc:975] successful NUMA node read from SysFS had negative value (-1), but there must be at least one NUMA node, so returning NUMA node zero\n",
      "2022-07-11 06:51:58.179831: I tensorflow/stream_executor/cuda/cuda_gpu_executor.cc:975] successful NUMA node read from SysFS had negative value (-1), but there must be at least one NUMA node, so returning NUMA node zero\n",
      "2022-07-11 06:51:58.468035: I tensorflow/stream_executor/cuda/cuda_gpu_executor.cc:975] successful NUMA node read from SysFS had negative value (-1), but there must be at least one NUMA node, so returning NUMA node zero\n",
      "2022-07-11 06:51:58.468179: I tensorflow/stream_executor/cuda/cuda_gpu_executor.cc:975] successful NUMA node read from SysFS had negative value (-1), but there must be at least one NUMA node, so returning NUMA node zero\n",
      "2022-07-11 06:51:58.468281: I tensorflow/stream_executor/cuda/cuda_gpu_executor.cc:975] successful NUMA node read from SysFS had negative value (-1), but there must be at least one NUMA node, so returning NUMA node zero\n",
      "2022-07-11 06:51:58.468364: I tensorflow/core/common_runtime/gpu/gpu_device.cc:1532] Created device /job:localhost/replica:0/task:0/device:GPU:0 with 22309 MB memory:  -> device: 0, name: NVIDIA GeForce RTX 3090, pci bus id: 0000:01:00.0, compute capability: 8.6\n"
     ]
    }
   ],
   "source": [
    "from keras.models import Sequential\n",
    "from keras.layers import Dense, GRU, BatchNormalization, Dropout\n",
    "\n",
    "model = Sequential([\n",
    "    GRU(256, input_shape=train_x[0].shape),\n",
    "    BatchNormalization(),\n",
    "    Dropout(0.4),\n",
    "    \n",
    "    Dense(516, activation='relu'),\n",
    "    BatchNormalization(),\n",
    "    Dropout(0.4),\n",
    "\n",
    "    Dense(288, activation='relu')\n",
    "])\n",
    "optimizer = tf.optimizers.RMSprop(0.001)\n",
    "model.compile(optimizer=optimizer, loss='mse', metrics=['mae'])"
   ]
  },
  {
   "cell_type": "markdown",
   "id": "2a4ca6cc",
   "metadata": {},
   "source": [
    "# 4. Training"
   ]
  },
  {
   "cell_type": "code",
   "execution_count": 8,
   "id": "151462c9",
   "metadata": {
    "pycharm": {
     "name": "#%%\n"
    },
    "scrolled": false
   },
   "outputs": [
    {
     "name": "stdout",
     "output_type": "stream",
     "text": [
      "Epoch 1/1000\n"
     ]
    },
    {
     "name": "stderr",
     "output_type": "stream",
     "text": [
      "2022-07-11 06:52:00.646113: I tensorflow/stream_executor/cuda/cuda_dnn.cc:384] Loaded cuDNN version 8101\n"
     ]
    },
    {
     "name": "stdout",
     "output_type": "stream",
     "text": [
      "  3/201 [..............................] - ETA: 6s - loss: 320773.6875 - mae: 370.3460  "
     ]
    },
    {
     "name": "stderr",
     "output_type": "stream",
     "text": [
      "2022-07-11 06:52:01.178598: I tensorflow/stream_executor/cuda/cuda_blas.cc:1786] TensorFloat-32 will be used for the matrix multiplication. This will only be logged once.\n"
     ]
    },
    {
     "name": "stdout",
     "output_type": "stream",
     "text": [
      "201/201 [==============================] - 9s 34ms/step - loss: 281787.2812 - mae: 341.7273 - val_loss: 405003.3750 - val_mae: 436.4640\n",
      "Epoch 2/1000\n",
      "201/201 [==============================] - 7s 32ms/step - loss: 234324.0469 - mae: 319.0802 - val_loss: 307192.3125 - val_mae: 425.6457\n",
      "Epoch 3/1000\n",
      "201/201 [==============================] - 7s 34ms/step - loss: 204063.9062 - mae: 311.0349 - val_loss: 267848.1562 - val_mae: 432.5119\n",
      "Epoch 4/1000\n",
      "201/201 [==============================] - 7s 33ms/step - loss: 195584.7344 - mae: 309.7442 - val_loss: 262745.5312 - val_mae: 436.9536\n",
      "Epoch 5/1000\n",
      "201/201 [==============================] - 7s 34ms/step - loss: 192906.9375 - mae: 307.2232 - val_loss: 252049.7969 - val_mae: 425.1400\n",
      "Epoch 6/1000\n",
      "201/201 [==============================] - 7s 33ms/step - loss: 189751.1406 - mae: 303.7411 - val_loss: 239973.3125 - val_mae: 417.2344\n",
      "Epoch 7/1000\n",
      "201/201 [==============================] - 7s 34ms/step - loss: 187012.7031 - mae: 300.7464 - val_loss: 225043.3438 - val_mae: 395.6592\n",
      "Epoch 8/1000\n",
      "201/201 [==============================] - 7s 33ms/step - loss: 184840.5938 - mae: 298.0854 - val_loss: 216006.4844 - val_mae: 373.7060\n",
      "Epoch 9/1000\n",
      "201/201 [==============================] - 7s 33ms/step - loss: 182706.1719 - mae: 295.6502 - val_loss: 193928.1562 - val_mae: 357.2920\n",
      "Epoch 10/1000\n",
      "201/201 [==============================] - 7s 33ms/step - loss: 180551.8281 - mae: 293.7630 - val_loss: 192653.1250 - val_mae: 345.5260\n",
      "Epoch 11/1000\n",
      "201/201 [==============================] - 7s 33ms/step - loss: 178885.9062 - mae: 291.7033 - val_loss: 163131.5938 - val_mae: 327.8210\n",
      "Epoch 12/1000\n",
      "201/201 [==============================] - 7s 33ms/step - loss: 175787.4844 - mae: 288.8921 - val_loss: 185373.7188 - val_mae: 337.2943\n",
      "Epoch 13/1000\n",
      "201/201 [==============================] - 7s 33ms/step - loss: 171788.4219 - mae: 287.1978 - val_loss: 184975.0625 - val_mae: 329.6082\n",
      "Epoch 14/1000\n",
      "201/201 [==============================] - 7s 33ms/step - loss: 165247.1406 - mae: 282.6981 - val_loss: 248505.4062 - val_mae: 356.3335\n",
      "Epoch 15/1000\n",
      "201/201 [==============================] - 7s 33ms/step - loss: 155307.7031 - mae: 277.4792 - val_loss: 180756.3906 - val_mae: 316.1221\n",
      "Epoch 16/1000\n",
      "201/201 [==============================] - 7s 33ms/step - loss: 147061.5938 - mae: 272.4980 - val_loss: 192642.6719 - val_mae: 317.4362\n",
      "Epoch 17/1000\n",
      "201/201 [==============================] - 7s 33ms/step - loss: 137524.4844 - mae: 265.8285 - val_loss: 198203.6719 - val_mae: 326.0851\n",
      "Epoch 18/1000\n",
      "201/201 [==============================] - 7s 33ms/step - loss: 127558.4609 - mae: 259.1500 - val_loss: 203123.2656 - val_mae: 338.1316\n",
      "Epoch 19/1000\n",
      "201/201 [==============================] - 7s 33ms/step - loss: 118120.2109 - mae: 252.1023 - val_loss: 229629.5000 - val_mae: 352.8772\n",
      "Epoch 20/1000\n",
      "201/201 [==============================] - 7s 33ms/step - loss: 110951.0312 - mae: 245.4398 - val_loss: 227040.6719 - val_mae: 348.5986\n",
      "Epoch 21/1000\n",
      "201/201 [==============================] - 7s 33ms/step - loss: 105787.6641 - mae: 240.2166 - val_loss: 233526.9844 - val_mae: 349.8203\n"
     ]
    }
   ],
   "source": [
    "from tensorflow.keras.callbacks import EarlyStopping\n",
    "\n",
    "model.fit(train_x, train_y, validation_data=(val_x, val_y), epochs=1000, batch_size=128, callbacks=[EarlyStopping(patience=10, restore_best_weights=True)]);"
   ]
  },
  {
   "cell_type": "markdown",
   "id": "19453ec8",
   "metadata": {},
   "source": [
    "# 5. Predict"
   ]
  },
  {
   "cell_type": "code",
   "execution_count": 9,
   "id": "bfd0bdc6",
   "metadata": {
    "pycharm": {
     "name": "#%%\n"
    }
   },
   "outputs": [
    {
     "data": {
      "text/plain": [
       "(134, 720, 11)"
      ]
     },
     "execution_count": 9,
     "metadata": {},
     "output_type": "execute_result"
    }
   ],
   "source": [
    "test_data_list = [x for x in range(196, 201)]\n",
    "test_data      = train_data[train_data[\"Day\"].isin(test_data_list)]\n",
    "test_data      = test_data.drop([\"TurbID\", \"Day\"], axis=1)\n",
    "test_data      = np.array(test_data).reshape(-1, train_x[0].shape[0], train_x[0].shape[1])\n",
    "test_data.shape"
   ]
  },
  {
   "cell_type": "markdown",
   "id": "67488bd4",
   "metadata": {},
   "source": [
    "# 6. Generate submission"
   ]
  },
  {
   "cell_type": "code",
   "execution_count": 10,
   "id": "cdf88858",
   "metadata": {
    "pycharm": {
     "name": "#%%\n"
    }
   },
   "outputs": [
    {
     "name": "stdout",
     "output_type": "stream",
     "text": [
      "5/5 [==============================] - 0s 9ms/step\n"
     ]
    }
   ],
   "source": [
    "sample_submission['Patv'] = model.predict(test_data).reshape(-1)\n",
    "sample_submission.to_csv(join(PATH.output, \"proposed3.csv\"), index=False)"
   ]
  }
 ],
 "metadata": {
  "kernelspec": {
   "display_name": "full",
   "language": "python",
   "name": "full"
  },
  "language_info": {
   "codemirror_mode": {
    "name": "ipython",
    "version": 3
   },
   "file_extension": ".py",
   "mimetype": "text/x-python",
   "name": "python",
   "nbconvert_exporter": "python",
   "pygments_lexer": "ipython3",
   "version": "3.8.13"
  }
 },
 "nbformat": 4,
 "nbformat_minor": 5
}
