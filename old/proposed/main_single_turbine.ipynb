{
 "cells": [
  {
   "cell_type": "code",
   "execution_count": 1,
   "id": "cd880b60",
   "metadata": {
    "pycharm": {
     "name": "#%%\n"
    }
   },
   "outputs": [
    {
     "name": "stderr",
     "output_type": "stream",
     "text": [
      "2022-07-10 14:20:15.458025: I tensorflow/stream_executor/cuda/cuda_gpu_executor.cc:975] successful NUMA node read from SysFS had negative value (-1), but there must be at least one NUMA node, so returning NUMA node zero\n",
      "2022-07-10 14:20:15.459237: I tensorflow/stream_executor/cuda/cuda_gpu_executor.cc:975] successful NUMA node read from SysFS had negative value (-1), but there must be at least one NUMA node, so returning NUMA node zero\n",
      "2022-07-10 14:20:15.460503: I tensorflow/stream_executor/cuda/cuda_gpu_executor.cc:975] successful NUMA node read from SysFS had negative value (-1), but there must be at least one NUMA node, so returning NUMA node zero\n",
      "2022-07-10 14:20:15.471491: I tensorflow/stream_executor/cuda/cuda_gpu_executor.cc:975] successful NUMA node read from SysFS had negative value (-1), but there must be at least one NUMA node, so returning NUMA node zero\n",
      "2022-07-10 14:20:15.472597: I tensorflow/stream_executor/cuda/cuda_gpu_executor.cc:975] successful NUMA node read from SysFS had negative value (-1), but there must be at least one NUMA node, so returning NUMA node zero\n",
      "2022-07-10 14:20:15.473833: I tensorflow/stream_executor/cuda/cuda_gpu_executor.cc:975] successful NUMA node read from SysFS had negative value (-1), but there must be at least one NUMA node, so returning NUMA node zero\n",
      "2022-07-10 14:20:15.475112: I tensorflow/stream_executor/cuda/cuda_gpu_executor.cc:975] successful NUMA node read from SysFS had negative value (-1), but there must be at least one NUMA node, so returning NUMA node zero\n",
      "2022-07-10 14:20:15.476141: I tensorflow/stream_executor/cuda/cuda_gpu_executor.cc:975] successful NUMA node read from SysFS had negative value (-1), but there must be at least one NUMA node, so returning NUMA node zero\n",
      "2022-07-10 14:20:15.477358: I tensorflow/stream_executor/cuda/cuda_gpu_executor.cc:975] successful NUMA node read from SysFS had negative value (-1), but there must be at least one NUMA node, so returning NUMA node zero\n"
     ]
    }
   ],
   "source": [
    "import pandas as pd\n",
    "import numpy as np\n",
    "from tqdm import tqdm\n",
    "from numpy import zeros, newaxis\n",
    "from evaluate_paddlepaddle import evaluate\n",
    "import metrics\n",
    "import keras\n",
    "from data_loader import *\n",
    "import tensorflow as tf\n",
    "from keras.models import Sequential\n",
    "from keras.layers import Dense, LSTM, GRU\n",
    "from tensorflow.keras.callbacks import EarlyStopping\n",
    "\n",
    "for gpu in tf.config.experimental.list_physical_devices('GPU'):\n",
    "    tf.config.experimental.set_memory_growth(gpu, True)\n"
   ]
  },
  {
   "cell_type": "code",
   "execution_count": 5,
   "id": "de19bfc9",
   "metadata": {
    "scrolled": true,
    "pycharm": {
     "name": "#%%\n"
    }
   },
   "outputs": [
    {
     "name": "stdout",
     "output_type": "stream",
     "text": [
      "<class 'pandas.core.frame.DataFrame'>\n",
      "RangeIndex: 4727520 entries, 0 to 4727519\n",
      "Data columns (total 13 columns):\n",
      " #   Column   Dtype  \n",
      "---  ------   -----  \n",
      " 0   TurbID   int64  \n",
      " 1   Day      int64  \n",
      " 2   Tmstamp  object \n",
      " 3   Wspd     float64\n",
      " 4   Wdir     float64\n",
      " 5   Etmp     float64\n",
      " 6   Itmp     float64\n",
      " 7   Ndir     float64\n",
      " 8   Pab1     float64\n",
      " 9   Pab2     float64\n",
      " 10  Pab3     float64\n",
      " 11  Prtv     float64\n",
      " 12  Patv     float64\n",
      "dtypes: float64(10), int64(2), object(1)\n",
      "memory usage: 468.9+ MB\n"
     ]
    }
   ],
   "source": [
    "# Load dataset\n",
    "full_data = pd.read_csv(\"data/wtbdata_245days.csv\")\n",
    "train_data = pd.read_csv(\"data/train_data.csv\")\n",
    "submission = pd.read_csv(\"data/sample_submission.csv\")\n",
    "test_data = pd.read_csv(\"info/target.csv\")\n",
    "full_data = full_data.fillna(method = 'bfill')\n",
    "train_data = train_data.fillna(method = 'bfill')\n",
    "full_data.info()"
   ]
  },
  {
   "cell_type": "code",
   "execution_count": 6,
   "id": "324aa0a3",
   "metadata": {
    "pycharm": {
     "name": "#%%\n"
    }
   },
   "outputs": [],
   "source": [
    "# Preprocessing\n",
    "# Time Stamp to float hour+time\n",
    "full_data.Tmstamp =full_data.Tmstamp.apply(lambda x: int(x.split(':')[0]) + int(x.split(':')[1]) / 60)\n",
    "\n",
    "# add cyclical encoded time feature\n",
    "full_data['cos_time'] = np.cos(2 * np.pi * (full_data.Tmstamp / 24))\n",
    "full_data['sin_time'] = np.sin(2 * np.pi * (full_data.Tmstamp / 24))\n"
   ]
  },
  {
   "cell_type": "code",
   "execution_count": 77,
   "id": "582a911d",
   "metadata": {
    "scrolled": true,
    "pycharm": {
     "name": "#%%\n"
    }
   },
   "outputs": [
    {
     "name": "stdout",
     "output_type": "stream",
     "text": [
      "Train data(X, y): (196, 288, 11) (196, 288)\n",
      "Val data(X, y): (1, 288, 11) (1, 288)\n",
      "Test data(X, y): (1, 288, 11) (1, 288)\n"
     ]
    }
   ],
   "source": [
    "# Split data\n",
    "TurbID = 1\n",
    "SEQ_LEN = 2\n",
    "train_x, train_y = make_train_data_single_turbine(full_data, SEQ_LEN,TurbID)\n",
    "val_x,   val_y   = make_val_data_single_turbine(full_data, SEQ_LEN, TurbID)\n",
    "test_x, test_y   = make_test_data_single_turbine(full_data, SEQ_LEN, TurbID)\n",
    "val_x,   val_y   = val_x.reshape(-1, *train_x.shape[1:]), val_y.reshape(-1, train_y.shape[1])\n",
    "test_x, test_y   = test_x.reshape(-1, *train_x.shape[1:]),test_y.reshape(-1, train_y.shape[1])\n",
    "print(\"Train data(X, y):\", train_x.shape, train_y.shape)\n",
    "print(\"Val data(X, y):\", val_x.shape, val_y.shape)\n",
    "print(\"Test data(X, y):\", test_x.shape, test_y.shape)"
   ]
  },
  {
   "cell_type": "code",
   "execution_count": 78,
   "id": "2c6ebd9a",
   "metadata": {
    "pycharm": {
     "name": "#%%\n"
    }
   },
   "outputs": [],
   "source": [
    "# # Split data single feature\n",
    "# TurbID = 1\n",
    "# SEQ_LEN = 5\n",
    "# train_x, train_y = make_train_data_single_turbine(full_data, SEQ_LEN, TurbID)\n",
    "# val_x,   val_y   = make_val_data_single_turbine(full_data, SEQ_LEN, TurbID)\n",
    "# test_x, test_y   = make_test_data_single_turbine(full_data, SEQ_LEN, TurbID)\n",
    "# train_x,   train_y   = train_x.reshape(-1, *train_x.shape[1:],1), train_y.reshape(-1, train_y.shape[1])\n",
    "# val_x,   val_y   = val_x.reshape(-1, *train_x.shape[1:]), val_y.reshape(-1, train_y.shape[1])\n",
    "# test_x, test_y   = test_x.reshape(-1, *train_x.shape[1:]),test_y.reshape(-1, train_y.shape[1])\n",
    "# submission = submission[submission.TurbID == TurbID]\n",
    "# test_data = test_data[test_data.TurbID == TurbID]\n",
    "# print(\"Train data(X, y):\", train_x.shape, train_y.shape)\n",
    "# print(\"Val data(X, y):\", val_x.shape, val_y.shape)\n",
    "# print(\"Test data(X, y):\", test_x.shape, test_y.shape)"
   ]
  },
  {
   "cell_type": "code",
   "execution_count": 79,
   "id": "614cc34e",
   "metadata": {
    "scrolled": true,
    "pycharm": {
     "name": "#%%\n"
    }
   },
   "outputs": [],
   "source": [
    "# Generate dataset\n",
    "BATCH_SIZE = 128  \n",
    "train_ds = generate_dataset(train_x, train_y, batch_size=BATCH_SIZE)"
   ]
  },
  {
   "cell_type": "code",
   "execution_count": 80,
   "id": "991118fd",
   "metadata": {
    "pycharm": {
     "name": "#%%\n"
    }
   },
   "outputs": [],
   "source": [
    "# Modeling\n",
    "model = Sequential([\n",
    "    GRU(144*SEQ_LEN,input_shape=train_x[0].shape),\n",
    "    Dense(512, activation='relu'),\n",
    "    Dense(288, activation='relu')\n",
    "])\n",
    "optimizer = tf.keras.optimizers.Adam(learning_rate=0.001)\n",
    "model.compile(optimizer=optimizer, loss='mse', metrics=['mae'])"
   ]
  },
  {
   "cell_type": "code",
   "execution_count": 81,
   "id": "a620dcfb",
   "metadata": {
    "pycharm": {
     "name": "#%%\n"
    }
   },
   "outputs": [
    {
     "name": "stdout",
     "output_type": "stream",
     "text": [
      "Epoch 1/1000\n",
      "2/2 [==============================] - 3s 464ms/step - loss: 513249.0625 - mae: 479.0134 - val_loss: 399654.0625 - val_mae: 391.7267\n",
      "Epoch 2/1000\n",
      "2/2 [==============================] - 0s 62ms/step - loss: 512750.2188 - mae: 478.7903 - val_loss: 399027.1250 - val_mae: 391.5029\n",
      "Epoch 3/1000\n",
      "2/2 [==============================] - 0s 63ms/step - loss: 511930.9688 - mae: 478.4236 - val_loss: 398058.6250 - val_mae: 391.1740\n",
      "Epoch 4/1000\n",
      "2/2 [==============================] - 0s 61ms/step - loss: 510667.4375 - mae: 477.8577 - val_loss: 396617.9062 - val_mae: 390.7059\n",
      "Epoch 5/1000\n",
      "2/2 [==============================] - 0s 61ms/step - loss: 508823.3438 - mae: 477.0331 - val_loss: 394630.5625 - val_mae: 390.0828\n",
      "Epoch 6/1000\n",
      "2/2 [==============================] - 0s 61ms/step - loss: 506270.3125 - mae: 475.8968 - val_loss: 392013.3125 - val_mae: 389.2846\n",
      "Epoch 7/1000\n",
      "2/2 [==============================] - 0s 61ms/step - loss: 502875.3438 - mae: 474.3974 - val_loss: 388543.4688 - val_mae: 388.2238\n",
      "Epoch 8/1000\n",
      "2/2 [==============================] - 0s 61ms/step - loss: 498512.7812 - mae: 472.4833 - val_loss: 384118.1562 - val_mae: 386.8938\n",
      "Epoch 9/1000\n",
      "2/2 [==============================] - 0s 62ms/step - loss: 493074.6250 - mae: 470.1203 - val_loss: 378838.5000 - val_mae: 385.3723\n",
      "Epoch 10/1000\n",
      "2/2 [==============================] - 0s 60ms/step - loss: 486450.1250 - mae: 467.2704 - val_loss: 372657.7500 - val_mae: 383.6195\n",
      "Epoch 11/1000\n",
      "2/2 [==============================] - 0s 62ms/step - loss: 478567.7188 - mae: 463.9242 - val_loss: 365542.5625 - val_mae: 381.6558\n",
      "Epoch 12/1000\n",
      "2/2 [==============================] - 0s 62ms/step - loss: 469396.2188 - mae: 460.1263 - val_loss: 357331.6250 - val_mae: 379.3809\n",
      "Epoch 13/1000\n",
      "2/2 [==============================] - 0s 60ms/step - loss: 458938.9375 - mae: 455.9637 - val_loss: 348047.9375 - val_mae: 376.9017\n",
      "Epoch 14/1000\n",
      "2/2 [==============================] - 0s 59ms/step - loss: 447247.5625 - mae: 451.5053 - val_loss: 338250.8438 - val_mae: 374.7238\n",
      "Epoch 15/1000\n",
      "2/2 [==============================] - 0s 61ms/step - loss: 434404.5000 - mae: 446.8832 - val_loss: 328053.1562 - val_mae: 373.6045\n",
      "Epoch 16/1000\n",
      "2/2 [==============================] - 0s 59ms/step - loss: 420582.1250 - mae: 442.2888 - val_loss: 317274.0312 - val_mae: 373.6886\n",
      "Epoch 17/1000\n",
      "2/2 [==============================] - 0s 61ms/step - loss: 405962.6875 - mae: 437.9195 - val_loss: 306311.5000 - val_mae: 375.1820\n",
      "Epoch 18/1000\n",
      "2/2 [==============================] - 0s 59ms/step - loss: 390806.4375 - mae: 434.0090 - val_loss: 295337.1250 - val_mae: 379.2448\n",
      "Epoch 19/1000\n",
      "2/2 [==============================] - 0s 60ms/step - loss: 375441.6250 - mae: 430.7772 - val_loss: 284731.0000 - val_mae: 384.8082\n",
      "Epoch 20/1000\n",
      "2/2 [==============================] - 0s 59ms/step - loss: 360235.5938 - mae: 428.3690 - val_loss: 274833.8438 - val_mae: 391.1758\n",
      "Epoch 21/1000\n",
      "2/2 [==============================] - 0s 59ms/step - loss: 345543.8438 - mae: 426.9598 - val_loss: 266349.5938 - val_mae: 398.2816\n",
      "Epoch 22/1000\n",
      "2/2 [==============================] - 0s 59ms/step - loss: 331829.3125 - mae: 426.7058 - val_loss: 259378.3594 - val_mae: 406.7953\n",
      "Epoch 23/1000\n",
      "2/2 [==============================] - 0s 61ms/step - loss: 319429.4375 - mae: 427.5789 - val_loss: 254277.8906 - val_mae: 416.5647\n",
      "Epoch 24/1000\n",
      "2/2 [==============================] - 0s 60ms/step - loss: 308642.8438 - mae: 429.5937 - val_loss: 251318.9688 - val_mae: 426.6239\n",
      "Epoch 25/1000\n",
      "2/2 [==============================] - 0s 60ms/step - loss: 299733.0625 - mae: 432.6703 - val_loss: 250524.5312 - val_mae: 437.3324\n",
      "Epoch 26/1000\n",
      "2/2 [==============================] - 0s 57ms/step - loss: 292801.4688 - mae: 436.6322 - val_loss: 251823.6875 - val_mae: 448.1982\n",
      "Epoch 27/1000\n",
      "2/2 [==============================] - 0s 56ms/step - loss: 287794.5625 - mae: 441.1823 - val_loss: 254879.3906 - val_mae: 458.7914\n",
      "Epoch 28/1000\n",
      "2/2 [==============================] - 0s 57ms/step - loss: 284555.0312 - mae: 445.9594 - val_loss: 259158.4688 - val_mae: 468.4152\n",
      "Epoch 29/1000\n",
      "2/2 [==============================] - 0s 58ms/step - loss: 282758.6250 - mae: 450.6035 - val_loss: 263816.6250 - val_mae: 476.6718\n",
      "Epoch 30/1000\n",
      "2/2 [==============================] - 0s 58ms/step - loss: 281839.5000 - mae: 454.5517 - val_loss: 268318.6562 - val_mae: 483.4450\n",
      "Epoch 31/1000\n",
      "2/2 [==============================] - 0s 57ms/step - loss: 281401.9688 - mae: 457.6175 - val_loss: 271734.2188 - val_mae: 488.0800\n",
      "Epoch 32/1000\n",
      "2/2 [==============================] - 0s 56ms/step - loss: 280971.7812 - mae: 459.5154 - val_loss: 273559.7812 - val_mae: 490.4034\n",
      "Epoch 33/1000\n",
      "2/2 [==============================] - 0s 56ms/step - loss: 280264.0625 - mae: 460.0222 - val_loss: 274317.9062 - val_mae: 491.2640\n",
      "Epoch 34/1000\n",
      "2/2 [==============================] - 0s 56ms/step - loss: 279069.5312 - mae: 458.9872 - val_loss: 273569.2500 - val_mae: 490.1173\n",
      "Epoch 35/1000\n",
      "2/2 [==============================] - 0s 61ms/step - loss: 277723.2188 - mae: 456.9468 - val_loss: 271497.4375 - val_mae: 487.0331\n"
     ]
    },
    {
     "name": "stderr",
     "output_type": "stream",
     "text": [
      "WARNING:absl:Found untraced functions such as gru_cell_26_layer_call_fn, gru_cell_26_layer_call_and_return_conditional_losses while saving (showing 2 of 2). These functions will not be directly callable after loading.\n"
     ]
    },
    {
     "name": "stdout",
     "output_type": "stream",
     "text": [
      "INFO:tensorflow:Assets written to: saved_model/model_ep1000_b128_seq2_turb1/assets\n"
     ]
    },
    {
     "name": "stderr",
     "output_type": "stream",
     "text": [
      "INFO:tensorflow:Assets written to: saved_model/model_ep1000_b128_seq2_turb1/assets\n"
     ]
    }
   ],
   "source": [
    "# Training\n",
    "EPOCHS = 1000\n",
    "model.fit(train_ds, validation_data=[test_x, test_y], epochs=EPOCHS, callbacks=[EarlyStopping(patience=10, restore_best_weights=True)])\n",
    "model.save(f'saved_model/model_ep{EPOCHS}_b{BATCH_SIZE}_seq{SEQ_LEN}_turb{TurbID}')"
   ]
  },
  {
   "cell_type": "code",
   "execution_count": 85,
   "id": "059f708e",
   "metadata": {
    "scrolled": true,
    "pycharm": {
     "name": "#%%\n"
    }
   },
   "outputs": [
    {
     "name": "stdout",
     "output_type": "stream",
     "text": [
      "1/1 [==============================] - 0s 52ms/step\n"
     ]
    }
   ],
   "source": [
    "submission = pd.read_csv(\"data/sample_submission.csv\")\n",
    "test_data = pd.read_csv(\"info/target.csv\")\n",
    "submission = submission[submission.TurbID == TurbID]\n",
    "test_data = test_data[test_data.TurbID == TurbID]\n",
    "\n",
    "submission['Patv'] = model.predict(test_x).reshape(-1)\n",
    "submission.to_csv(f\"output/prediction220710_turb{TurbID}.csv\", index=False)"
   ]
  },
  {
   "cell_type": "code",
   "execution_count": 83,
   "id": "cede1bab",
   "metadata": {
    "pycharm": {
     "name": "#%%\n"
    }
   },
   "outputs": [
    {
     "data": {
      "text/plain": [
       "((1, 288, 1), (1, 288, 1))"
      ]
     },
     "execution_count": 83,
     "metadata": {},
     "output_type": "execute_result"
    }
   ],
   "source": [
    "submission = submission.iloc[:,-1].to_numpy().reshape(1,-1,1)\n",
    "raw_data = test_data\n",
    "ground_truth = test_data.iloc[:,-1].to_numpy().reshape(1,-1,1)\n",
    "submission.shape, ground_truth.shape"
   ]
  },
  {
   "cell_type": "code",
   "execution_count": 84,
   "id": "4b1e982e",
   "metadata": {
    "pycharm": {
     "name": "#%%\n"
    }
   },
   "outputs": [
    {
     "name": "stdout",
     "output_type": "stream",
     "text": [
      "Aprox. Score for Turbine 1 \n",
      "\n",
      "RMSE:  44.41449331860637 MAE:  39.82125790644625\n",
      "\n",
      "Score :  42.117875612526305\n"
     ]
    }
   ],
   "source": [
    "avg_mae, avg_rmse = metrics.turbine_scores(submission, ground_truth, raw_data, 144*2, stride=1)\n",
    "print('Aprox. Score for Turbine',TurbID,'\\n')\n",
    "print('RMSE: ',avg_rmse*134,'MAE: ',avg_mae*134)\n",
    "print('\\nScore : ', (avg_rmse+avg_mae)*134/2 )"
   ]
  },
  {
   "cell_type": "code",
   "execution_count": null,
   "id": "85284113",
   "metadata": {
    "pycharm": {
     "name": "#%%\n"
    }
   },
   "outputs": [],
   "source": []
  }
 ],
 "metadata": {
  "kernelspec": {
   "display_name": "full",
   "language": "python",
   "name": "full"
  },
  "language_info": {
   "codemirror_mode": {
    "name": "ipython",
    "version": 3
   },
   "file_extension": ".py",
   "mimetype": "text/x-python",
   "name": "python",
   "nbconvert_exporter": "python",
   "pygments_lexer": "ipython3",
   "version": "3.8.13"
  }
 },
 "nbformat": 4,
 "nbformat_minor": 5
}