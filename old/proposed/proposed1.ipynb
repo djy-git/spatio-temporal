{
 "cells": [
  {
   "cell_type": "markdown",
   "id": "a99f4000",
   "metadata": {},
   "source": [
    "# Import packages"
   ]
  },
  {
   "cell_type": "code",
   "execution_count": 1,
   "id": "56dfc354",
   "metadata": {
    "pycharm": {
     "name": "#%%\n"
    }
   },
   "outputs": [],
   "source": [
    "import os\n",
    "import sys\n",
    "sys.path.append(os.path.dirname(os.getcwd()))\n",
    "\n",
    "from common import *\n",
    "from sklearn.preprocessing import StandardScaler"
   ]
  },
  {
   "cell_type": "markdown",
   "id": "fe8d4788",
   "metadata": {},
   "source": [
    "# 1. Load dataset"
   ]
  },
  {
   "cell_type": "code",
   "execution_count": 2,
   "id": "8cacc39f",
   "metadata": {
    "pycharm": {
     "name": "#%%\n"
    }
   },
   "outputs": [
    {
     "name": "stdout",
     "output_type": "stream",
     "text": [
      "<class 'pandas.core.frame.DataFrame'>\n",
      "RangeIndex: 3859200 entries, 0 to 3859199\n",
      "Data columns (total 13 columns):\n",
      " #   Column   Dtype  \n",
      "---  ------   -----  \n",
      " 0   TurbID   int64  \n",
      " 1   Day      int64  \n",
      " 2   Tmstamp  object \n",
      " 3   Wspd     float64\n",
      " 4   Wdir     float64\n",
      " 5   Etmp     float64\n",
      " 6   Itmp     float64\n",
      " 7   Ndir     float64\n",
      " 8   Pab1     float64\n",
      " 9   Pab2     float64\n",
      " 10  Pab3     float64\n",
      " 11  Prtv     float64\n",
      " 12  Patv     float64\n",
      "dtypes: float64(10), int64(2), object(1)\n",
      "memory usage: 382.8+ MB\n"
     ]
    }
   ],
   "source": [
    "train_data = pd.read_csv(join(PATH.input, \"train_data.csv\"))\n",
    "sample_submission = pd.read_csv(join(PATH.input, \"sample_submission.csv\"))\n",
    "train_data = train_data.fillna(method = 'bfill')\n",
    "train_data.info()"
   ]
  },
  {
   "cell_type": "markdown",
   "id": "229e9287",
   "metadata": {},
   "source": [
    "# 2. Preprocessing"
   ]
  },
  {
   "cell_type": "code",
   "execution_count": 3,
   "id": "19d0e8b3",
   "metadata": {
    "pycharm": {
     "name": "#%%\n"
    }
   },
   "outputs": [
    {
     "name": "stderr",
     "output_type": "stream",
     "text": [
      "100%|██████████| 134/134 [00:21<00:00,  6.24it/s]\n"
     ]
    }
   ],
   "source": [
    "tms_list = list(pd.unique(train_data['Tmstamp']))\n",
    "train_data['Tmstamp'] = train_data['Tmstamp'].apply(lambda x: tms_list.index(x)+1)\n",
    "train_x, train_y = make_train_data(train_data, 5, 200)"
   ]
  },
  {
   "cell_type": "code",
   "execution_count": 4,
   "id": "0585dcf4",
   "metadata": {},
   "outputs": [
    {
     "data": {
      "text/plain": [
       "((25996, 720, 11), (25996, 288))"
      ]
     },
     "execution_count": 4,
     "metadata": {},
     "output_type": "execute_result"
    }
   ],
   "source": [
    "train_x = np.array(train_x).reshape(-1, train_x[0].shape[0], train_x[0].shape[1])\n",
    "train_y = np.array(train_y)\n",
    "train_x.shape, train_y.shape"
   ]
  },
  {
   "cell_type": "code",
   "execution_count": 5,
   "id": "87603059",
   "metadata": {},
   "outputs": [
    {
     "data": {
      "text/plain": [
       "((25996, 720, 11), (25996, 288))"
      ]
     },
     "execution_count": 5,
     "metadata": {},
     "output_type": "execute_result"
    }
   ],
   "source": [
    "scaler = StandardScaler()\n",
    "train_x = scaler.fit_transform(train_x.reshape(-1, train_x.shape[-1])).reshape(train_x.shape)\n",
    "train_x.shape, train_y.shape"
   ]
  },
  {
   "cell_type": "markdown",
   "id": "6ca2728c",
   "metadata": {},
   "source": [
    "# 3. Modeling"
   ]
  },
  {
   "cell_type": "code",
   "execution_count": 6,
   "id": "e3b5e4c7",
   "metadata": {
    "pycharm": {
     "name": "#%%\n"
    },
    "scrolled": true
   },
   "outputs": [
    {
     "name": "stderr",
     "output_type": "stream",
     "text": [
      "2022-07-11 05:46:43.898688: I tensorflow/stream_executor/cuda/cuda_gpu_executor.cc:975] successful NUMA node read from SysFS had negative value (-1), but there must be at least one NUMA node, so returning NUMA node zero\n",
      "2022-07-11 05:46:43.905958: I tensorflow/stream_executor/cuda/cuda_gpu_executor.cc:975] successful NUMA node read from SysFS had negative value (-1), but there must be at least one NUMA node, so returning NUMA node zero\n",
      "2022-07-11 05:46:43.906269: I tensorflow/stream_executor/cuda/cuda_gpu_executor.cc:975] successful NUMA node read from SysFS had negative value (-1), but there must be at least one NUMA node, so returning NUMA node zero\n"
     ]
    }
   ],
   "source": [
    "import tensorflow as tf\n",
    "from keras.models import Sequential\n",
    "from keras.layers import Dense, LSTM, GRU\n",
    "\n",
    "tf.keras.utils.set_random_seed(RANDOM_STATE)\n",
    "for gpu in tf.config.experimental.list_physical_devices('GPU'):\n",
    "    tf.config.experimental.set_memory_growth(gpu, True)"
   ]
  },
  {
   "cell_type": "code",
   "execution_count": 7,
   "id": "2ed2f29d",
   "metadata": {},
   "outputs": [
    {
     "name": "stderr",
     "output_type": "stream",
     "text": [
      "2022-07-11 05:46:43.994465: I tensorflow/core/platform/cpu_feature_guard.cc:193] This TensorFlow binary is optimized with oneAPI Deep Neural Network Library (oneDNN) to use the following CPU instructions in performance-critical operations:  AVX2 FMA\n",
      "To enable them in other operations, rebuild TensorFlow with the appropriate compiler flags.\n",
      "2022-07-11 05:46:43.995408: I tensorflow/stream_executor/cuda/cuda_gpu_executor.cc:975] successful NUMA node read from SysFS had negative value (-1), but there must be at least one NUMA node, so returning NUMA node zero\n",
      "2022-07-11 05:46:43.995770: I tensorflow/stream_executor/cuda/cuda_gpu_executor.cc:975] successful NUMA node read from SysFS had negative value (-1), but there must be at least one NUMA node, so returning NUMA node zero\n",
      "2022-07-11 05:46:43.996031: I tensorflow/stream_executor/cuda/cuda_gpu_executor.cc:975] successful NUMA node read from SysFS had negative value (-1), but there must be at least one NUMA node, so returning NUMA node zero\n",
      "2022-07-11 05:46:44.286383: I tensorflow/stream_executor/cuda/cuda_gpu_executor.cc:975] successful NUMA node read from SysFS had negative value (-1), but there must be at least one NUMA node, so returning NUMA node zero\n",
      "2022-07-11 05:46:44.286527: I tensorflow/stream_executor/cuda/cuda_gpu_executor.cc:975] successful NUMA node read from SysFS had negative value (-1), but there must be at least one NUMA node, so returning NUMA node zero\n",
      "2022-07-11 05:46:44.286630: I tensorflow/stream_executor/cuda/cuda_gpu_executor.cc:975] successful NUMA node read from SysFS had negative value (-1), but there must be at least one NUMA node, so returning NUMA node zero\n",
      "2022-07-11 05:46:44.286717: I tensorflow/core/common_runtime/gpu/gpu_device.cc:1532] Created device /job:localhost/replica:0/task:0/device:GPU:0 with 19178 MB memory:  -> device: 0, name: NVIDIA GeForce RTX 3090, pci bus id: 0000:01:00.0, compute capability: 8.6\n"
     ]
    }
   ],
   "source": [
    "model = Sequential([\n",
    "    GRU(256, input_shape=train_x[0].shape),\n",
    "    Dense(516, activation='relu'),\n",
    "    Dense(288, activation='relu')\n",
    "])\n",
    "optimizer = tf.optimizers.RMSprop(0.001)\n",
    "model.compile(optimizer=optimizer, loss='mse', metrics=['mae'])"
   ]
  },
  {
   "cell_type": "markdown",
   "id": "2a4ca6cc",
   "metadata": {},
   "source": [
    "# 4. Training"
   ]
  },
  {
   "cell_type": "code",
   "execution_count": 8,
   "id": "151462c9",
   "metadata": {
    "pycharm": {
     "name": "#%%\n"
    },
    "scrolled": false
   },
   "outputs": [
    {
     "name": "stderr",
     "output_type": "stream",
     "text": [
      "2022-07-11 05:46:44.444217: W tensorflow/core/framework/cpu_allocator_impl.cc:82] Allocation of 823553280 exceeds 10% of free system memory.\n",
      "2022-07-11 05:46:44.815478: W tensorflow/core/framework/cpu_allocator_impl.cc:82] Allocation of 823553280 exceeds 10% of free system memory.\n"
     ]
    },
    {
     "name": "stdout",
     "output_type": "stream",
     "text": [
      "Epoch 1/10\n"
     ]
    },
    {
     "name": "stderr",
     "output_type": "stream",
     "text": [
      "2022-07-11 05:46:46.530020: I tensorflow/stream_executor/cuda/cuda_dnn.cc:384] Loaded cuDNN version 8101\n"
     ]
    },
    {
     "name": "stdout",
     "output_type": "stream",
     "text": [
      "  3/204 [..............................] - ETA: 7s - loss: 295104.1562 - mae: 345.8313  "
     ]
    },
    {
     "name": "stderr",
     "output_type": "stream",
     "text": [
      "2022-07-11 05:46:47.058088: I tensorflow/stream_executor/cuda/cuda_blas.cc:1786] TensorFloat-32 will be used for the matrix multiplication. This will only be logged once.\n"
     ]
    },
    {
     "name": "stdout",
     "output_type": "stream",
     "text": [
      "204/204 [==============================] - 10s 37ms/step - loss: 192472.8438 - mae: 334.2208\n",
      "Epoch 2/10\n",
      "204/204 [==============================] - 8s 37ms/step - loss: 170263.3438 - mae: 323.0628\n",
      "Epoch 3/10\n",
      "204/204 [==============================] - 7s 37ms/step - loss: 161118.0469 - mae: 313.3703\n",
      "Epoch 4/10\n",
      "204/204 [==============================] - 7s 37ms/step - loss: 152653.8594 - mae: 303.2585\n",
      "Epoch 5/10\n",
      "204/204 [==============================] - 8s 37ms/step - loss: 141967.1875 - mae: 289.6254\n",
      "Epoch 6/10\n",
      "204/204 [==============================] - 8s 37ms/step - loss: 132136.2500 - mae: 276.6620\n",
      "Epoch 7/10\n",
      "204/204 [==============================] - 8s 37ms/step - loss: 123856.8750 - mae: 265.6998\n",
      "Epoch 8/10\n",
      "204/204 [==============================] - 7s 37ms/step - loss: 116824.2422 - mae: 257.0731\n",
      "Epoch 9/10\n",
      "204/204 [==============================] - 8s 37ms/step - loss: 110378.8438 - mae: 248.4108\n",
      "Epoch 10/10\n",
      "204/204 [==============================] - 8s 37ms/step - loss: 104095.6719 - mae: 239.7612\n"
     ]
    }
   ],
   "source": [
    "model.fit(train_x, train_y, epochs=10, batch_size=128);"
   ]
  },
  {
   "cell_type": "markdown",
   "id": "19453ec8",
   "metadata": {},
   "source": [
    "# 5. Predict"
   ]
  },
  {
   "cell_type": "code",
   "execution_count": 9,
   "id": "bfd0bdc6",
   "metadata": {
    "pycharm": {
     "name": "#%%\n"
    }
   },
   "outputs": [
    {
     "data": {
      "text/plain": [
       "(134, 720, 11)"
      ]
     },
     "execution_count": 9,
     "metadata": {},
     "output_type": "execute_result"
    }
   ],
   "source": [
    "test_data_list = [x for x in range(196, 201)]\n",
    "test_data      = train_data[train_data[\"Day\"].isin(test_data_list)]\n",
    "test_data      = test_data.drop([\"TurbID\", \"Day\"], axis=1)\n",
    "test_data      = np.array(test_data).reshape(-1, train_x[0].shape[0], train_x[0].shape[1])\n",
    "test_data.shape"
   ]
  },
  {
   "cell_type": "code",
   "execution_count": 10,
   "id": "368b44ea",
   "metadata": {},
   "outputs": [
    {
     "data": {
      "text/plain": [
       "(134, 720, 11)"
      ]
     },
     "execution_count": 10,
     "metadata": {},
     "output_type": "execute_result"
    }
   ],
   "source": [
    "test_data = scaler.transform(test_data.reshape(-1, train_x.shape[-1])).reshape(test_data.shape)\n",
    "test_data.shape"
   ]
  },
  {
   "cell_type": "markdown",
   "id": "67488bd4",
   "metadata": {},
   "source": [
    "# 6. Generate submission"
   ]
  },
  {
   "cell_type": "code",
   "execution_count": 11,
   "id": "cdf88858",
   "metadata": {
    "pycharm": {
     "name": "#%%\n"
    }
   },
   "outputs": [
    {
     "name": "stdout",
     "output_type": "stream",
     "text": [
      "5/5 [==============================] - 0s 12ms/step\n"
     ]
    }
   ],
   "source": [
    "sample_submission['Patv'] = model.predict(test_data).reshape(-1)\n",
    "sample_submission.to_csv(join(PATH.output, \"proposed1.csv\"), index=False)"
   ]
  }
 ],
 "metadata": {
  "kernelspec": {
   "display_name": "full",
   "language": "python",
   "name": "full"
  },
  "language_info": {
   "codemirror_mode": {
    "name": "ipython",
    "version": 3
   },
   "file_extension": ".py",
   "mimetype": "text/x-python",
   "name": "python",
   "nbconvert_exporter": "python",
   "pygments_lexer": "ipython3",
   "version": "3.8.13"
  }
 },
 "nbformat": 4,
 "nbformat_minor": 5
}
