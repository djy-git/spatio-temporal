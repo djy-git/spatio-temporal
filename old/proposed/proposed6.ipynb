{
 "cells": [
  {
   "cell_type": "markdown",
   "id": "a99f4000",
   "metadata": {},
   "source": [
    "# Import packages"
   ]
  },
  {
   "cell_type": "code",
   "execution_count": 2,
   "id": "56dfc354",
   "metadata": {
    "pycharm": {
     "name": "#%%\n"
    }
   },
   "outputs": [],
   "source": [
    "%load_ext autoreload\n",
    "%autoreload 2\n",
    "\n",
    "import os\n",
    "import sys\n",
    "sys.path.append(os.path.dirname(os.getcwd()))\n",
    "\n",
    "from common import *"
   ]
  },
  {
   "cell_type": "markdown",
   "id": "fe8d4788",
   "metadata": {},
   "source": [
    "# 1. Load dataset"
   ]
  },
  {
   "cell_type": "code",
   "execution_count": 3,
   "id": "8cacc39f",
   "metadata": {
    "pycharm": {
     "name": "#%%\n"
    },
    "scrolled": true
   },
   "outputs": [
    {
     "name": "stdout",
     "output_type": "stream",
     "text": [
      "<class 'pandas.core.frame.DataFrame'>\n",
      "RangeIndex: 3859200 entries, 0 to 3859199\n",
      "Data columns (total 13 columns):\n",
      " #   Column   Dtype  \n",
      "---  ------   -----  \n",
      " 0   TurbID   int64  \n",
      " 1   Day      int64  \n",
      " 2   Tmstamp  object \n",
      " 3   Wspd     float64\n",
      " 4   Wdir     float64\n",
      " 5   Etmp     float64\n",
      " 6   Itmp     float64\n",
      " 7   Ndir     float64\n",
      " 8   Pab1     float64\n",
      " 9   Pab2     float64\n",
      " 10  Pab3     float64\n",
      " 11  Prtv     float64\n",
      " 12  Patv     float64\n",
      "dtypes: float64(10), int64(2), object(1)\n",
      "memory usage: 382.8+ MB\n"
     ]
    }
   ],
   "source": [
    "train_data = pd.read_csv(join(PATH.input, \"train_data.csv\"))\n",
    "sample_submission = pd.read_csv(join(PATH.input, \"sample_submission.csv\"))\n",
    "train_data.info()"
   ]
  },
  {
   "cell_type": "markdown",
   "id": "229e9287",
   "metadata": {},
   "source": [
    "# 2. Preprocessing"
   ]
  },
  {
   "cell_type": "markdown",
   "id": "172d8aef",
   "metadata": {},
   "source": [
    "## 1) Imputing"
   ]
  },
  {
   "cell_type": "code",
   "execution_count": 4,
   "id": "cf693766",
   "metadata": {},
   "outputs": [
    {
     "name": "stdout",
     "output_type": "stream",
     "text": [
      "Number of Nan values: 0\n"
     ]
    }
   ],
   "source": [
    "train_data = impute_data(train_data)"
   ]
  },
  {
   "cell_type": "markdown",
   "id": "056bb9ed",
   "metadata": {},
   "source": [
    "## 2) Feature engineering"
   ]
  },
  {
   "cell_type": "code",
   "execution_count": 5,
   "id": "830c2552",
   "metadata": {},
   "outputs": [],
   "source": [
    "train_data['Wspd_cos'] = train_data['Wspd']*np.cos(train_data['Wdir']/180*np.pi)\n",
    "\n",
    "alpha = 20\n",
    "train_data['TSR1'] = 1/np.tan(np.radians(train_data['Pab1']+alpha))\n",
    "train_data['TSR2'] = 1 / np.tan(np.radians(train_data['Pab2'] + alpha))\n",
    "train_data['TSR3'] = 1 / np.tan(np.radians(train_data['Pab3'] + alpha))    \n",
    "\n",
    "train_data['Bspd1'] = train_data['TSR1'] * train_data['Wspd_cos']\n",
    "train_data['Bspd2'] = train_data['TSR2'] * train_data['Wspd_cos']\n",
    "train_data['Bspd3'] = train_data['TSR3'] * train_data['Wspd_cos']\n",
    "\n",
    "train_data['rpm'] = (train_data['Bspd1'] + train_data['Bspd2'] + train_data['Bspd3']) / 3"
   ]
  },
  {
   "cell_type": "markdown",
   "id": "bd33504c",
   "metadata": {},
   "source": [
    "## 3) Convert dtype of `Tmstamp`"
   ]
  },
  {
   "cell_type": "code",
   "execution_count": 6,
   "id": "19d0e8b3",
   "metadata": {
    "pycharm": {
     "name": "#%%\n"
    }
   },
   "outputs": [],
   "source": [
    "tms_list = list(pd.unique(train_data['Tmstamp']))\n",
    "train_data['Tmstamp'] = train_data['Tmstamp'].apply(lambda x: tms_list.index(x)+1)"
   ]
  },
  {
   "cell_type": "markdown",
   "id": "86a8bd75",
   "metadata": {},
   "source": [
    "## 4) Split dataset"
   ]
  },
  {
   "cell_type": "code",
   "execution_count": 7,
   "id": "940773f0",
   "metadata": {},
   "outputs": [
    {
     "name": "stderr",
     "output_type": "stream",
     "text": [
      "100%|██████████| 134/134 [00:26<00:00,  5.11it/s]\n"
     ]
    },
    {
     "name": "stdout",
     "output_type": "stream",
     "text": [
      "Train data(X, y): (24522, 720, 19) (24522, 288)\n",
      "Validation data(X, y): (134, 720, 19) (134, 288)\n",
      "Test data(X, y): (134, 720, 19) (0,)\n"
     ]
    }
   ],
   "source": [
    "SEQ_LEN = 5\n",
    "(train_x, train_y), (val_x, val_y), (test_x, test_y) = make_train_val_test_data(train_data, SEQ_LEN)"
   ]
  },
  {
   "cell_type": "markdown",
   "id": "6ca2728c",
   "metadata": {},
   "source": [
    "# 3. Modeling"
   ]
  },
  {
   "cell_type": "code",
   "execution_count": 8,
   "id": "e3b5e4c7",
   "metadata": {
    "pycharm": {
     "name": "#%%\n"
    },
    "scrolled": true
   },
   "outputs": [
    {
     "name": "stderr",
     "output_type": "stream",
     "text": [
      "2022-07-12 05:38:37.041591: I tensorflow/stream_executor/cuda/cuda_gpu_executor.cc:975] successful NUMA node read from SysFS had negative value (-1), but there must be at least one NUMA node, so returning NUMA node zero\n",
      "2022-07-12 05:38:37.331773: I tensorflow/stream_executor/cuda/cuda_gpu_executor.cc:975] successful NUMA node read from SysFS had negative value (-1), but there must be at least one NUMA node, so returning NUMA node zero\n",
      "2022-07-12 05:38:37.332109: I tensorflow/stream_executor/cuda/cuda_gpu_executor.cc:975] successful NUMA node read from SysFS had negative value (-1), but there must be at least one NUMA node, so returning NUMA node zero\n"
     ]
    }
   ],
   "source": [
    "import tensorflow as tf\n",
    "from keras.models import Sequential\n",
    "from keras.layers import Dense, LSTM, GRU\n",
    "\n",
    "tf.keras.utils.set_random_seed(RANDOM_STATE)\n",
    "for gpu in tf.config.experimental.list_physical_devices('GPU'):\n",
    "    tf.config.experimental.set_memory_growth(gpu, True)"
   ]
  },
  {
   "cell_type": "code",
   "execution_count": 9,
   "id": "2ed2f29d",
   "metadata": {},
   "outputs": [
    {
     "name": "stderr",
     "output_type": "stream",
     "text": [
      "2022-07-12 05:38:37.851813: I tensorflow/core/platform/cpu_feature_guard.cc:193] This TensorFlow binary is optimized with oneAPI Deep Neural Network Library (oneDNN) to use the following CPU instructions in performance-critical operations:  AVX2 FMA\n",
      "To enable them in other operations, rebuild TensorFlow with the appropriate compiler flags.\n",
      "2022-07-12 05:38:37.859497: I tensorflow/stream_executor/cuda/cuda_gpu_executor.cc:975] successful NUMA node read from SysFS had negative value (-1), but there must be at least one NUMA node, so returning NUMA node zero\n",
      "2022-07-12 05:38:37.859930: I tensorflow/stream_executor/cuda/cuda_gpu_executor.cc:975] successful NUMA node read from SysFS had negative value (-1), but there must be at least one NUMA node, so returning NUMA node zero\n",
      "2022-07-12 05:38:37.860208: I tensorflow/stream_executor/cuda/cuda_gpu_executor.cc:975] successful NUMA node read from SysFS had negative value (-1), but there must be at least one NUMA node, so returning NUMA node zero\n",
      "2022-07-12 05:38:40.539914: I tensorflow/stream_executor/cuda/cuda_gpu_executor.cc:975] successful NUMA node read from SysFS had negative value (-1), but there must be at least one NUMA node, so returning NUMA node zero\n",
      "2022-07-12 05:38:40.540230: I tensorflow/stream_executor/cuda/cuda_gpu_executor.cc:975] successful NUMA node read from SysFS had negative value (-1), but there must be at least one NUMA node, so returning NUMA node zero\n",
      "2022-07-12 05:38:40.540462: I tensorflow/stream_executor/cuda/cuda_gpu_executor.cc:975] successful NUMA node read from SysFS had negative value (-1), but there must be at least one NUMA node, so returning NUMA node zero\n",
      "2022-07-12 05:38:40.540646: I tensorflow/core/common_runtime/gpu/gpu_device.cc:1532] Created device /job:localhost/replica:0/task:0/device:GPU:0 with 22309 MB memory:  -> device: 0, name: NVIDIA GeForce RTX 3090, pci bus id: 0000:01:00.0, compute capability: 8.6\n"
     ]
    }
   ],
   "source": [
    "model = Sequential([\n",
    "    GRU(256, input_shape=train_x[0].shape),\n",
    "    Dense(516, activation='relu'),\n",
    "    Dense(288, activation='relu')\n",
    "])\n",
    "optimizer = tf.optimizers.RMSprop(0.001)\n",
    "model.compile(optimizer=optimizer, loss='mse', metrics=['mae'])"
   ]
  },
  {
   "cell_type": "markdown",
   "id": "2a4ca6cc",
   "metadata": {},
   "source": [
    "# 4. Training"
   ]
  },
  {
   "cell_type": "code",
   "execution_count": 10,
   "id": "151462c9",
   "metadata": {
    "pycharm": {
     "name": "#%%\n"
    },
    "scrolled": false
   },
   "outputs": [
    {
     "name": "stdout",
     "output_type": "stream",
     "text": [
      "Epoch 1/1000\n"
     ]
    },
    {
     "name": "stderr",
     "output_type": "stream",
     "text": [
      "2022-07-12 05:38:47.500289: I tensorflow/stream_executor/cuda/cuda_dnn.cc:384] Loaded cuDNN version 8101\n",
      "2022-07-12 05:38:51.572983: I tensorflow/stream_executor/cuda/cuda_blas.cc:1786] TensorFloat-32 will be used for the matrix multiplication. This will only be logged once.\n"
     ]
    },
    {
     "name": "stdout",
     "output_type": "stream",
     "text": [
      "192/192 [==============================] - 17s 38ms/step - loss: 186806.4219 - mae: 327.3302 - val_loss: 305753.7812 - val_mae: 470.8974\n",
      "Epoch 2/1000\n",
      "192/192 [==============================] - 7s 37ms/step - loss: 161811.7031 - mae: 311.8778 - val_loss: 248179.7188 - val_mae: 418.9817\n",
      "Epoch 3/1000\n",
      "192/192 [==============================] - 7s 37ms/step - loss: 152559.5625 - mae: 300.2212 - val_loss: 250522.8281 - val_mae: 424.2743\n",
      "Epoch 4/1000\n",
      "192/192 [==============================] - 7s 37ms/step - loss: 145624.3125 - mae: 290.9237 - val_loss: 256926.0000 - val_mae: 443.5643\n",
      "Epoch 5/1000\n",
      "192/192 [==============================] - 7s 37ms/step - loss: 139491.1406 - mae: 282.6794 - val_loss: 230259.2500 - val_mae: 411.8481\n",
      "Epoch 6/1000\n",
      "192/192 [==============================] - 7s 37ms/step - loss: 133880.4375 - mae: 275.3751 - val_loss: 226343.1406 - val_mae: 395.2729\n",
      "Epoch 7/1000\n",
      "192/192 [==============================] - 7s 37ms/step - loss: 128325.2344 - mae: 268.3458 - val_loss: 206228.2656 - val_mae: 365.8398\n",
      "Epoch 8/1000\n",
      "192/192 [==============================] - 7s 37ms/step - loss: 123817.8281 - mae: 262.0957 - val_loss: 206405.3750 - val_mae: 359.1940\n",
      "Epoch 9/1000\n",
      "192/192 [==============================] - 7s 37ms/step - loss: 118906.9922 - mae: 255.8926 - val_loss: 203445.1250 - val_mae: 356.7529\n",
      "Epoch 10/1000\n",
      "192/192 [==============================] - 7s 37ms/step - loss: 114687.7812 - mae: 250.3392 - val_loss: 207962.5312 - val_mae: 353.9713\n",
      "Epoch 11/1000\n",
      "192/192 [==============================] - 7s 37ms/step - loss: 110450.3359 - mae: 244.6564 - val_loss: 216361.3125 - val_mae: 355.2816\n",
      "Epoch 12/1000\n",
      "192/192 [==============================] - 7s 37ms/step - loss: 106443.2734 - mae: 238.7675 - val_loss: 204896.4688 - val_mae: 355.7098\n",
      "Epoch 13/1000\n",
      "192/192 [==============================] - 7s 37ms/step - loss: 102356.7500 - mae: 232.9444 - val_loss: 207756.4531 - val_mae: 358.8236\n",
      "Epoch 14/1000\n",
      "192/192 [==============================] - 7s 37ms/step - loss: 98144.4609 - mae: 226.6940 - val_loss: 205792.8906 - val_mae: 353.5283\n",
      "Epoch 15/1000\n",
      "192/192 [==============================] - 7s 37ms/step - loss: 94609.8125 - mae: 221.4039 - val_loss: 225469.3594 - val_mae: 358.3554\n",
      "Epoch 16/1000\n",
      "192/192 [==============================] - 7s 37ms/step - loss: 90958.2344 - mae: 216.2801 - val_loss: 198980.1875 - val_mae: 352.1351\n",
      "Epoch 17/1000\n",
      "192/192 [==============================] - 7s 37ms/step - loss: 87530.9531 - mae: 211.6302 - val_loss: 206058.4531 - val_mae: 354.0793\n",
      "Epoch 18/1000\n",
      "192/192 [==============================] - 7s 37ms/step - loss: 84411.2266 - mae: 206.7975 - val_loss: 178885.8438 - val_mae: 324.0826\n",
      "Epoch 19/1000\n",
      "192/192 [==============================] - 7s 37ms/step - loss: 81228.5625 - mae: 201.8156 - val_loss: 175086.4844 - val_mae: 319.5746\n",
      "Epoch 20/1000\n",
      "192/192 [==============================] - 7s 37ms/step - loss: 78387.6719 - mae: 197.3352 - val_loss: 183121.5469 - val_mae: 317.5487\n",
      "Epoch 21/1000\n",
      "192/192 [==============================] - 7s 36ms/step - loss: 75607.6328 - mae: 192.7745 - val_loss: 172814.7812 - val_mae: 317.3161\n",
      "Epoch 22/1000\n",
      "192/192 [==============================] - 7s 38ms/step - loss: 72651.0781 - mae: 188.3093 - val_loss: 170149.0312 - val_mae: 313.3084\n",
      "Epoch 23/1000\n",
      "192/192 [==============================] - 7s 37ms/step - loss: 69930.5469 - mae: 184.0924 - val_loss: 174443.7500 - val_mae: 319.4032\n",
      "Epoch 24/1000\n",
      "192/192 [==============================] - 7s 37ms/step - loss: 67570.6406 - mae: 180.1283 - val_loss: 169487.2500 - val_mae: 319.1780\n",
      "Epoch 25/1000\n",
      "192/192 [==============================] - 7s 37ms/step - loss: 65415.3789 - mae: 176.3370 - val_loss: 190293.9062 - val_mae: 329.4471\n",
      "Epoch 26/1000\n",
      "192/192 [==============================] - 7s 37ms/step - loss: 63457.6992 - mae: 172.8530 - val_loss: 181678.4219 - val_mae: 328.4297\n",
      "Epoch 27/1000\n",
      "192/192 [==============================] - 7s 37ms/step - loss: 61803.2109 - mae: 169.9109 - val_loss: 178325.2500 - val_mae: 328.8355\n",
      "Epoch 28/1000\n",
      "192/192 [==============================] - 7s 37ms/step - loss: 60042.1016 - mae: 166.7309 - val_loss: 198030.7031 - val_mae: 342.1622\n",
      "Epoch 29/1000\n",
      "192/192 [==============================] - 7s 37ms/step - loss: 58478.9414 - mae: 163.7896 - val_loss: 187292.3594 - val_mae: 327.5808\n",
      "Epoch 30/1000\n",
      "192/192 [==============================] - 7s 37ms/step - loss: 56956.2930 - mae: 160.8458 - val_loss: 205578.4062 - val_mae: 350.0297\n",
      "Epoch 31/1000\n",
      "192/192 [==============================] - 7s 37ms/step - loss: 55765.4023 - mae: 158.5725 - val_loss: 178124.3906 - val_mae: 323.0384\n",
      "Epoch 32/1000\n",
      "192/192 [==============================] - 7s 37ms/step - loss: 54431.9297 - mae: 156.1536 - val_loss: 179064.3906 - val_mae: 317.8022\n",
      "Epoch 33/1000\n",
      "192/192 [==============================] - 7s 37ms/step - loss: 53197.6602 - mae: 153.6819 - val_loss: 174834.6250 - val_mae: 308.0088\n",
      "Epoch 34/1000\n",
      "192/192 [==============================] - 7s 37ms/step - loss: 52006.7031 - mae: 151.4644 - val_loss: 181633.1875 - val_mae: 311.5283\n"
     ]
    }
   ],
   "source": [
    "from tensorflow.keras.callbacks import EarlyStopping\n",
    "\n",
    "model.fit(train_x, train_y, validation_data=(val_x, val_y), epochs=1000, batch_size=128, callbacks=[EarlyStopping(patience=10, restore_best_weights=True)]);"
   ]
  },
  {
   "cell_type": "markdown",
   "id": "67488bd4",
   "metadata": {},
   "source": [
    "# 6. Generate submission"
   ]
  },
  {
   "cell_type": "code",
   "execution_count": 11,
   "id": "cdf88858",
   "metadata": {
    "pycharm": {
     "name": "#%%\n"
    }
   },
   "outputs": [
    {
     "name": "stdout",
     "output_type": "stream",
     "text": [
      "5/5 [==============================] - 0s 9ms/step\n"
     ]
    }
   ],
   "source": [
    "sample_submission['Patv'] = model.predict(test_x).reshape(-1)\n",
    "sample_submission.to_csv(join(PATH.output, \"proposed6.csv\"), index=False)"
   ]
  }
 ],
 "metadata": {
  "kernelspec": {
   "display_name": "full",
   "language": "python",
   "name": "full"
  },
  "language_info": {
   "codemirror_mode": {
    "name": "ipython",
    "version": 3
   },
   "file_extension": ".py",
   "mimetype": "text/x-python",
   "name": "python",
   "nbconvert_exporter": "python",
   "pygments_lexer": "ipython3",
   "version": "3.8.13"
  }
 },
 "nbformat": 4,
 "nbformat_minor": 5
}