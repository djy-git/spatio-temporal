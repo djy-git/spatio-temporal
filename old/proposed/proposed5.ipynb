{
 "cells": [
  {
   "cell_type": "markdown",
   "id": "a99f4000",
   "metadata": {},
   "source": [
    "# Import packages"
   ]
  },
  {
   "cell_type": "code",
   "execution_count": 1,
   "id": "56dfc354",
   "metadata": {
    "pycharm": {
     "name": "#%%\n"
    }
   },
   "outputs": [],
   "source": [
    "%load_ext autoreload\n",
    "%autoreload 2\n",
    "\n",
    "import os\n",
    "import sys\n",
    "sys.path.append(os.path.dirname(os.getcwd()))\n",
    "\n",
    "from common import *"
   ]
  },
  {
   "cell_type": "markdown",
   "id": "fe8d4788",
   "metadata": {},
   "source": [
    "# 1. Load dataset"
   ]
  },
  {
   "cell_type": "code",
   "execution_count": 2,
   "id": "8cacc39f",
   "metadata": {
    "pycharm": {
     "name": "#%%\n"
    }
   },
   "outputs": [
    {
     "name": "stdout",
     "output_type": "stream",
     "text": [
      "<class 'pandas.core.frame.DataFrame'>\n",
      "RangeIndex: 3859200 entries, 0 to 3859199\n",
      "Data columns (total 13 columns):\n",
      " #   Column   Dtype  \n",
      "---  ------   -----  \n",
      " 0   TurbID   int64  \n",
      " 1   Day      int64  \n",
      " 2   Tmstamp  object \n",
      " 3   Wspd     float64\n",
      " 4   Wdir     float64\n",
      " 5   Etmp     float64\n",
      " 6   Itmp     float64\n",
      " 7   Ndir     float64\n",
      " 8   Pab1     float64\n",
      " 9   Pab2     float64\n",
      " 10  Pab3     float64\n",
      " 11  Prtv     float64\n",
      " 12  Patv     float64\n",
      "dtypes: float64(10), int64(2), object(1)\n",
      "memory usage: 382.8+ MB\n"
     ]
    }
   ],
   "source": [
    "train_data = pd.read_csv(join(PATH.input, \"train_data.csv\"))\n",
    "sample_submission = pd.read_csv(join(PATH.input, \"sample_submission.csv\"))\n",
    "train_data.info()"
   ]
  },
  {
   "cell_type": "markdown",
   "id": "229e9287",
   "metadata": {},
   "source": [
    "# 2. Preprocessing"
   ]
  },
  {
   "cell_type": "markdown",
   "id": "172d8aef",
   "metadata": {},
   "source": [
    "## 1) Imputing"
   ]
  },
  {
   "cell_type": "code",
   "execution_count": 3,
   "id": "cf693766",
   "metadata": {},
   "outputs": [
    {
     "name": "stdout",
     "output_type": "stream",
     "text": [
      "Number of Nan values: 0\n"
     ]
    }
   ],
   "source": [
    "train_data = impute_data(train_data)"
   ]
  },
  {
   "cell_type": "markdown",
   "id": "bd33504c",
   "metadata": {},
   "source": [
    "## 2) Convert dtype of `Tmstamp`"
   ]
  },
  {
   "cell_type": "code",
   "execution_count": 4,
   "id": "19d0e8b3",
   "metadata": {
    "pycharm": {
     "name": "#%%\n"
    }
   },
   "outputs": [],
   "source": [
    "tms_list = list(pd.unique(train_data['Tmstamp']))\n",
    "train_data['Tmstamp'] = train_data['Tmstamp'].apply(lambda x: tms_list.index(x)+1)"
   ]
  },
  {
   "cell_type": "markdown",
   "id": "86a8bd75",
   "metadata": {},
   "source": [
    "## 3) Split dataset"
   ]
  },
  {
   "cell_type": "code",
   "execution_count": 30,
   "id": "940773f0",
   "metadata": {},
   "outputs": [
    {
     "name": "stderr",
     "output_type": "stream",
     "text": [
      "100%|██████████| 134/134 [00:25<00:00,  5.35it/s]\n"
     ]
    },
    {
     "name": "stdout",
     "output_type": "stream",
     "text": [
      "Train data(X, y): (24522, 720, 11) (24522, 288)\n",
      "Validation data(X, y): (134, 720, 11) (134, 288)\n",
      "Test data(X, y): (134, 720, 11) (0,)\n"
     ]
    }
   ],
   "source": [
    "SEQ_LEN = 5\n",
    "(train_x, train_y), (val_x, val_y), (test_x, test_y) = make_train_val_test_data(train_data, SEQ_LEN)"
   ]
  },
  {
   "cell_type": "markdown",
   "id": "6ca2728c",
   "metadata": {},
   "source": [
    "# 3. Modeling"
   ]
  },
  {
   "cell_type": "code",
   "execution_count": 31,
   "id": "e3b5e4c7",
   "metadata": {
    "pycharm": {
     "name": "#%%\n"
    },
    "scrolled": true
   },
   "outputs": [
    {
     "name": "stderr",
     "output_type": "stream",
     "text": [
      "2022-07-11 13:40:07.065733: I tensorflow/stream_executor/cuda/cuda_gpu_executor.cc:975] successful NUMA node read from SysFS had negative value (-1), but there must be at least one NUMA node, so returning NUMA node zero\n",
      "2022-07-11 13:40:07.069225: I tensorflow/stream_executor/cuda/cuda_gpu_executor.cc:975] successful NUMA node read from SysFS had negative value (-1), but there must be at least one NUMA node, so returning NUMA node zero\n",
      "2022-07-11 13:40:07.069393: I tensorflow/stream_executor/cuda/cuda_gpu_executor.cc:975] successful NUMA node read from SysFS had negative value (-1), but there must be at least one NUMA node, so returning NUMA node zero\n"
     ]
    }
   ],
   "source": [
    "import tensorflow as tf\n",
    "from keras.models import Sequential\n",
    "from keras.layers import Dense, LSTM, GRU\n",
    "\n",
    "tf.keras.utils.set_random_seed(RANDOM_STATE)\n",
    "for gpu in tf.config.experimental.list_physical_devices('GPU'):\n",
    "    tf.config.experimental.set_memory_growth(gpu, True)"
   ]
  },
  {
   "cell_type": "code",
   "execution_count": 32,
   "id": "2ed2f29d",
   "metadata": {},
   "outputs": [
    {
     "name": "stderr",
     "output_type": "stream",
     "text": [
      "2022-07-11 13:40:09.134059: I tensorflow/core/platform/cpu_feature_guard.cc:193] This TensorFlow binary is optimized with oneAPI Deep Neural Network Library (oneDNN) to use the following CPU instructions in performance-critical operations:  AVX2 FMA\n",
      "To enable them in other operations, rebuild TensorFlow with the appropriate compiler flags.\n",
      "2022-07-11 13:40:09.134819: I tensorflow/stream_executor/cuda/cuda_gpu_executor.cc:975] successful NUMA node read from SysFS had negative value (-1), but there must be at least one NUMA node, so returning NUMA node zero\n",
      "2022-07-11 13:40:09.135090: I tensorflow/stream_executor/cuda/cuda_gpu_executor.cc:975] successful NUMA node read from SysFS had negative value (-1), but there must be at least one NUMA node, so returning NUMA node zero\n",
      "2022-07-11 13:40:09.135277: I tensorflow/stream_executor/cuda/cuda_gpu_executor.cc:975] successful NUMA node read from SysFS had negative value (-1), but there must be at least one NUMA node, so returning NUMA node zero\n",
      "2022-07-11 13:40:09.439352: I tensorflow/stream_executor/cuda/cuda_gpu_executor.cc:975] successful NUMA node read from SysFS had negative value (-1), but there must be at least one NUMA node, so returning NUMA node zero\n",
      "2022-07-11 13:40:09.439499: I tensorflow/stream_executor/cuda/cuda_gpu_executor.cc:975] successful NUMA node read from SysFS had negative value (-1), but there must be at least one NUMA node, so returning NUMA node zero\n",
      "2022-07-11 13:40:09.439604: I tensorflow/stream_executor/cuda/cuda_gpu_executor.cc:975] successful NUMA node read from SysFS had negative value (-1), but there must be at least one NUMA node, so returning NUMA node zero\n",
      "2022-07-11 13:40:09.439692: I tensorflow/core/common_runtime/gpu/gpu_device.cc:1532] Created device /job:localhost/replica:0/task:0/device:GPU:0 with 22309 MB memory:  -> device: 0, name: NVIDIA GeForce RTX 3090, pci bus id: 0000:01:00.0, compute capability: 8.6\n"
     ]
    }
   ],
   "source": [
    "model = Sequential([\n",
    "    GRU(256, input_shape=train_x[0].shape),\n",
    "    Dense(516, activation='relu'),\n",
    "    Dense(288, activation='relu')\n",
    "])\n",
    "optimizer = tf.optimizers.RMSprop(0.001)\n",
    "model.compile(optimizer=optimizer, loss='mse', metrics=['mae'])"
   ]
  },
  {
   "cell_type": "markdown",
   "id": "2a4ca6cc",
   "metadata": {},
   "source": [
    "# 4. Training"
   ]
  },
  {
   "cell_type": "code",
   "execution_count": 33,
   "id": "151462c9",
   "metadata": {
    "pycharm": {
     "name": "#%%\n"
    },
    "scrolled": false
   },
   "outputs": [
    {
     "name": "stdout",
     "output_type": "stream",
     "text": [
      "Epoch 1/1000\n"
     ]
    },
    {
     "name": "stderr",
     "output_type": "stream",
     "text": [
      "2022-07-11 13:40:16.489603: I tensorflow/stream_executor/cuda/cuda_dnn.cc:384] Loaded cuDNN version 8101\n"
     ]
    },
    {
     "name": "stdout",
     "output_type": "stream",
     "text": [
      "  3/192 [..............................] - ETA: 6s - loss: 324457.5938 - mae: 372.1783  "
     ]
    },
    {
     "name": "stderr",
     "output_type": "stream",
     "text": [
      "2022-07-11 13:40:17.014986: I tensorflow/stream_executor/cuda/cuda_blas.cc:1786] TensorFloat-32 will be used for the matrix multiplication. This will only be logged once.\n"
     ]
    },
    {
     "name": "stdout",
     "output_type": "stream",
     "text": [
      "192/192 [==============================] - 9s 38ms/step - loss: 186423.5156 - mae: 327.6572 - val_loss: 306593.9688 - val_mae: 469.6978\n",
      "Epoch 2/1000\n",
      "192/192 [==============================] - 7s 37ms/step - loss: 161837.2969 - mae: 312.5818 - val_loss: 247971.4219 - val_mae: 412.7185\n",
      "Epoch 3/1000\n",
      "192/192 [==============================] - 7s 37ms/step - loss: 151041.7344 - mae: 300.1900 - val_loss: 246048.4219 - val_mae: 416.4329\n",
      "Epoch 4/1000\n",
      "192/192 [==============================] - 7s 37ms/step - loss: 143353.3750 - mae: 290.3304 - val_loss: 263508.0000 - val_mae: 449.9444\n",
      "Epoch 5/1000\n",
      "192/192 [==============================] - 7s 37ms/step - loss: 137013.2500 - mae: 281.7166 - val_loss: 227419.7812 - val_mae: 403.8564\n",
      "Epoch 6/1000\n",
      "192/192 [==============================] - 7s 37ms/step - loss: 131155.4688 - mae: 273.8357 - val_loss: 215563.3750 - val_mae: 379.5534\n",
      "Epoch 7/1000\n",
      "192/192 [==============================] - 7s 37ms/step - loss: 126386.5312 - mae: 267.2465 - val_loss: 206749.8125 - val_mae: 368.0701\n",
      "Epoch 8/1000\n",
      "192/192 [==============================] - 7s 37ms/step - loss: 122200.1016 - mae: 261.4618 - val_loss: 202725.0469 - val_mae: 371.0593\n",
      "Epoch 9/1000\n",
      "192/192 [==============================] - 7s 37ms/step - loss: 117721.0156 - mae: 255.8542 - val_loss: 191326.2344 - val_mae: 359.4963\n",
      "Epoch 10/1000\n",
      "192/192 [==============================] - 7s 38ms/step - loss: 113556.9609 - mae: 250.4868 - val_loss: 193763.5781 - val_mae: 360.2711\n",
      "Epoch 11/1000\n",
      "192/192 [==============================] - 7s 37ms/step - loss: 110297.8828 - mae: 245.9657 - val_loss: 198907.0156 - val_mae: 349.5911\n",
      "Epoch 12/1000\n",
      "192/192 [==============================] - 7s 37ms/step - loss: 105824.1719 - mae: 240.1747 - val_loss: 207946.5469 - val_mae: 367.6273\n",
      "Epoch 13/1000\n",
      "192/192 [==============================] - 7s 37ms/step - loss: 101875.8516 - mae: 234.4331 - val_loss: 212629.3125 - val_mae: 375.7650\n",
      "Epoch 14/1000\n",
      "192/192 [==============================] - 7s 37ms/step - loss: 97258.9922 - mae: 227.8463 - val_loss: 216508.5156 - val_mae: 381.5746\n",
      "Epoch 15/1000\n",
      "192/192 [==============================] - 7s 37ms/step - loss: 93267.1406 - mae: 222.0462 - val_loss: 213592.5156 - val_mae: 377.8638\n",
      "Epoch 16/1000\n",
      "192/192 [==============================] - 7s 38ms/step - loss: 89705.3594 - mae: 216.8107 - val_loss: 206282.5000 - val_mae: 364.1205\n",
      "Epoch 17/1000\n",
      "192/192 [==============================] - 7s 38ms/step - loss: 86493.6406 - mae: 211.7624 - val_loss: 203312.0312 - val_mae: 363.5382\n",
      "Epoch 18/1000\n",
      "192/192 [==============================] - 7s 37ms/step - loss: 83266.6797 - mae: 206.8636 - val_loss: 209617.0469 - val_mae: 371.0792\n",
      "Epoch 19/1000\n",
      "192/192 [==============================] - 7s 37ms/step - loss: 80136.7734 - mae: 201.9662 - val_loss: 197510.5156 - val_mae: 351.5714\n"
     ]
    }
   ],
   "source": [
    "from tensorflow.keras.callbacks import EarlyStopping\n",
    "\n",
    "model.fit(train_x, train_y, validation_data=(val_x, val_y), epochs=1000, batch_size=128, callbacks=[EarlyStopping(patience=10, restore_best_weights=True)]);"
   ]
  },
  {
   "cell_type": "markdown",
   "id": "67488bd4",
   "metadata": {},
   "source": [
    "# 6. Generate submission"
   ]
  },
  {
   "cell_type": "code",
   "execution_count": 35,
   "id": "cdf88858",
   "metadata": {
    "pycharm": {
     "name": "#%%\n"
    }
   },
   "outputs": [
    {
     "name": "stdout",
     "output_type": "stream",
     "text": [
      "5/5 [==============================] - 0s 13ms/step\n"
     ]
    }
   ],
   "source": [
    "sample_submission['Patv'] = model.predict(test_x).reshape(-1)\n",
    "sample_submission.to_csv(join(PATH.output, \"proposed5.csv\"), index=False)"
   ]
  }
 ],
 "metadata": {
  "kernelspec": {
   "display_name": "full",
   "language": "python",
   "name": "full"
  },
  "language_info": {
   "codemirror_mode": {
    "name": "ipython",
    "version": 3
   },
   "file_extension": ".py",
   "mimetype": "text/x-python",
   "name": "python",
   "nbconvert_exporter": "python",
   "pygments_lexer": "ipython3",
   "version": "3.8.13"
  }
 },
 "nbformat": 4,
 "nbformat_minor": 5
}
