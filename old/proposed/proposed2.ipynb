{
 "cells": [
  {
   "cell_type": "markdown",
   "id": "a99f4000",
   "metadata": {
    "pycharm": {
     "name": "#%% md\n"
    }
   },
   "source": [
    "# Import packages"
   ]
  },
  {
   "cell_type": "code",
   "execution_count": 1,
   "id": "56dfc354",
   "metadata": {
    "pycharm": {
     "name": "#%%\n"
    }
   },
   "outputs": [],
   "source": [
    "import os\n",
    "import sys\n",
    "sys.path.append(os.path.dirname(os.getcwd()))\n",
    "\n",
    "from common import *"
   ]
  },
  {
   "cell_type": "markdown",
   "id": "fe8d4788",
   "metadata": {
    "pycharm": {
     "name": "#%% md\n"
    }
   },
   "source": [
    "# 1. Load dataset"
   ]
  },
  {
   "cell_type": "code",
   "execution_count": 2,
   "id": "8cacc39f",
   "metadata": {
    "pycharm": {
     "name": "#%%\n"
    }
   },
   "outputs": [
    {
     "name": "stdout",
     "output_type": "stream",
     "text": [
      "<class 'pandas.core.frame.DataFrame'>\n",
      "RangeIndex: 3859200 entries, 0 to 3859199\n",
      "Data columns (total 13 columns):\n",
      " #   Column   Dtype  \n",
      "---  ------   -----  \n",
      " 0   TurbID   int64  \n",
      " 1   Day      int64  \n",
      " 2   Tmstamp  object \n",
      " 3   Wspd     float64\n",
      " 4   Wdir     float64\n",
      " 5   Etmp     float64\n",
      " 6   Itmp     float64\n",
      " 7   Ndir     float64\n",
      " 8   Pab1     float64\n",
      " 9   Pab2     float64\n",
      " 10  Pab3     float64\n",
      " 11  Prtv     float64\n",
      " 12  Patv     float64\n",
      "dtypes: float64(10), int64(2), object(1)\n",
      "memory usage: 382.8+ MB\n"
     ]
    }
   ],
   "source": [
    "train_data = pd.read_csv(join(PATH.input, \"train_data.csv\"))\n",
    "sample_submission = pd.read_csv(join(PATH.input, \"sample_submission.csv\"))\n",
    "train_data = train_data.fillna(method = 'bfill')\n",
    "train_data.info()"
   ]
  },
  {
   "cell_type": "markdown",
   "id": "229e9287",
   "metadata": {
    "pycharm": {
     "name": "#%% md\n"
    }
   },
   "source": [
    "# 2. Preprocessing"
   ]
  },
  {
   "cell_type": "markdown",
   "id": "bd33504c",
   "metadata": {
    "pycharm": {
     "name": "#%% md\n"
    }
   },
   "source": [
    "## 1) Training set"
   ]
  },
  {
   "cell_type": "code",
   "execution_count": 3,
   "id": "19d0e8b3",
   "metadata": {
    "pycharm": {
     "name": "#%%\n"
    }
   },
   "outputs": [],
   "source": [
    "tms_list = list(pd.unique(train_data['Tmstamp']))\n",
    "train_data['Tmstamp'] = train_data['Tmstamp'].apply(lambda x: tms_list.index(x)+1)"
   ]
  },
  {
   "cell_type": "code",
   "execution_count": 4,
   "id": "99cc8620",
   "metadata": {
    "pycharm": {
     "name": "#%%\n"
    }
   },
   "outputs": [
    {
     "name": "stderr",
     "output_type": "stream",
     "text": [
      "100%|██████████| 134/134 [00:21<00:00,  6.24it/s]\n"
     ]
    },
    {
     "data": {
      "text/plain": [
       "((25728, 720, 11), (25728, 288))"
      ]
     },
     "execution_count": 4,
     "metadata": {},
     "output_type": "execute_result"
    }
   ],
   "source": [
    "train_x, train_y = make_train_data(train_data, 5, 198)\n",
    "train_x = train_x.reshape(-1, train_x[0].shape[0], train_x[0].shape[1])\n",
    "train_x.shape, train_y.shape"
   ]
  },
  {
   "cell_type": "markdown",
   "id": "9607d3dc",
   "metadata": {
    "pycharm": {
     "name": "#%% md\n"
    }
   },
   "source": [
    "## 2) Validation set"
   ]
  },
  {
   "cell_type": "code",
   "execution_count": 5,
   "id": "acf49a61",
   "metadata": {
    "pycharm": {
     "name": "#%%\n"
    }
   },
   "outputs": [
    {
     "data": {
      "text/plain": [
       "((134, 720, 11), (134, 288))"
      ]
     },
     "execution_count": 5,
     "metadata": {},
     "output_type": "execute_result"
    }
   ],
   "source": [
    "val_x, val_y = make_val_data(train_data, 5)\n",
    "val_x = val_x.reshape(-1, train_x[0].shape[0], train_x[0].shape[1])\n",
    "val_y = val_y.reshape(-1, train_y.shape[-1])\n",
    "val_x.shape, val_y.shape"
   ]
  },
  {
   "cell_type": "markdown",
   "id": "6ca2728c",
   "metadata": {
    "pycharm": {
     "name": "#%% md\n"
    }
   },
   "source": [
    "# 3. Modeling"
   ]
  },
  {
   "cell_type": "code",
   "execution_count": 6,
   "id": "e3b5e4c7",
   "metadata": {
    "pycharm": {
     "name": "#%%\n"
    },
    "scrolled": true
   },
   "outputs": [
    {
     "name": "stderr",
     "output_type": "stream",
     "text": [
      "2022-07-11 06:08:28.358129: I tensorflow/stream_executor/cuda/cuda_gpu_executor.cc:975] successful NUMA node read from SysFS had negative value (-1), but there must be at least one NUMA node, so returning NUMA node zero\n",
      "2022-07-11 06:08:28.361627: I tensorflow/stream_executor/cuda/cuda_gpu_executor.cc:975] successful NUMA node read from SysFS had negative value (-1), but there must be at least one NUMA node, so returning NUMA node zero\n",
      "2022-07-11 06:08:28.361789: I tensorflow/stream_executor/cuda/cuda_gpu_executor.cc:975] successful NUMA node read from SysFS had negative value (-1), but there must be at least one NUMA node, so returning NUMA node zero\n"
     ]
    }
   ],
   "source": [
    "import tensorflow as tf\n",
    "from keras.models import Sequential\n",
    "from keras.layers import Dense, LSTM, GRU\n",
    "\n",
    "tf.keras.utils.set_random_seed(RANDOM_STATE)\n",
    "for gpu in tf.config.experimental.list_physical_devices('GPU'):\n",
    "    tf.config.experimental.set_memory_growth(gpu, True)"
   ]
  },
  {
   "cell_type": "code",
   "execution_count": 7,
   "id": "2ed2f29d",
   "metadata": {
    "pycharm": {
     "name": "#%%\n"
    }
   },
   "outputs": [
    {
     "name": "stderr",
     "output_type": "stream",
     "text": [
      "2022-07-11 06:08:28.450426: I tensorflow/core/platform/cpu_feature_guard.cc:193] This TensorFlow binary is optimized with oneAPI Deep Neural Network Library (oneDNN) to use the following CPU instructions in performance-critical operations:  AVX2 FMA\n",
      "To enable them in other operations, rebuild TensorFlow with the appropriate compiler flags.\n",
      "2022-07-11 06:08:28.451222: I tensorflow/stream_executor/cuda/cuda_gpu_executor.cc:975] successful NUMA node read from SysFS had negative value (-1), but there must be at least one NUMA node, so returning NUMA node zero\n",
      "2022-07-11 06:08:28.451488: I tensorflow/stream_executor/cuda/cuda_gpu_executor.cc:975] successful NUMA node read from SysFS had negative value (-1), but there must be at least one NUMA node, so returning NUMA node zero\n",
      "2022-07-11 06:08:28.451674: I tensorflow/stream_executor/cuda/cuda_gpu_executor.cc:975] successful NUMA node read from SysFS had negative value (-1), but there must be at least one NUMA node, so returning NUMA node zero\n",
      "2022-07-11 06:08:28.750557: I tensorflow/stream_executor/cuda/cuda_gpu_executor.cc:975] successful NUMA node read from SysFS had negative value (-1), but there must be at least one NUMA node, so returning NUMA node zero\n",
      "2022-07-11 06:08:28.750702: I tensorflow/stream_executor/cuda/cuda_gpu_executor.cc:975] successful NUMA node read from SysFS had negative value (-1), but there must be at least one NUMA node, so returning NUMA node zero\n",
      "2022-07-11 06:08:28.750804: I tensorflow/stream_executor/cuda/cuda_gpu_executor.cc:975] successful NUMA node read from SysFS had negative value (-1), but there must be at least one NUMA node, so returning NUMA node zero\n",
      "2022-07-11 06:08:28.750888: I tensorflow/core/common_runtime/gpu/gpu_device.cc:1532] Created device /job:localhost/replica:0/task:0/device:GPU:0 with 22309 MB memory:  -> device: 0, name: NVIDIA GeForce RTX 3090, pci bus id: 0000:01:00.0, compute capability: 8.6\n"
     ]
    }
   ],
   "source": [
    "model = Sequential([\n",
    "    GRU(256, input_shape=train_x[0].shape),\n",
    "    Dense(516, activation='relu'),\n",
    "    Dense(288, activation='relu')\n",
    "])\n",
    "optimizer = tf.optimizers.RMSprop(0.001)\n",
    "model.compile(optimizer=optimizer, loss='mse', metrics=['mae'])"
   ]
  },
  {
   "cell_type": "markdown",
   "id": "2a4ca6cc",
   "metadata": {
    "pycharm": {
     "name": "#%% md\n"
    }
   },
   "source": [
    "# 4. Training"
   ]
  },
  {
   "cell_type": "code",
   "execution_count": 8,
   "id": "151462c9",
   "metadata": {
    "pycharm": {
     "name": "#%%\n"
    },
    "scrolled": false
   },
   "outputs": [
    {
     "name": "stdout",
     "output_type": "stream",
     "text": [
      "Epoch 1/1000\n"
     ]
    },
    {
     "name": "stderr",
     "output_type": "stream",
     "text": [
      "2022-07-11 06:08:30.813263: I tensorflow/stream_executor/cuda/cuda_dnn.cc:384] Loaded cuDNN version 8101\n"
     ]
    },
    {
     "name": "stdout",
     "output_type": "stream",
     "text": [
      "  3/201 [..............................] - ETA: 6s - loss: 320064.9062 - mae: 369.9096  "
     ]
    },
    {
     "name": "stderr",
     "output_type": "stream",
     "text": [
      "2022-07-11 06:08:31.342565: I tensorflow/stream_executor/cuda/cuda_blas.cc:1786] TensorFloat-32 will be used for the matrix multiplication. This will only be logged once.\n"
     ]
    },
    {
     "name": "stdout",
     "output_type": "stream",
     "text": [
      "201/201 [==============================] - 8s 33ms/step - loss: 186202.6719 - mae: 328.7660 - val_loss: 300152.4375 - val_mae: 467.0504\n",
      "Epoch 2/1000\n",
      "201/201 [==============================] - 6s 31ms/step - loss: 161589.4062 - mae: 313.6227 - val_loss: 234131.5156 - val_mae: 404.7098\n",
      "Epoch 3/1000\n",
      "201/201 [==============================] - 6s 32ms/step - loss: 153176.8750 - mae: 302.6916 - val_loss: 240747.1719 - val_mae: 425.0251\n",
      "Epoch 4/1000\n",
      "201/201 [==============================] - 6s 31ms/step - loss: 146116.1562 - mae: 293.2551 - val_loss: 238233.7969 - val_mae: 420.5358\n",
      "Epoch 5/1000\n",
      "201/201 [==============================] - 6s 31ms/step - loss: 139636.5469 - mae: 285.2445 - val_loss: 242287.0156 - val_mae: 422.9377\n",
      "Epoch 6/1000\n",
      "201/201 [==============================] - 6s 32ms/step - loss: 133445.4688 - mae: 277.4088 - val_loss: 205323.9688 - val_mae: 377.7159\n",
      "Epoch 7/1000\n",
      "201/201 [==============================] - 6s 31ms/step - loss: 128356.0234 - mae: 270.6828 - val_loss: 203272.5469 - val_mae: 379.6317\n",
      "Epoch 8/1000\n",
      "201/201 [==============================] - 6s 32ms/step - loss: 124243.7031 - mae: 264.8318 - val_loss: 196993.8594 - val_mae: 357.8604\n",
      "Epoch 9/1000\n",
      "201/201 [==============================] - 6s 32ms/step - loss: 120166.9219 - mae: 259.2561 - val_loss: 183155.1719 - val_mae: 339.7278\n",
      "Epoch 10/1000\n",
      "201/201 [==============================] - 6s 32ms/step - loss: 116255.7344 - mae: 253.7363 - val_loss: 178066.5000 - val_mae: 333.5299\n",
      "Epoch 11/1000\n",
      "201/201 [==============================] - 6s 32ms/step - loss: 112182.2188 - mae: 248.3153 - val_loss: 196074.0312 - val_mae: 364.5037\n",
      "Epoch 12/1000\n",
      "201/201 [==============================] - 6s 32ms/step - loss: 107520.6406 - mae: 242.6022 - val_loss: 196942.2500 - val_mae: 361.7631\n",
      "Epoch 13/1000\n",
      "201/201 [==============================] - 7s 33ms/step - loss: 103097.5156 - mae: 236.3227 - val_loss: 199921.4531 - val_mae: 363.3268\n",
      "Epoch 14/1000\n",
      "201/201 [==============================] - 6s 31ms/step - loss: 98822.2891 - mae: 229.9511 - val_loss: 203413.7031 - val_mae: 353.7193\n",
      "Epoch 15/1000\n",
      "201/201 [==============================] - 6s 32ms/step - loss: 95047.4609 - mae: 224.2009 - val_loss: 204583.0625 - val_mae: 353.8409\n",
      "Epoch 16/1000\n",
      "201/201 [==============================] - 6s 32ms/step - loss: 91276.8594 - mae: 218.5352 - val_loss: 199576.8281 - val_mae: 353.4732\n",
      "Epoch 17/1000\n",
      "201/201 [==============================] - 7s 33ms/step - loss: 87583.2266 - mae: 213.6204 - val_loss: 197745.7344 - val_mae: 349.8960\n",
      "Epoch 18/1000\n",
      "201/201 [==============================] - 6s 31ms/step - loss: 84417.5625 - mae: 208.8901 - val_loss: 212201.6719 - val_mae: 358.2166\n",
      "Epoch 19/1000\n",
      "201/201 [==============================] - 6s 32ms/step - loss: 81480.8125 - mae: 204.4280 - val_loss: 207248.0000 - val_mae: 363.7713\n",
      "Epoch 20/1000\n",
      "201/201 [==============================] - 7s 33ms/step - loss: 78475.6250 - mae: 199.7472 - val_loss: 219090.8750 - val_mae: 372.9315\n"
     ]
    }
   ],
   "source": [
    "from tensorflow.keras.callbacks import EarlyStopping\n",
    "\n",
    "model.fit(train_x, train_y, validation_data=(val_x, val_y), epochs=1000, batch_size=128, callbacks=[EarlyStopping(patience=10, restore_best_weights=True)]);"
   ]
  },
  {
   "cell_type": "markdown",
   "id": "19453ec8",
   "metadata": {
    "pycharm": {
     "name": "#%% md\n"
    }
   },
   "source": [
    "# 5. Predict"
   ]
  },
  {
   "cell_type": "code",
   "execution_count": 11,
   "id": "bfd0bdc6",
   "metadata": {
    "pycharm": {
     "name": "#%%\n"
    }
   },
   "outputs": [
    {
     "data": {
      "text/plain": [
       "(134, 720, 11)"
      ]
     },
     "execution_count": 11,
     "metadata": {},
     "output_type": "execute_result"
    }
   ],
   "source": [
    "test_data_list = [x for x in range(196, 201)]\n",
    "test_data      = train_data[train_data[\"Day\"].isin(test_data_list)]\n",
    "test_data      = test_data.drop([\"TurbID\", \"Day\"], axis=1)\n",
    "test_data      = np.array(test_data).reshape(-1, train_x[0].shape[0], train_x[0].shape[1])\n",
    "test_data.shape"
   ]
  },
  {
   "cell_type": "markdown",
   "id": "67488bd4",
   "metadata": {
    "pycharm": {
     "name": "#%% md\n"
    }
   },
   "source": [
    "# 6. Generate submission"
   ]
  },
  {
   "cell_type": "code",
   "execution_count": 12,
   "id": "cdf88858",
   "metadata": {
    "pycharm": {
     "name": "#%%\n"
    }
   },
   "outputs": [
    {
     "name": "stdout",
     "output_type": "stream",
     "text": [
      "5/5 [==============================] - 0s 12ms/step\n"
     ]
    }
   ],
   "source": [
    "sample_submission['Patv'] = model.predict(test_data).reshape(-1)\n",
    "sample_submission.to_csv(join(PATH.output, \"proposed2.csv\"), index=False)"
   ]
  }
 ],
 "metadata": {
  "kernelspec": {
   "display_name": "full",
   "language": "python",
   "name": "full"
  },
  "language_info": {
   "codemirror_mode": {
    "name": "ipython",
    "version": 3
   },
   "file_extension": ".py",
   "mimetype": "text/x-python",
   "name": "python",
   "nbconvert_exporter": "python",
   "pygments_lexer": "ipython3",
   "version": "3.8.13"
  }
 },
 "nbformat": 4,
 "nbformat_minor": 5
}