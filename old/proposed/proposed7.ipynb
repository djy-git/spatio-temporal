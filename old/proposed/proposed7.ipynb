{
 "cells": [
  {
   "cell_type": "markdown",
   "id": "a99f4000",
   "metadata": {},
   "source": [
    "# Import packages"
   ]
  },
  {
   "cell_type": "code",
   "execution_count": 1,
   "id": "56dfc354",
   "metadata": {
    "pycharm": {
     "name": "#%%\n"
    }
   },
   "outputs": [],
   "source": [
    "%load_ext autoreload\n",
    "%autoreload 2\n",
    "\n",
    "import os\n",
    "import sys\n",
    "sys.path.append(os.path.dirname(os.getcwd()))\n",
    "\n",
    "from common import *"
   ]
  },
  {
   "cell_type": "markdown",
   "id": "fe8d4788",
   "metadata": {},
   "source": [
    "# 1. Load dataset"
   ]
  },
  {
   "cell_type": "code",
   "execution_count": 2,
   "id": "8cacc39f",
   "metadata": {
    "pycharm": {
     "name": "#%%\n"
    }
   },
   "outputs": [
    {
     "name": "stdout",
     "output_type": "stream",
     "text": [
      "<class 'pandas.core.frame.DataFrame'>\n",
      "RangeIndex: 3859200 entries, 0 to 3859199\n",
      "Data columns (total 13 columns):\n",
      " #   Column   Dtype  \n",
      "---  ------   -----  \n",
      " 0   TurbID   int64  \n",
      " 1   Day      int64  \n",
      " 2   Tmstamp  object \n",
      " 3   Wspd     float64\n",
      " 4   Wdir     float64\n",
      " 5   Etmp     float64\n",
      " 6   Itmp     float64\n",
      " 7   Ndir     float64\n",
      " 8   Pab1     float64\n",
      " 9   Pab2     float64\n",
      " 10  Pab3     float64\n",
      " 11  Prtv     float64\n",
      " 12  Patv     float64\n",
      "dtypes: float64(10), int64(2), object(1)\n",
      "memory usage: 382.8+ MB\n"
     ]
    }
   ],
   "source": [
    "train_data = pd.read_csv(join(PATH.input, \"train_data.csv\"))\n",
    "sample_submission = pd.read_csv(join(PATH.input, \"sample_submission.csv\"))\n",
    "train_data.info()"
   ]
  },
  {
   "cell_type": "markdown",
   "id": "229e9287",
   "metadata": {},
   "source": [
    "# 2. Preprocessing"
   ]
  },
  {
   "cell_type": "markdown",
   "id": "7c0ec192",
   "metadata": {},
   "source": [
    "## 1) Generate `Time`"
   ]
  },
  {
   "cell_type": "code",
   "execution_count": 3,
   "id": "c8fbdd2b",
   "metadata": {},
   "outputs": [
    {
     "name": "stdout",
     "output_type": "stream",
     "text": [
      "CPU times: user 5.36 s, sys: 93.3 ms, total: 5.45 s\n",
      "Wall time: 3.45 s\n"
     ]
    }
   ],
   "source": [
    "%%time\n",
    "train_data = generate_full_timestamp(train_data)"
   ]
  },
  {
   "cell_type": "code",
   "execution_count": 4,
   "id": "1374271f",
   "metadata": {},
   "outputs": [
    {
     "data": {
      "text/html": [
       "<div>\n",
       "<style scoped>\n",
       "    .dataframe tbody tr th:only-of-type {\n",
       "        vertical-align: middle;\n",
       "    }\n",
       "\n",
       "    .dataframe tbody tr th {\n",
       "        vertical-align: top;\n",
       "    }\n",
       "\n",
       "    .dataframe thead th {\n",
       "        text-align: right;\n",
       "    }\n",
       "</style>\n",
       "<table border=\"1\" class=\"dataframe\">\n",
       "  <thead>\n",
       "    <tr style=\"text-align: right;\">\n",
       "      <th></th>\n",
       "      <th>TurbID</th>\n",
       "      <th>Day</th>\n",
       "      <th>Tmstamp</th>\n",
       "      <th>Wspd</th>\n",
       "      <th>Wdir</th>\n",
       "      <th>Etmp</th>\n",
       "      <th>Itmp</th>\n",
       "      <th>Ndir</th>\n",
       "      <th>Pab1</th>\n",
       "      <th>Pab2</th>\n",
       "      <th>Pab3</th>\n",
       "      <th>Prtv</th>\n",
       "      <th>Patv</th>\n",
       "      <th>Time</th>\n",
       "    </tr>\n",
       "  </thead>\n",
       "  <tbody>\n",
       "    <tr>\n",
       "      <th>0</th>\n",
       "      <td>1</td>\n",
       "      <td>1</td>\n",
       "      <td>00:00</td>\n",
       "      <td>NaN</td>\n",
       "      <td>NaN</td>\n",
       "      <td>NaN</td>\n",
       "      <td>NaN</td>\n",
       "      <td>NaN</td>\n",
       "      <td>NaN</td>\n",
       "      <td>NaN</td>\n",
       "      <td>NaN</td>\n",
       "      <td>NaN</td>\n",
       "      <td>NaN</td>\n",
       "      <td>1</td>\n",
       "    </tr>\n",
       "    <tr>\n",
       "      <th>1</th>\n",
       "      <td>1</td>\n",
       "      <td>1</td>\n",
       "      <td>00:10</td>\n",
       "      <td>6.17</td>\n",
       "      <td>-3.99</td>\n",
       "      <td>30.73</td>\n",
       "      <td>41.80</td>\n",
       "      <td>25.92</td>\n",
       "      <td>1.00</td>\n",
       "      <td>1.00</td>\n",
       "      <td>1.00</td>\n",
       "      <td>-0.25</td>\n",
       "      <td>494.66</td>\n",
       "      <td>2</td>\n",
       "    </tr>\n",
       "    <tr>\n",
       "      <th>2</th>\n",
       "      <td>1</td>\n",
       "      <td>1</td>\n",
       "      <td>00:20</td>\n",
       "      <td>6.27</td>\n",
       "      <td>-2.18</td>\n",
       "      <td>30.60</td>\n",
       "      <td>41.63</td>\n",
       "      <td>20.91</td>\n",
       "      <td>1.00</td>\n",
       "      <td>1.00</td>\n",
       "      <td>1.00</td>\n",
       "      <td>-0.24</td>\n",
       "      <td>509.76</td>\n",
       "      <td>3</td>\n",
       "    </tr>\n",
       "    <tr>\n",
       "      <th>3</th>\n",
       "      <td>1</td>\n",
       "      <td>1</td>\n",
       "      <td>00:30</td>\n",
       "      <td>6.42</td>\n",
       "      <td>-0.73</td>\n",
       "      <td>30.52</td>\n",
       "      <td>41.52</td>\n",
       "      <td>20.91</td>\n",
       "      <td>1.00</td>\n",
       "      <td>1.00</td>\n",
       "      <td>1.00</td>\n",
       "      <td>-0.26</td>\n",
       "      <td>542.53</td>\n",
       "      <td>4</td>\n",
       "    </tr>\n",
       "    <tr>\n",
       "      <th>4</th>\n",
       "      <td>1</td>\n",
       "      <td>1</td>\n",
       "      <td>00:40</td>\n",
       "      <td>6.25</td>\n",
       "      <td>0.89</td>\n",
       "      <td>30.49</td>\n",
       "      <td>41.38</td>\n",
       "      <td>20.91</td>\n",
       "      <td>1.00</td>\n",
       "      <td>1.00</td>\n",
       "      <td>1.00</td>\n",
       "      <td>-0.23</td>\n",
       "      <td>509.36</td>\n",
       "      <td>5</td>\n",
       "    </tr>\n",
       "    <tr>\n",
       "      <th>...</th>\n",
       "      <td>...</td>\n",
       "      <td>...</td>\n",
       "      <td>...</td>\n",
       "      <td>...</td>\n",
       "      <td>...</td>\n",
       "      <td>...</td>\n",
       "      <td>...</td>\n",
       "      <td>...</td>\n",
       "      <td>...</td>\n",
       "      <td>...</td>\n",
       "      <td>...</td>\n",
       "      <td>...</td>\n",
       "      <td>...</td>\n",
       "      <td>...</td>\n",
       "    </tr>\n",
       "    <tr>\n",
       "      <th>139</th>\n",
       "      <td>1</td>\n",
       "      <td>1</td>\n",
       "      <td>23:10</td>\n",
       "      <td>9.95</td>\n",
       "      <td>0.49</td>\n",
       "      <td>28.71</td>\n",
       "      <td>42.53</td>\n",
       "      <td>-9.44</td>\n",
       "      <td>1.02</td>\n",
       "      <td>1.02</td>\n",
       "      <td>1.02</td>\n",
       "      <td>-0.29</td>\n",
       "      <td>1330.24</td>\n",
       "      <td>140</td>\n",
       "    </tr>\n",
       "    <tr>\n",
       "      <th>140</th>\n",
       "      <td>1</td>\n",
       "      <td>1</td>\n",
       "      <td>23:20</td>\n",
       "      <td>12.20</td>\n",
       "      <td>0.70</td>\n",
       "      <td>28.59</td>\n",
       "      <td>42.56</td>\n",
       "      <td>-8.17</td>\n",
       "      <td>1.08</td>\n",
       "      <td>1.08</td>\n",
       "      <td>1.08</td>\n",
       "      <td>-0.23</td>\n",
       "      <td>1550.74</td>\n",
       "      <td>141</td>\n",
       "    </tr>\n",
       "    <tr>\n",
       "      <th>141</th>\n",
       "      <td>1</td>\n",
       "      <td>1</td>\n",
       "      <td>23:30</td>\n",
       "      <td>12.66</td>\n",
       "      <td>1.09</td>\n",
       "      <td>28.54</td>\n",
       "      <td>42.23</td>\n",
       "      <td>-8.17</td>\n",
       "      <td>1.08</td>\n",
       "      <td>1.08</td>\n",
       "      <td>1.08</td>\n",
       "      <td>-0.21</td>\n",
       "      <td>1549.66</td>\n",
       "      <td>142</td>\n",
       "    </tr>\n",
       "    <tr>\n",
       "      <th>142</th>\n",
       "      <td>1</td>\n",
       "      <td>1</td>\n",
       "      <td>23:40</td>\n",
       "      <td>12.58</td>\n",
       "      <td>1.70</td>\n",
       "      <td>28.48</td>\n",
       "      <td>42.09</td>\n",
       "      <td>-8.17</td>\n",
       "      <td>1.08</td>\n",
       "      <td>1.08</td>\n",
       "      <td>1.08</td>\n",
       "      <td>-0.20</td>\n",
       "      <td>1549.64</td>\n",
       "      <td>143</td>\n",
       "    </tr>\n",
       "    <tr>\n",
       "      <th>143</th>\n",
       "      <td>1</td>\n",
       "      <td>1</td>\n",
       "      <td>23:50</td>\n",
       "      <td>9.95</td>\n",
       "      <td>-0.42</td>\n",
       "      <td>28.31</td>\n",
       "      <td>42.09</td>\n",
       "      <td>-8.17</td>\n",
       "      <td>1.01</td>\n",
       "      <td>1.01</td>\n",
       "      <td>1.01</td>\n",
       "      <td>-0.20</td>\n",
       "      <td>1361.95</td>\n",
       "      <td>144</td>\n",
       "    </tr>\n",
       "  </tbody>\n",
       "</table>\n",
       "<p>144 rows × 14 columns</p>\n",
       "</div>"
      ],
      "text/plain": [
       "     TurbID  Day Tmstamp   Wspd  Wdir   Etmp   Itmp   Ndir  Pab1  Pab2  Pab3  Prtv     Patv  Time\n",
       "0         1    1   00:00    NaN   NaN    NaN    NaN    NaN   NaN   NaN   NaN   NaN      NaN     1\n",
       "1         1    1   00:10   6.17 -3.99  30.73  41.80  25.92  1.00  1.00  1.00 -0.25   494.66     2\n",
       "2         1    1   00:20   6.27 -2.18  30.60  41.63  20.91  1.00  1.00  1.00 -0.24   509.76     3\n",
       "3         1    1   00:30   6.42 -0.73  30.52  41.52  20.91  1.00  1.00  1.00 -0.26   542.53     4\n",
       "4         1    1   00:40   6.25  0.89  30.49  41.38  20.91  1.00  1.00  1.00 -0.23   509.36     5\n",
       "..      ...  ...     ...    ...   ...    ...    ...    ...   ...   ...   ...   ...      ...   ...\n",
       "139       1    1   23:10   9.95  0.49  28.71  42.53  -9.44  1.02  1.02  1.02 -0.29  1330.24   140\n",
       "140       1    1   23:20  12.20  0.70  28.59  42.56  -8.17  1.08  1.08  1.08 -0.23  1550.74   141\n",
       "141       1    1   23:30  12.66  1.09  28.54  42.23  -8.17  1.08  1.08  1.08 -0.21  1549.66   142\n",
       "142       1    1   23:40  12.58  1.70  28.48  42.09  -8.17  1.08  1.08  1.08 -0.20  1549.64   143\n",
       "143       1    1   23:50   9.95 -0.42  28.31  42.09  -8.17  1.01  1.01  1.01 -0.20  1361.95   144\n",
       "\n",
       "[144 rows x 14 columns]"
      ]
     },
     "execution_count": 4,
     "metadata": {},
     "output_type": "execute_result"
    }
   ],
   "source": [
    "train_data[(train_data['TurbID'] == 1) & (train_data['Day'] == 1)]"
   ]
  },
  {
   "cell_type": "code",
   "execution_count": 5,
   "id": "d794388c",
   "metadata": {},
   "outputs": [
    {
     "data": {
      "text/html": [
       "<div>\n",
       "<style scoped>\n",
       "    .dataframe tbody tr th:only-of-type {\n",
       "        vertical-align: middle;\n",
       "    }\n",
       "\n",
       "    .dataframe tbody tr th {\n",
       "        vertical-align: top;\n",
       "    }\n",
       "\n",
       "    .dataframe thead th {\n",
       "        text-align: right;\n",
       "    }\n",
       "</style>\n",
       "<table border=\"1\" class=\"dataframe\">\n",
       "  <thead>\n",
       "    <tr style=\"text-align: right;\">\n",
       "      <th></th>\n",
       "      <th>TurbID</th>\n",
       "      <th>Day</th>\n",
       "      <th>Tmstamp</th>\n",
       "      <th>Wspd</th>\n",
       "      <th>Wdir</th>\n",
       "      <th>Etmp</th>\n",
       "      <th>Itmp</th>\n",
       "      <th>Ndir</th>\n",
       "      <th>Pab1</th>\n",
       "      <th>Pab2</th>\n",
       "      <th>Pab3</th>\n",
       "      <th>Prtv</th>\n",
       "      <th>Patv</th>\n",
       "      <th>Time</th>\n",
       "    </tr>\n",
       "  </thead>\n",
       "  <tbody>\n",
       "    <tr>\n",
       "      <th>144</th>\n",
       "      <td>1</td>\n",
       "      <td>2</td>\n",
       "      <td>00:00</td>\n",
       "      <td>10.64</td>\n",
       "      <td>-1.59</td>\n",
       "      <td>28.10</td>\n",
       "      <td>42.17</td>\n",
       "      <td>-9.66</td>\n",
       "      <td>1.01</td>\n",
       "      <td>1.01</td>\n",
       "      <td>1.01</td>\n",
       "      <td>-0.27</td>\n",
       "      <td>1468.21</td>\n",
       "      <td>145</td>\n",
       "    </tr>\n",
       "    <tr>\n",
       "      <th>145</th>\n",
       "      <td>1</td>\n",
       "      <td>2</td>\n",
       "      <td>00:10</td>\n",
       "      <td>7.00</td>\n",
       "      <td>0.84</td>\n",
       "      <td>27.87</td>\n",
       "      <td>42.05</td>\n",
       "      <td>-2.77</td>\n",
       "      <td>1.00</td>\n",
       "      <td>1.00</td>\n",
       "      <td>1.00</td>\n",
       "      <td>-0.16</td>\n",
       "      <td>718.12</td>\n",
       "      <td>146</td>\n",
       "    </tr>\n",
       "    <tr>\n",
       "      <th>146</th>\n",
       "      <td>1</td>\n",
       "      <td>2</td>\n",
       "      <td>00:20</td>\n",
       "      <td>5.87</td>\n",
       "      <td>-2.61</td>\n",
       "      <td>27.38</td>\n",
       "      <td>41.73</td>\n",
       "      <td>-9.17</td>\n",
       "      <td>0.99</td>\n",
       "      <td>0.99</td>\n",
       "      <td>0.99</td>\n",
       "      <td>-0.27</td>\n",
       "      <td>442.15</td>\n",
       "      <td>147</td>\n",
       "    </tr>\n",
       "    <tr>\n",
       "      <th>147</th>\n",
       "      <td>1</td>\n",
       "      <td>2</td>\n",
       "      <td>00:30</td>\n",
       "      <td>4.00</td>\n",
       "      <td>3.26</td>\n",
       "      <td>27.13</td>\n",
       "      <td>41.76</td>\n",
       "      <td>-8.20</td>\n",
       "      <td>0.99</td>\n",
       "      <td>0.99</td>\n",
       "      <td>0.99</td>\n",
       "      <td>-0.21</td>\n",
       "      <td>196.04</td>\n",
       "      <td>148</td>\n",
       "    </tr>\n",
       "    <tr>\n",
       "      <th>148</th>\n",
       "      <td>1</td>\n",
       "      <td>2</td>\n",
       "      <td>00:40</td>\n",
       "      <td>4.03</td>\n",
       "      <td>2.88</td>\n",
       "      <td>26.99</td>\n",
       "      <td>41.66</td>\n",
       "      <td>2.82</td>\n",
       "      <td>0.99</td>\n",
       "      <td>0.99</td>\n",
       "      <td>0.99</td>\n",
       "      <td>-0.23</td>\n",
       "      <td>234.35</td>\n",
       "      <td>149</td>\n",
       "    </tr>\n",
       "    <tr>\n",
       "      <th>...</th>\n",
       "      <td>...</td>\n",
       "      <td>...</td>\n",
       "      <td>...</td>\n",
       "      <td>...</td>\n",
       "      <td>...</td>\n",
       "      <td>...</td>\n",
       "      <td>...</td>\n",
       "      <td>...</td>\n",
       "      <td>...</td>\n",
       "      <td>...</td>\n",
       "      <td>...</td>\n",
       "      <td>...</td>\n",
       "      <td>...</td>\n",
       "      <td>...</td>\n",
       "    </tr>\n",
       "    <tr>\n",
       "      <th>283</th>\n",
       "      <td>1</td>\n",
       "      <td>2</td>\n",
       "      <td>23:10</td>\n",
       "      <td>10.82</td>\n",
       "      <td>-1.22</td>\n",
       "      <td>27.77</td>\n",
       "      <td>40.18</td>\n",
       "      <td>7.52</td>\n",
       "      <td>1.01</td>\n",
       "      <td>1.01</td>\n",
       "      <td>1.01</td>\n",
       "      <td>-0.19</td>\n",
       "      <td>1516.64</td>\n",
       "      <td>284</td>\n",
       "    </tr>\n",
       "    <tr>\n",
       "      <th>284</th>\n",
       "      <td>1</td>\n",
       "      <td>2</td>\n",
       "      <td>23:20</td>\n",
       "      <td>11.37</td>\n",
       "      <td>1.52</td>\n",
       "      <td>27.55</td>\n",
       "      <td>40.22</td>\n",
       "      <td>7.49</td>\n",
       "      <td>1.04</td>\n",
       "      <td>1.04</td>\n",
       "      <td>1.04</td>\n",
       "      <td>-0.22</td>\n",
       "      <td>1543.12</td>\n",
       "      <td>285</td>\n",
       "    </tr>\n",
       "    <tr>\n",
       "      <th>285</th>\n",
       "      <td>1</td>\n",
       "      <td>2</td>\n",
       "      <td>23:30</td>\n",
       "      <td>11.98</td>\n",
       "      <td>1.55</td>\n",
       "      <td>27.37</td>\n",
       "      <td>40.29</td>\n",
       "      <td>7.44</td>\n",
       "      <td>1.07</td>\n",
       "      <td>1.07</td>\n",
       "      <td>1.07</td>\n",
       "      <td>-0.19</td>\n",
       "      <td>1549.74</td>\n",
       "      <td>286</td>\n",
       "    </tr>\n",
       "    <tr>\n",
       "      <th>286</th>\n",
       "      <td>1</td>\n",
       "      <td>2</td>\n",
       "      <td>23:40</td>\n",
       "      <td>11.80</td>\n",
       "      <td>0.19</td>\n",
       "      <td>27.17</td>\n",
       "      <td>40.25</td>\n",
       "      <td>7.42</td>\n",
       "      <td>1.06</td>\n",
       "      <td>1.06</td>\n",
       "      <td>1.06</td>\n",
       "      <td>-0.19</td>\n",
       "      <td>1549.64</td>\n",
       "      <td>287</td>\n",
       "    </tr>\n",
       "    <tr>\n",
       "      <th>287</th>\n",
       "      <td>1</td>\n",
       "      <td>2</td>\n",
       "      <td>23:50</td>\n",
       "      <td>11.76</td>\n",
       "      <td>-1.88</td>\n",
       "      <td>26.97</td>\n",
       "      <td>40.23</td>\n",
       "      <td>7.42</td>\n",
       "      <td>1.06</td>\n",
       "      <td>1.06</td>\n",
       "      <td>1.06</td>\n",
       "      <td>-0.18</td>\n",
       "      <td>1549.35</td>\n",
       "      <td>288</td>\n",
       "    </tr>\n",
       "  </tbody>\n",
       "</table>\n",
       "<p>144 rows × 14 columns</p>\n",
       "</div>"
      ],
      "text/plain": [
       "     TurbID  Day Tmstamp   Wspd  Wdir   Etmp   Itmp  Ndir  Pab1  Pab2  Pab3  Prtv     Patv  Time\n",
       "144       1    2   00:00  10.64 -1.59  28.10  42.17 -9.66  1.01  1.01  1.01 -0.27  1468.21   145\n",
       "145       1    2   00:10   7.00  0.84  27.87  42.05 -2.77  1.00  1.00  1.00 -0.16   718.12   146\n",
       "146       1    2   00:20   5.87 -2.61  27.38  41.73 -9.17  0.99  0.99  0.99 -0.27   442.15   147\n",
       "147       1    2   00:30   4.00  3.26  27.13  41.76 -8.20  0.99  0.99  0.99 -0.21   196.04   148\n",
       "148       1    2   00:40   4.03  2.88  26.99  41.66  2.82  0.99  0.99  0.99 -0.23   234.35   149\n",
       "..      ...  ...     ...    ...   ...    ...    ...   ...   ...   ...   ...   ...      ...   ...\n",
       "283       1    2   23:10  10.82 -1.22  27.77  40.18  7.52  1.01  1.01  1.01 -0.19  1516.64   284\n",
       "284       1    2   23:20  11.37  1.52  27.55  40.22  7.49  1.04  1.04  1.04 -0.22  1543.12   285\n",
       "285       1    2   23:30  11.98  1.55  27.37  40.29  7.44  1.07  1.07  1.07 -0.19  1549.74   286\n",
       "286       1    2   23:40  11.80  0.19  27.17  40.25  7.42  1.06  1.06  1.06 -0.19  1549.64   287\n",
       "287       1    2   23:50  11.76 -1.88  26.97  40.23  7.42  1.06  1.06  1.06 -0.18  1549.35   288\n",
       "\n",
       "[144 rows x 14 columns]"
      ]
     },
     "execution_count": 5,
     "metadata": {},
     "output_type": "execute_result"
    }
   ],
   "source": [
    "train_data[(train_data['TurbID'] == 1) & (train_data['Day'] == 2)]"
   ]
  },
  {
   "cell_type": "markdown",
   "id": "172d8aef",
   "metadata": {},
   "source": [
    "## 2) Imputing"
   ]
  },
  {
   "cell_type": "code",
   "execution_count": 6,
   "id": "cf693766",
   "metadata": {},
   "outputs": [
    {
     "name": "stdout",
     "output_type": "stream",
     "text": [
      "Number of Nan values: 0\n"
     ]
    }
   ],
   "source": [
    "train_data = impute_data(train_data)"
   ]
  },
  {
   "cell_type": "code",
   "execution_count": 7,
   "id": "b77aa378",
   "metadata": {},
   "outputs": [],
   "source": [
    "train_data.drop(columns=['Day', 'Tmstamp'], inplace=True)"
   ]
  },
  {
   "cell_type": "code",
   "execution_count": 8,
   "id": "1e8ff328",
   "metadata": {},
   "outputs": [
    {
     "data": {
      "text/html": [
       "<div>\n",
       "<style scoped>\n",
       "    .dataframe tbody tr th:only-of-type {\n",
       "        vertical-align: middle;\n",
       "    }\n",
       "\n",
       "    .dataframe tbody tr th {\n",
       "        vertical-align: top;\n",
       "    }\n",
       "\n",
       "    .dataframe thead th {\n",
       "        text-align: right;\n",
       "    }\n",
       "</style>\n",
       "<table border=\"1\" class=\"dataframe\">\n",
       "  <thead>\n",
       "    <tr style=\"text-align: right;\">\n",
       "      <th></th>\n",
       "      <th>TurbID</th>\n",
       "      <th>Wspd</th>\n",
       "      <th>Wdir</th>\n",
       "      <th>Etmp</th>\n",
       "      <th>Itmp</th>\n",
       "      <th>Ndir</th>\n",
       "      <th>Pab1</th>\n",
       "      <th>Pab2</th>\n",
       "      <th>Pab3</th>\n",
       "      <th>Prtv</th>\n",
       "      <th>Patv</th>\n",
       "      <th>Time</th>\n",
       "    </tr>\n",
       "  </thead>\n",
       "  <tbody>\n",
       "    <tr>\n",
       "      <th>0</th>\n",
       "      <td>1</td>\n",
       "      <td>6.17</td>\n",
       "      <td>-3.99</td>\n",
       "      <td>30.73</td>\n",
       "      <td>41.80</td>\n",
       "      <td>25.92</td>\n",
       "      <td>1.0</td>\n",
       "      <td>1.0</td>\n",
       "      <td>1.0</td>\n",
       "      <td>-0.25</td>\n",
       "      <td>494.66</td>\n",
       "      <td>1</td>\n",
       "    </tr>\n",
       "    <tr>\n",
       "      <th>1</th>\n",
       "      <td>1</td>\n",
       "      <td>6.17</td>\n",
       "      <td>-3.99</td>\n",
       "      <td>30.73</td>\n",
       "      <td>41.80</td>\n",
       "      <td>25.92</td>\n",
       "      <td>1.0</td>\n",
       "      <td>1.0</td>\n",
       "      <td>1.0</td>\n",
       "      <td>-0.25</td>\n",
       "      <td>494.66</td>\n",
       "      <td>2</td>\n",
       "    </tr>\n",
       "    <tr>\n",
       "      <th>2</th>\n",
       "      <td>1</td>\n",
       "      <td>6.27</td>\n",
       "      <td>-2.18</td>\n",
       "      <td>30.60</td>\n",
       "      <td>41.63</td>\n",
       "      <td>20.91</td>\n",
       "      <td>1.0</td>\n",
       "      <td>1.0</td>\n",
       "      <td>1.0</td>\n",
       "      <td>-0.24</td>\n",
       "      <td>509.76</td>\n",
       "      <td>3</td>\n",
       "    </tr>\n",
       "    <tr>\n",
       "      <th>3</th>\n",
       "      <td>1</td>\n",
       "      <td>6.42</td>\n",
       "      <td>-0.73</td>\n",
       "      <td>30.52</td>\n",
       "      <td>41.52</td>\n",
       "      <td>20.91</td>\n",
       "      <td>1.0</td>\n",
       "      <td>1.0</td>\n",
       "      <td>1.0</td>\n",
       "      <td>-0.26</td>\n",
       "      <td>542.53</td>\n",
       "      <td>4</td>\n",
       "    </tr>\n",
       "    <tr>\n",
       "      <th>4</th>\n",
       "      <td>1</td>\n",
       "      <td>6.25</td>\n",
       "      <td>0.89</td>\n",
       "      <td>30.49</td>\n",
       "      <td>41.38</td>\n",
       "      <td>20.91</td>\n",
       "      <td>1.0</td>\n",
       "      <td>1.0</td>\n",
       "      <td>1.0</td>\n",
       "      <td>-0.23</td>\n",
       "      <td>509.36</td>\n",
       "      <td>5</td>\n",
       "    </tr>\n",
       "  </tbody>\n",
       "</table>\n",
       "</div>"
      ],
      "text/plain": [
       "   TurbID  Wspd  Wdir   Etmp   Itmp   Ndir  Pab1  Pab2  Pab3  Prtv    Patv  Time\n",
       "0       1  6.17 -3.99  30.73  41.80  25.92   1.0   1.0   1.0 -0.25  494.66     1\n",
       "1       1  6.17 -3.99  30.73  41.80  25.92   1.0   1.0   1.0 -0.25  494.66     2\n",
       "2       1  6.27 -2.18  30.60  41.63  20.91   1.0   1.0   1.0 -0.24  509.76     3\n",
       "3       1  6.42 -0.73  30.52  41.52  20.91   1.0   1.0   1.0 -0.26  542.53     4\n",
       "4       1  6.25  0.89  30.49  41.38  20.91   1.0   1.0   1.0 -0.23  509.36     5"
      ]
     },
     "execution_count": 8,
     "metadata": {},
     "output_type": "execute_result"
    }
   ],
   "source": [
    "train_data.head()"
   ]
  },
  {
   "cell_type": "markdown",
   "id": "5d4461ef",
   "metadata": {},
   "source": [
    "## 3) Split data"
   ]
  },
  {
   "cell_type": "code",
   "execution_count": 9,
   "id": "f44834ef",
   "metadata": {},
   "outputs": [],
   "source": [
    "IN_SEQ_LEN  = 5*144\n",
    "OUT_SEQ_LEN = 2*144\n",
    "STRIDE      = 1*144\n",
    "SHUFFLE     = False\n",
    "TEST_SIZE   = 0.2"
   ]
  },
  {
   "cell_type": "code",
   "execution_count": 21,
   "id": "940773f0",
   "metadata": {},
   "outputs": [
    {
     "name": "stderr",
     "output_type": "stream",
     "text": [
      "100%|██████████| 134/134 [00:13<00:00,  9.92it/s]\n"
     ]
    },
    {
     "name": "stdout",
     "output_type": "stream",
     "text": [
      "Train data(X, y)     : (19832, 720, 11) (19832, 288, 11)\n",
      "Validation data(X, y): (4958, 720, 11) (4958, 288, 11)\n",
      "Test data(X)         : (134, 720, 11)\n"
     ]
    }
   ],
   "source": [
    "train_x, train_y, val_x, val_y, test_x = make_train_val_test_data(train_data, IN_SEQ_LEN, OUT_SEQ_LEN, STRIDE, SHUFFLE, TEST_SIZE)\n",
    "train_y = train_y[:, :, -2]\n",
    "val_y   = val_y[:, :, -2]\n",
    "print(\"y:\", train_y.shape, val_y.shape)"
   ]
  },
  {
   "cell_type": "markdown",
   "id": "6ca2728c",
   "metadata": {},
   "source": [
    "# 3. Modeling"
   ]
  },
  {
   "cell_type": "code",
   "execution_count": 23,
   "id": "e3b5e4c7",
   "metadata": {
    "pycharm": {
     "name": "#%%\n"
    },
    "scrolled": true
   },
   "outputs": [],
   "source": [
    "import tensorflow as tf\n",
    "from keras.models import Sequential\n",
    "from keras.layers import Dense, LSTM, GRU\n",
    "\n",
    "tf.keras.utils.set_random_seed(RANDOM_STATE)\n",
    "for gpu in tf.config.experimental.list_physical_devices('GPU'):\n",
    "    tf.config.experimental.set_memory_growth(gpu, True)"
   ]
  },
  {
   "cell_type": "code",
   "execution_count": 24,
   "id": "2ed2f29d",
   "metadata": {},
   "outputs": [],
   "source": [
    "model = Sequential([\n",
    "    GRU(256, input_shape=train_x[0].shape),\n",
    "    Dense(516, activation='relu'),\n",
    "    Dense(288, activation='relu')\n",
    "])\n",
    "optimizer = tf.optimizers.RMSprop(0.001)\n",
    "model.compile(optimizer=optimizer, loss='mse', metrics=['mae'])"
   ]
  },
  {
   "cell_type": "markdown",
   "id": "2a4ca6cc",
   "metadata": {},
   "source": [
    "# 4. Training"
   ]
  },
  {
   "cell_type": "code",
   "execution_count": 25,
   "id": "151462c9",
   "metadata": {
    "pycharm": {
     "name": "#%%\n"
    },
    "scrolled": false
   },
   "outputs": [
    {
     "name": "stdout",
     "output_type": "stream",
     "text": [
      "Epoch 1/1000\n"
     ]
    },
    {
     "name": "stderr",
     "output_type": "stream",
     "text": [
      "2022-07-12 12:43:04.746903: I tensorflow/stream_executor/cuda/cuda_dnn.cc:384] Loaded cuDNN version 8101\n",
      "2022-07-12 12:43:08.861496: I tensorflow/stream_executor/cuda/cuda_blas.cc:1786] TensorFloat-32 will be used for the matrix multiplication. This will only be logged once.\n"
     ]
    },
    {
     "name": "stdout",
     "output_type": "stream",
     "text": [
      "155/155 [==============================] - 16s 42ms/step - loss: 226939.4844 - mae: 349.2867 - val_loss: 167472.0781 - val_mae: 315.6648\n",
      "Epoch 2/1000\n",
      "155/155 [==============================] - 6s 41ms/step - loss: 205682.6875 - mae: 348.0874 - val_loss: 163260.4531 - val_mae: 302.3774\n",
      "Epoch 3/1000\n",
      "155/155 [==============================] - 6s 40ms/step - loss: 198261.6875 - mae: 340.2433 - val_loss: 160039.0938 - val_mae: 304.5740\n",
      "Epoch 4/1000\n",
      "155/155 [==============================] - 6s 40ms/step - loss: 192190.1094 - mae: 337.1115 - val_loss: 158101.1250 - val_mae: 305.9936\n",
      "Epoch 5/1000\n",
      "155/155 [==============================] - 6s 41ms/step - loss: 187700.0000 - mae: 333.3261 - val_loss: 156973.2812 - val_mae: 308.1661\n",
      "Epoch 6/1000\n",
      "155/155 [==============================] - 6s 41ms/step - loss: 185493.0000 - mae: 331.2047 - val_loss: 158076.3125 - val_mae: 313.5095\n",
      "Epoch 7/1000\n",
      "155/155 [==============================] - 6s 40ms/step - loss: 183815.7344 - mae: 329.3748 - val_loss: 153639.4531 - val_mae: 295.0993\n",
      "Epoch 8/1000\n",
      "155/155 [==============================] - 6s 41ms/step - loss: 181974.9688 - mae: 327.9010 - val_loss: 158434.1875 - val_mae: 315.0781\n",
      "Epoch 9/1000\n",
      "155/155 [==============================] - 6s 41ms/step - loss: 181616.0781 - mae: 327.7350 - val_loss: 152330.9531 - val_mae: 297.5002\n",
      "Epoch 10/1000\n",
      "155/155 [==============================] - 6s 41ms/step - loss: 179221.7188 - mae: 325.5061 - val_loss: 150671.9844 - val_mae: 295.8406\n",
      "Epoch 11/1000\n",
      "155/155 [==============================] - 6s 40ms/step - loss: 178028.1406 - mae: 324.8431 - val_loss: 155260.9688 - val_mae: 305.8620\n",
      "Epoch 12/1000\n",
      "155/155 [==============================] - 6s 41ms/step - loss: 177715.3906 - mae: 325.5663 - val_loss: 156206.6406 - val_mae: 314.4989\n",
      "Epoch 13/1000\n",
      "155/155 [==============================] - 6s 41ms/step - loss: 176089.6719 - mae: 323.5920 - val_loss: 150633.0781 - val_mae: 300.1018\n",
      "Epoch 14/1000\n",
      "155/155 [==============================] - 6s 40ms/step - loss: 176211.4219 - mae: 323.9062 - val_loss: 154246.5938 - val_mae: 301.3968\n",
      "Epoch 15/1000\n",
      "155/155 [==============================] - 6s 41ms/step - loss: 175580.3594 - mae: 323.2435 - val_loss: 150463.7500 - val_mae: 283.7206\n",
      "Epoch 16/1000\n",
      "155/155 [==============================] - 6s 40ms/step - loss: 175313.8906 - mae: 322.7852 - val_loss: 155556.7188 - val_mae: 309.3136\n",
      "Epoch 17/1000\n",
      "155/155 [==============================] - 6s 40ms/step - loss: 175029.6250 - mae: 322.8572 - val_loss: 157401.4375 - val_mae: 316.4568\n",
      "Epoch 18/1000\n",
      "155/155 [==============================] - 6s 41ms/step - loss: 174273.4688 - mae: 322.8850 - val_loss: 152826.2031 - val_mae: 307.6040\n",
      "Epoch 19/1000\n",
      "155/155 [==============================] - 6s 40ms/step - loss: 173255.0469 - mae: 321.0176 - val_loss: 155064.2344 - val_mae: 310.1786\n",
      "Epoch 20/1000\n",
      "155/155 [==============================] - 6s 40ms/step - loss: 173833.7031 - mae: 322.2528 - val_loss: 166987.5781 - val_mae: 336.1895\n",
      "Epoch 21/1000\n",
      "155/155 [==============================] - 6s 40ms/step - loss: 173934.9688 - mae: 321.6828 - val_loss: 168123.7812 - val_mae: 338.3698\n",
      "Epoch 22/1000\n",
      "155/155 [==============================] - 6s 40ms/step - loss: 173727.7969 - mae: 321.4452 - val_loss: 151696.4062 - val_mae: 305.3236\n",
      "Epoch 23/1000\n",
      "155/155 [==============================] - 6s 40ms/step - loss: 172643.9531 - mae: 320.0591 - val_loss: 151751.2344 - val_mae: 301.6414\n",
      "Epoch 24/1000\n",
      "155/155 [==============================] - 6s 40ms/step - loss: 173106.4531 - mae: 319.8606 - val_loss: 157396.7500 - val_mae: 320.1558\n",
      "Epoch 25/1000\n",
      "155/155 [==============================] - 6s 40ms/step - loss: 172178.5625 - mae: 319.6846 - val_loss: 155250.6250 - val_mae: 313.7495\n"
     ]
    }
   ],
   "source": [
    "from tensorflow.keras.callbacks import EarlyStopping\n",
    "\n",
    "model.fit(train_x, train_y, validation_data=(val_x, val_y), epochs=1000, batch_size=128, callbacks=[EarlyStopping(patience=10, restore_best_weights=True)]);"
   ]
  },
  {
   "cell_type": "markdown",
   "id": "44a9fabe",
   "metadata": {},
   "source": [
    "# 5. Check validation set"
   ]
  },
  {
   "cell_type": "code",
   "execution_count": 44,
   "id": "d18f4a48",
   "metadata": {},
   "outputs": [],
   "source": [
    "plt.style.use('ggplot')"
   ]
  },
  {
   "cell_type": "code",
   "execution_count": 34,
   "id": "f6b8bb7c",
   "metadata": {},
   "outputs": [
    {
     "name": "stdout",
     "output_type": "stream",
     "text": [
      "155/155 [==============================] - 2s 12ms/step\n"
     ]
    }
   ],
   "source": [
    "y_true = val_y\n",
    "y_pred = model.predict(val_x)"
   ]
  },
  {
   "cell_type": "code",
   "execution_count": 66,
   "id": "e0644c7b",
   "metadata": {
    "scrolled": false
   },
   "outputs": [],
   "source": [
    "i = 0  # Turbine 1\n",
    "y_t = y_true[37*i:37*(i+1)].reshape(-1)\n",
    "y_p = y_pred[37*i:37*(i+1)].reshape(-1)\n",
    "\n",
    "y_t = y_t[:1000]\n",
    "y_p = y_p[:1000]"
   ]
  },
  {
   "cell_type": "code",
   "execution_count": 69,
   "id": "1c0aa97d",
   "metadata": {},
   "outputs": [
    {
     "data": {
      "image/png": "[encoded data removed]",
      "text/plain": [
       "<Figure size 1440x720 with 1 Axes>"
      ]
     },
     "metadata": {},
     "output_type": "display_data"
    }
   ],
   "source": [
    "fig, ax = plt.subplots(figsize=(20, 10))\n",
    "ax.plot(y_t, label='true')\n",
    "ax.plot(y_p, label='pred')\n",
    "plt.legend();"
   ]
  },
  {
   "cell_type": "markdown",
   "id": "67488bd4",
   "metadata": {},
   "source": [
    "# 6. Generate submission"
   ]
  },
  {
   "cell_type": "code",
   "execution_count": 68,
   "id": "cdf88858",
   "metadata": {
    "pycharm": {
     "name": "#%%\n"
    }
   },
   "outputs": [
    {
     "name": "stdout",
     "output_type": "stream",
     "text": [
      "5/5 [==============================] - 0s 11ms/step\n"
     ]
    }
   ],
   "source": [
    "sample_submission['Patv'] = model.predict(test_x).reshape(-1)\n",
    "sample_submission.to_csv(join(PATH.output, \"proposed7.csv\"), index=False)"
   ]
  }
 ],
 "metadata": {
  "kernelspec": {
   "display_name": "full",
   "language": "python",
   "name": "full"
  },
  "language_info": {
   "codemirror_mode": {
    "name": "ipython",
    "version": 3
   },
   "file_extension": ".py",
   "mimetype": "text/x-python",
   "name": "python",
   "nbconvert_exporter": "python",
   "pygments_lexer": "ipython3",
   "version": "3.8.13"
  }
 },
 "nbformat": 4,
 "nbformat_minor": 5
}
