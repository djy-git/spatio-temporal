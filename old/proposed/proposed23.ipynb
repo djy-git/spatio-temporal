{
 "cells": [
  {
   "cell_type": "code",
   "execution_count": 1,
   "id": "28956abd",
   "metadata": {},
   "outputs": [],
   "source": [
    "%load_ext autoreload\n",
    "%autoreload 2\n",
    "%matplotlib inline\n",
    "\n",
    "import os\n",
    "import sys\n",
    "sys.path.append(os.path.dirname(os.getcwd()))\n",
    "from common import *\n",
    "\n",
    "set_random_seed(RANDOM_STATE)"
   ]
  },
  {
   "cell_type": "code",
   "execution_count": 2,
   "id": "40291428",
   "metadata": {},
   "outputs": [
    {
     "name": "stderr",
     "output_type": "stream",
     "text": [
      "2022-07-18 21:12:37.679865: I tensorflow/stream_executor/cuda/cuda_gpu_executor.cc:975] successful NUMA node read from SysFS had negative value (-1), but there must be at least one NUMA node, so returning NUMA node zero\n",
      "2022-07-18 21:12:37.682320: I tensorflow/stream_executor/cuda/cuda_gpu_executor.cc:975] successful NUMA node read from SysFS had negative value (-1), but there must be at least one NUMA node, so returning NUMA node zero\n",
      "2022-07-18 21:12:37.682506: I tensorflow/stream_executor/cuda/cuda_gpu_executor.cc:975] successful NUMA node read from SysFS had negative value (-1), but there must be at least one NUMA node, so returning NUMA node zero\n"
     ]
    }
   ],
   "source": [
    "import tensorflow as tf\n",
    "\n",
    "for gpu in tf.config.experimental.list_physical_devices('GPU'):\n",
    "    tf.config.experimental.set_memory_growth(gpu, True)"
   ]
  },
  {
   "cell_type": "markdown",
   "id": "572724f6",
   "metadata": {},
   "source": [
    "# 1. Load dataset"
   ]
  },
  {
   "cell_type": "code",
   "execution_count": 3,
   "id": "344d7b6d",
   "metadata": {},
   "outputs": [
    {
     "name": "stdout",
     "output_type": "stream",
     "text": [
      "<class 'pandas.core.frame.DataFrame'>\n",
      "RangeIndex: 3859200 entries, 0 to 3859199\n",
      "Data columns (total 13 columns):\n",
      " #   Column   Dtype  \n",
      "---  ------   -----  \n",
      " 0   TurbID   int64  \n",
      " 1   Day      int64  \n",
      " 2   Tmstamp  object \n",
      " 3   Wspd     float64\n",
      " 4   Wdir     float64\n",
      " 5   Etmp     float64\n",
      " 6   Itmp     float64\n",
      " 7   Ndir     float64\n",
      " 8   Pab1     float64\n",
      " 9   Pab2     float64\n",
      " 10  Pab3     float64\n",
      " 11  Prtv     float64\n",
      " 12  Patv     float64\n",
      "dtypes: float64(10), int64(2), object(1)\n",
      "memory usage: 382.8+ MB\n"
     ]
    }
   ],
   "source": [
    "data              = pd.read_csv(join(PATH.input, \"train_data.csv\"))\n",
    "sample_submission = pd.read_csv(join(PATH.input, \"sample_submission.csv\"))\n",
    "data.info()"
   ]
  },
  {
   "cell_type": "markdown",
   "id": "ddb94c6a",
   "metadata": {},
   "source": [
    "# 2. Preprocessing"
   ]
  },
  {
   "cell_type": "markdown",
   "id": "8863cd66",
   "metadata": {},
   "source": [
    "## 1) Feature engineering"
   ]
  },
  {
   "cell_type": "code",
   "execution_count": 4,
   "id": "fc07d766",
   "metadata": {},
   "outputs": [
    {
     "name": "stderr",
     "output_type": "stream",
     "text": [
      "100%|██████████| 134/134 [00:10<00:00, 13.35it/s]\n"
     ]
    },
    {
     "name": "stdout",
     "output_type": "stream",
     "text": [
      "* Data name: Imputing\n",
      "  - Number of data: 3823222\n",
      "  - Number of nan rows: 0\n"
     ]
    },
    {
     "name": "stderr",
     "output_type": "stream",
     "text": [
      "100%|██████████| 199/199 [00:16<00:00, 11.81it/s]\n"
     ]
    },
    {
     "name": "stdout",
     "output_type": "stream",
     "text": [
      "* Data name: Feature engineering\n",
      "  - Number of data: 3823222\n",
      "  - Number of nan rows: 0\n"
     ]
    },
    {
     "name": "stderr",
     "output_type": "stream",
     "text": [
      "100%|██████████| 134/134 [00:17<00:00,  7.77it/s]\n"
     ]
    },
    {
     "name": "stdout",
     "output_type": "stream",
     "text": [
      "* Data Split\n",
      "  - Train data(X, y)     : (23427, 288, 43) (23427, 288, 43)\n",
      "  - Validation data(X, y): (2678, 288, 43) (2678, 288, 43)\n",
      "  - Test data(X)         : (134, 288, 43)\n",
      "* Final data\n",
      "  - Train data(X, y)     : (23427, 288, 12) (23427, 288, 12) (23427, 288, 12)\n",
      "  - Validation data(X, y): (2678, 288, 12) (2678, 288, 12) (2678, 288, 12)\n",
      "  - Test data(X)         : (134, 288, 12)\n",
      "CPU times: user 2min 27s, sys: 11.7 s, total: 2min 39s\n",
      "Wall time: 2min 16s\n"
     ]
    }
   ],
   "source": [
    "%%time\n",
    "\n",
    "IN_SEQ_LEN  = 2*144\n",
    "OUT_SEQ_LEN = 2*144\n",
    "STRIDE      = 144\n",
    "SHUFFLE     = True\n",
    "TEST_SIZE   = 0.1\n",
    "MARKER      = -9999\n",
    "\n",
    "\n",
    "# Imputing\n",
    "data_imp = impute_data(data)\n",
    "\n",
    "# Outlier handling\n",
    "# data_out = outlier_handler(data_imp, ['Etmp', 'Itmp', 'Wdir', 'Ndir'])\n",
    "\n",
    "# Feature engineering\n",
    "data_fe = feature_engineering(data_out, encode_TurbID=False, compute_Pmax_method='simple', compute_Pmax_clipping=False)\n",
    "\n",
    "# Feature selection (select features)\n",
    "# cols = select_features(data_fe)  # cols[-1]: Patv\n",
    "cols = ['Wspd', 'Wspd_cube', 'Wdir', 'Etmp', 'Itmp', 'Ndir', 'Pab', 'RPM', 'TSR', 'Pmax', 'Prtv', 'Patv']\n",
    "\n",
    "# Split dataset\n",
    "train_x, train_y, val_x, val_y, test_x = make_train_val_test_data(data_fe, IN_SEQ_LEN, OUT_SEQ_LEN, STRIDE, SHUFFLE, TEST_SIZE)\n",
    "\n",
    "# Mark anomaly\n",
    "idxs_train_y_mark = [get_idxs_mark(d) for d in train_y]\n",
    "idxs_val_y_mark   = [get_idxs_mark(d) for d in val_y]\n",
    "\n",
    "# Feature selection (apply)\n",
    "cols        = [col for col in cols if col in train_x[0]]  # except TurbID\n",
    "train_x_sel = [d[cols] for d in train_x]\n",
    "train_y_sel = [d[cols] for d in train_y]\n",
    "val_x_sel   = [d[cols] for d in val_x]\n",
    "val_y_sel   = [d[cols] for d in val_y]\n",
    "test_x_sel  = [d[cols] for d in test_x]\n",
    "\n",
    "# Scaling\n",
    "from sklearn.preprocessing import MinMaxScaler\n",
    "scaler = MinMaxScaler()\n",
    "scaler.fit(data_fe[cols].values)\n",
    "train_x_norm = scale(train_x_sel, scaler)\n",
    "train_y_norm = scale(train_y_sel, scaler)\n",
    "val_x_norm   = scale(val_x_sel, scaler)\n",
    "val_y_norm   = scale(val_y_sel, scaler)\n",
    "test_x_norm  = scale(test_x_sel, scaler)\n",
    "\n",
    "# Compute residual threshold\n",
    "# idx_Pmax = cols.index('Pmax')\n",
    "# data_scale    = scaler.transform(data_fe[cols])\n",
    "# res_threshold = select_residual_threshold(data_scale[:, idx_Patv], data_scale[:, idx_Pmax])\n",
    "\n",
    "# Final data\n",
    "train_x_fin = train_x_norm\n",
    "train_y_fin = train_y_norm\n",
    "val_x_fin   = val_x_norm\n",
    "val_y_fin   = val_y_norm\n",
    "test_x_fin  = test_x_norm\n",
    "\n",
    "# train_x_fin = np.array(train_x_sel, dtype=np.float32)\n",
    "# train_y_fin = np.array(train_y_fin, dtype=np.float32)\n",
    "# val_x_fin   = np.array(val_x_fin, dtype=np.float32)\n",
    "# val_y_fin   = np.array(val_y_fin, dtype=np.float32)\n",
    "# test_x_fin  = np.array(test_x_fin, dtype=np.float32)\n",
    "\n",
    "# Set Patv of X to zero\n",
    "idx_Patv = cols.index('Patv')\n",
    "train_x_fin[:, :, idx_Patv] = 0\n",
    "val_x_fin[:, :, idx_Patv]   = 0\n",
    "test_x_fin[:, :, idx_Patv]  = 0\n",
    "\n",
    "# Mark anomaly(apply)\n",
    "train_y_mark_fin = copy(train_y_fin)\n",
    "val_y_mark_fin   = copy(val_y_fin)\n",
    "for idxs, d in zip(idxs_train_y_mark, train_y_mark_fin):\n",
    "    d[idxs, idx_Patv] = MARKER\n",
    "for idxs, d in zip(idxs_val_y_mark, val_y_mark_fin):\n",
    "    d[idxs, idx_Patv] = MARKER\n",
    "\n",
    "print(\"* Final data\")\n",
    "print(\"  - Train data(X, y)     :\", np.shape(train_x_fin), np.shape(train_y_fin), np.shape(train_y_mark_fin))\n",
    "print(\"  - Validation data(X, y):\", np.shape(val_x_fin),   np.shape(val_y_fin),   np.shape(val_y_mark_fin))\n",
    "print(\"  - Test data(X)         :\", np.shape(test_x_fin))"
   ]
  },
  {
   "cell_type": "code",
   "execution_count": 5,
   "id": "0f8e2185",
   "metadata": {},
   "outputs": [],
   "source": [
    "Pmax_constants = compute_Pmax_constants(data_fe, method='simple')\n",
    "Patv_min_val   = data_fe['Patv'].min()\n",
    "Patv_max_val   = data_fe['Patv'].max()"
   ]
  },
  {
   "cell_type": "code",
   "execution_count": 6,
   "id": "f1b8306e",
   "metadata": {},
   "outputs": [
    {
     "name": "stderr",
     "output_type": "stream",
     "text": [
      "2022-07-18 21:14:59.079899: I tensorflow/core/platform/cpu_feature_guard.cc:193] This TensorFlow binary is optimized with oneAPI Deep Neural Network Library (oneDNN) to use the following CPU instructions in performance-critical operations:  AVX2 FMA\n",
      "To enable them in other operations, rebuild TensorFlow with the appropriate compiler flags.\n",
      "2022-07-18 21:14:59.080729: I tensorflow/stream_executor/cuda/cuda_gpu_executor.cc:975] successful NUMA node read from SysFS had negative value (-1), but there must be at least one NUMA node, so returning NUMA node zero\n",
      "2022-07-18 21:14:59.080920: I tensorflow/stream_executor/cuda/cuda_gpu_executor.cc:975] successful NUMA node read from SysFS had negative value (-1), but there must be at least one NUMA node, so returning NUMA node zero\n",
      "2022-07-18 21:14:59.081023: I tensorflow/stream_executor/cuda/cuda_gpu_executor.cc:975] successful NUMA node read from SysFS had negative value (-1), but there must be at least one NUMA node, so returning NUMA node zero\n",
      "2022-07-18 21:14:59.441473: I tensorflow/stream_executor/cuda/cuda_gpu_executor.cc:975] successful NUMA node read from SysFS had negative value (-1), but there must be at least one NUMA node, so returning NUMA node zero\n",
      "2022-07-18 21:14:59.441638: I tensorflow/stream_executor/cuda/cuda_gpu_executor.cc:975] successful NUMA node read from SysFS had negative value (-1), but there must be at least one NUMA node, so returning NUMA node zero\n",
      "2022-07-18 21:14:59.441748: I tensorflow/stream_executor/cuda/cuda_gpu_executor.cc:975] successful NUMA node read from SysFS had negative value (-1), but there must be at least one NUMA node, so returning NUMA node zero\n",
      "2022-07-18 21:14:59.441840: I tensorflow/core/common_runtime/gpu/gpu_device.cc:1532] Created device /job:localhost/replica:0/task:0/device:GPU:0 with 17274 MB memory:  -> device: 0, name: NVIDIA GeForce RTX 3090, pci bus id: 0000:01:00.0, compute capability: 8.6\n"
     ]
    }
   ],
   "source": [
    "BATCH_SIZE = 128\n",
    "\n",
    "train_ds = generate_dataset(train_x_fin, train_y_mark_fin, batch_size=BATCH_SIZE)\n",
    "val_ds   = generate_dataset(val_x_fin, val_y_mark_fin, batch_size=BATCH_SIZE)\n",
    "test_ds  = generate_dataset(test_x_fin, batch_size=1)"
   ]
  },
  {
   "cell_type": "markdown",
   "id": "4d5f5eaa",
   "metadata": {},
   "source": [
    "# 3. Modeling"
   ]
  },
  {
   "cell_type": "code",
   "execution_count": 7,
   "id": "a3fa79b5",
   "metadata": {
    "scrolled": true
   },
   "outputs": [],
   "source": [
    "from evaluation.metrics import CondLoss\n",
    "from tensorflow import keras\n",
    "from tensorflow.keras import layers, Sequential, Input\n",
    "\n",
    "class OutputLayer(layers.Layer):\n",
    "    def __init__(self, min_val, max_val, **kwags):\n",
    "        super().__init__(**kwags)\n",
    "        self.min_val = min_val\n",
    "        self.max_val = max_val\n",
    "    def call(self, data):\n",
    "        _, B, F = data.shape\n",
    "        *other, Patv = tf.split(data, data.shape[2], axis=2)\n",
    "        Patv = tf.clip_by_value(Patv, self.min_val, self.max_val)\n",
    "        return tf.concat([*other, Patv], axis=2)\n",
    "    def get_config(self):\n",
    "        return super().get_config()\n",
    "    \n",
    "def build_model(input_shape, output_shape):\n",
    "    S,  F  = input_shape\n",
    "    S_, F_ = output_shape\n",
    "    model = Sequential(name=\"GRU-Model\") # Model\n",
    "    model.add(Input(shape=(S, F), name='Input-Layer'))\n",
    "    model.add(layers.Bidirectional(layers.GRU(units=256, activation='tanh', recurrent_activation='sigmoid', stateful=False), name='Hidden-GRU-Encoder-Layer'))\n",
    "    model.add(layers.RepeatVector(S_, name='Repeat-Vector-Layer'))\n",
    "    model.add(layers.Bidirectional(layers.GRU(units=256, activation='tanh', recurrent_activation='sigmoid', stateful=False, return_sequences=True), name='Hidden-GRU-Decoder-Layer'))\n",
    "    model.add(layers.TimeDistributed(layers.Dense(units=F_), name='Output-Layer'))\n",
    "    model.add(OutputLayer(Patv_min_val, Patv_max_val))\n",
    "    \n",
    "    model.compile(optimizer='nadam',\n",
    "                  loss=CondLoss('rmse', marked_target_value=MARKER))\n",
    "#                   metrics=[keras.metrics.RootMeanSquaredError(), 'mae'])\n",
    "    return model"
   ]
  },
  {
   "cell_type": "markdown",
   "id": "87ce46dd",
   "metadata": {},
   "source": [
    "# 4. Training"
   ]
  },
  {
   "cell_type": "markdown",
   "id": "28454655",
   "metadata": {},
   "source": [
    "## 1) Feature selection(threshold=0.4)\n",
    "- MAE: 310.936652232028"
   ]
  },
  {
   "cell_type": "code",
   "execution_count": null,
   "id": "abfec957",
   "metadata": {
    "scrolled": false
   },
   "outputs": [],
   "source": [
    "from tensorflow.keras.callbacks import EarlyStopping, ReduceLROnPlateau, ModelCheckpoint\n",
    "from livelossplot import PlotLossesKeras\n",
    "\n",
    "ckpt_dir = join(PATH.ckpt, 'proposed23')\n",
    "os.makedirs(ckpt_dir, exist_ok=True)\n",
    "\n",
    "model = build_model(train_x_sel[0].shape, train_y_sel[0].shape)\n",
    "history = model.fit(train_ds, validation_data=val_ds,\n",
    "                    epochs=30,\n",
    "                    callbacks=[\n",
    "                        PlotLossesKeras(),\n",
    "                        EarlyStopping(patience=5, restore_best_weights=True),\n",
    "                        ReduceLROnPlateau(patience=3),\n",
    "                        ModelCheckpoint(join(ckpt_dir, '[{epoch:03d} epoch] val_loss: {val_loss:.3f}.h5'), save_best_only=False),\n",
    "                    ])"
   ]
  },
  {
   "cell_type": "markdown",
   "id": "b505d4fa",
   "metadata": {},
   "source": [
    "## 2) Manual Feature selection\n",
    "- cols = ['Wspd', 'Wspd_cube', 'Wdir', 'Etmp', 'Itmp', 'Ndir', 'Pab', 'RPM', 'TSR', 'Pmax', 'Prtv', 'Patv']\n",
    "- MAE: 250.29155574702474 (without outlier handling)\n",
    "- MAE: 404.62565531934234 (with outlier handling)"
   ]
  },
  {
   "cell_type": "code",
   "execution_count": 8,
   "id": "3ae43247",
   "metadata": {
    "scrolled": false
   },
   "outputs": [
    {
     "data": {
      "image/png": "[encoded data removed]",
      "text/plain": [
       "<Figure size 864x576 with 2 Axes>"
      ]
     },
     "metadata": {},
     "output_type": "display_data"
    },
    {
     "name": "stdout",
     "output_type": "stream",
     "text": [
      "Loss\n",
      "\ttraining         \t (min:    0.076, max:    0.144, cur:    0.076)\n",
      "\tvalidation       \t (min:    0.081, max:    0.152, cur:    0.081)\n",
      "\b\b\b\b\b\b\b\b\b\b\b\b\b\b\b\b\b\b\b\b\b\b\b\b\b\b\b\b\b\b\b\b\b\b\b\b\b\b\b\b\b\b\b\b\b\b\b\b\b\b\b\b\b\b\b\b\b\b\b\b\b\b\b\b\b\r",
      "184/184 [==============================] - 10s 54ms/step - loss: 0.0764 - val_loss: 0.0815 - lr: 1.0000e-11\n"
     ]
    }
   ],
   "source": [
    "from tensorflow.keras.callbacks import EarlyStopping, ReduceLROnPlateau, ModelCheckpoint\n",
    "from livelossplot import PlotLossesKeras\n",
    "\n",
    "ckpt_dir = join(PATH.ckpt, 'proposed23-outlier')\n",
    "os.makedirs(ckpt_dir, exist_ok=True)\n",
    "\n",
    "model = build_model(train_x_sel[0].shape, train_y_sel[0].shape)\n",
    "history = model.fit(train_ds, validation_data=val_ds,\n",
    "                    epochs=100,\n",
    "                    callbacks=[\n",
    "                        PlotLossesKeras(),\n",
    "                        EarlyStopping(patience=5, restore_best_weights=True),\n",
    "                        ReduceLROnPlateau(patience=3),\n",
    "                        ModelCheckpoint(join(ckpt_dir, '[{epoch:03d} epoch].h5'), save_best_only=False),\n",
    "                    ])"
   ]
  },
  {
   "cell_type": "markdown",
   "id": "e9bcc262",
   "metadata": {},
   "source": [
    "## 3) Manual Feature selection\n",
    "- cols = ['Wspd', 'Wspd_cube', 'WspdX', 'Wdir', 'Etmp_abs', 'Pmax', 'Pab', 'RPM', 'TSR', 'Prtv', 'Patan', 'Papt', 'Patv']\n",
    "- MAE: 382.0805877034615"
   ]
  },
  {
   "cell_type": "code",
   "execution_count": null,
   "id": "3964c82f",
   "metadata": {
    "scrolled": false
   },
   "outputs": [],
   "source": [
    "from tensorflow.keras.callbacks import EarlyStopping, ReduceLROnPlateau, ModelCheckpoint\n",
    "from livelossplot import PlotLossesKeras\n",
    "\n",
    "ckpt_dir = join(PATH.ckpt, 'proposed23')\n",
    "os.makedirs(ckpt_dir, exist_ok=True)\n",
    "\n",
    "model = build_model(train_x_sel[0].shape, train_y_sel[0].shape)\n",
    "history = model.fit(train_ds, validation_data=val_ds,\n",
    "                    epochs=100,\n",
    "                    callbacks=[\n",
    "                        PlotLossesKeras(),\n",
    "                        EarlyStopping(patience=5, restore_best_weights=True),\n",
    "                        ReduceLROnPlateau(patience=3),\n",
    "                        ModelCheckpoint(join(ckpt_dir, '[{epoch:03d} epoch] val_loss: {val_loss:.3f}.h5'), save_best_only=False),\n",
    "                    ])"
   ]
  },
  {
   "cell_type": "markdown",
   "id": "bf7c2d4c",
   "metadata": {},
   "source": [
    "---"
   ]
  },
  {
   "cell_type": "code",
   "execution_count": 13,
   "id": "946c73de",
   "metadata": {},
   "outputs": [],
   "source": [
    "ckpt_path = join(PATH.ckpt, 'proposed23-outlier', '[020 epoch].h5')\n",
    "model.load_weights(ckpt_path)"
   ]
  },
  {
   "cell_type": "markdown",
   "id": "e96286b3",
   "metadata": {},
   "source": [
    "# 5. Check results"
   ]
  },
  {
   "cell_type": "markdown",
   "id": "66db8a8b",
   "metadata": {},
   "source": [
    "## 1) Training set"
   ]
  },
  {
   "cell_type": "code",
   "execution_count": null,
   "id": "2200689b",
   "metadata": {},
   "outputs": [],
   "source": [
    "def visualize(X, y_true, model, method):\n",
    "#     X      = train_x_fin\n",
    "#     y_true = train_y_fin\n",
    "    if method == 1:\n",
    "        y_pred = model.predict(X)\n",
    "\n",
    "        y_true_fin = y_true[:, :, -1]\n",
    "        y_pred_fin = y_pred[:, :, -1]\n",
    "    elif method == 2:\n",
    "        y_pred = model.predict(X)\n",
    "\n",
    "        y_true_scale = scaler.inverse_transform(y_true.reshape(-1, y_true.shape[-1])).reshape(y_true.shape)\n",
    "        y_pred_scale = scaler.inverse_transform(y_pred.reshape(-1, y_pred.shape[-1])).reshape(y_pred.shape)\n",
    "\n",
    "        y_true_fin = y_true_scale[:, :, -1]\n",
    "        y_pred_fin = y_pred_scale[:, :, -1]\n",
    "    elif method == 3:\n",
    "        y_pred = model.predict(X)\n",
    "\n",
    "        y_true_scale = scaler.inverse_transform(y_true.reshape(-1, y_true.shape[-1]))\n",
    "        y_pred_scale = scaler.inverse_transform(y_pred.reshape(-1, y_pred.shape[-1]))\n",
    "\n",
    "        y_true_df = pd.DataFrame(y_true_scale, columns=cols)\n",
    "        y_pred_df = pd.DataFrame(y_pred_scale, columns=cols)\n",
    "\n",
    "        tmp = []\n",
    "        for row in tqdm(X.reshape(-1, X.shape[-1])[:, :8].astype(int).astype(str)):\n",
    "            tmp.append(int(''.join(row), 2))\n",
    "        y_true_df['TurbID'] = y_pred_df['TurbID'] = tmp\n",
    "        y_pred_df['Patv'] = compute_Pmax(y_pred_df, clipping=True,\n",
    "                                         clipping_min_val=Patv_min_val,\n",
    "                                         clipping_max_val=Patv_max_val,\n",
    "                                         constants=Pmax_constants)\n",
    "\n",
    "        y_true_fin = y_true_df['Patv'].values.reshape(y_true.shape[0], y_true.shape[1])\n",
    "        y_pred_fin = y_pred_df['Patv'].values.reshape(y_pred.shape[0], y_pred.shape[1])\n",
    "    visualize_result(y_true_fin, y_pred_fin, ylim=[-100, 2000])"
   ]
  },
  {
   "cell_type": "code",
   "execution_count": null,
   "id": "16fb7c72",
   "metadata": {},
   "outputs": [],
   "source": [
    "visualize(train_x_fin, train_y_fin, model, method=2)"
   ]
  },
  {
   "cell_type": "markdown",
   "id": "582ff0ac",
   "metadata": {},
   "source": [
    "## 2) Validation set"
   ]
  },
  {
   "cell_type": "code",
   "execution_count": null,
   "id": "75fcd9f0",
   "metadata": {},
   "outputs": [],
   "source": [
    "visualize(val_x_fin, val_y_fin, model, method=2)"
   ]
  },
  {
   "cell_type": "markdown",
   "id": "acb77a35",
   "metadata": {},
   "source": [
    "# 6. Generate submission"
   ]
  },
  {
   "cell_type": "code",
   "execution_count": 14,
   "id": "3faa94ca",
   "metadata": {},
   "outputs": [
    {
     "name": "stdout",
     "output_type": "stream",
     "text": [
      "5/5 [==============================] - 0s 18ms/step\n"
     ]
    }
   ],
   "source": [
    "X      = test_x_fin\n",
    "y_pred = model.predict(X)\n",
    "\n",
    "y_pred_scale = scaler.inverse_transform(y_pred.reshape(-1, y_pred.shape[-1]))\n",
    "\n",
    "# y_pred_df = pd.DataFrame(y_pred_scale, columns=cols)\n",
    "\n",
    "# tmp = []\n",
    "# for row in tqdm(X.reshape(-1, X.shape[-1])[:, :8].astype(int).astype(str)):\n",
    "#     tmp.append(int(''.join(row), 2))\n",
    "# y_pred_df['TurbID'] = tmp\n",
    "# y_pred_df['Patv'] = compute_Pmax(y_pred_df, clipping=True,\n",
    "#                                  clipping_min_val=Patv_min_val,\n",
    "#                                  clipping_max_val=Patv_max_val,\n",
    "#                                  constants=Pmax_constants)\n",
    "# y_pred_fin = y_pred_df['Patv'].values.reshape(y_pred.shape[0], y_pred.shape[1])\n",
    "\n",
    "sample_submission['Patv'] = y_pred_scale[:, -1].reshape(-1)\n",
    "sample_submission.to_csv(join(PATH.output, \"proposed23-outlier.csv\"), index=False)"
   ]
  },
  {
   "cell_type": "markdown",
   "id": "a13e752c",
   "metadata": {},
   "source": [
    "---"
   ]
  },
  {
   "cell_type": "code",
   "execution_count": null,
   "id": "3062bbbd",
   "metadata": {},
   "outputs": [],
   "source": [
    "X      = test_x_fin\n",
    "y_pred = model.predict(X)\n",
    "\n",
    "y_pred_scale = scaler.inverse_transform(y_pred.reshape(-1, y_pred.shape[-1]))\n",
    "y_pred_df = pd.DataFrame(y_pred_scale, columns=cols)\n",
    "\n",
    "tmp = []\n",
    "for row in tqdm(X.reshape(-1, X.shape[-1])[:, :8].astype(int).astype(str)):\n",
    "    tmp.append(int(''.join(row), 2))\n",
    "y_pred_df['TurbID'] = tmp\n",
    "y_pred_df['Patv'] = compute_Pmax(y_pred_df, clipping=True,\n",
    "                                 clipping_min_val=Patv_min_val,\n",
    "                                 clipping_max_val=Patv_max_val,\n",
    "                                 constants=Pmax_constants)"
   ]
  },
  {
   "cell_type": "code",
   "execution_count": null,
   "id": "ef3335c8",
   "metadata": {},
   "outputs": [],
   "source": [
    "full_data = pd.read_csv(join(PATH.input, 'wtbdata_245days.csv'))\n",
    "test_data = full_data[(201 <= full_data['Day']) & (full_data['Day'] <= 202)]\n",
    "\n",
    "y_pred_fin = y_pred_df['Patv'].values.reshape(-1, 288)\n",
    "y_true_fin = [test_data[test_data['TurbID'] == turbID]['Patv'] for turbID in test_data['TurbID'].unique()]\n",
    "\n",
    "visualize_result(np.array(y_true_fin), np.array(y_pred_fin), ylim=[-100, 2000])"
   ]
  },
  {
   "cell_type": "code",
   "execution_count": null,
   "id": "1f5e84c8",
   "metadata": {},
   "outputs": [],
   "source": [
    "full_data = pd.read_csv(join(PATH.input, 'wtbdata_245days.csv'))\n",
    "test_data = full_data[(201 <= full_data['Day']) & (full_data['Day'] <= 202)]\n",
    "\n",
    "y_pred_fin = y_pred_df['Patv'].values.reshape(-1, 288)\n",
    "y_true_fin = [test_data[test_data['TurbID'] == turbID]['Patv'] for turbID in test_data['TurbID'].unique()]\n",
    "\n",
    "visualize_result(np.array(y_true_fin), np.array(y_pred_fin), ylim=[-100, 2000])"
   ]
  }
 ],
 "metadata": {
  "kernelspec": {
   "display_name": "full",
   "language": "python",
   "name": "full"
  },
  "language_info": {
   "codemirror_mode": {
    "name": "ipython",
    "version": 3
   },
   "file_extension": ".py",
   "mimetype": "text/x-python",
   "name": "python",
   "nbconvert_exporter": "python",
   "pygments_lexer": "ipython3",
   "version": "3.8.13"
  }
 },
 "nbformat": 4,
 "nbformat_minor": 5
}
