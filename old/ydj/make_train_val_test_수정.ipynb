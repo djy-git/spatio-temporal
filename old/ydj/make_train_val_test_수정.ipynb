{
 "cells": [
  {
   "cell_type": "code",
   "execution_count": 1,
   "id": "949b6894",
   "metadata": {},
   "outputs": [],
   "source": [
    "%load_ext autoreload\n",
    "%autoreload 2\n",
    "%matplotlib inline\n",
    "\n",
    "import os\n",
    "import sys\n",
    "sys.path.append(os.path.dirname(os.getcwd()))\n",
    "\n",
    "from common import *"
   ]
  },
  {
   "cell_type": "code",
   "execution_count": 48,
   "id": "7161ca4e",
   "metadata": {},
   "outputs": [
    {
     "name": "stdout",
     "output_type": "stream",
     "text": [
      "<class 'pandas.core.frame.DataFrame'>\n",
      "RangeIndex: 3859200 entries, 0 to 3859199\n",
      "Data columns (total 13 columns):\n",
      " #   Column   Dtype  \n",
      "---  ------   -----  \n",
      " 0   TurbID   int64  \n",
      " 1   Day      int64  \n",
      " 2   Tmstamp  object \n",
      " 3   Wspd     float64\n",
      " 4   Wdir     float64\n",
      " 5   Etmp     float64\n",
      " 6   Itmp     float64\n",
      " 7   Ndir     float64\n",
      " 8   Pab1     float64\n",
      " 9   Pab2     float64\n",
      " 10  Pab3     float64\n",
      " 11  Prtv     float64\n",
      " 12  Patv     float64\n",
      "dtypes: float64(10), int64(2), object(1)\n",
      "memory usage: 382.8+ MB\n"
     ]
    }
   ],
   "source": [
    "data              = pd.read_csv(join(PATH.input, \"train_data.csv\"))\n",
    "sample_submission = pd.read_csv(join(PATH.input, \"sample_submission.csv\"))\n",
    "data.info()"
   ]
  },
  {
   "cell_type": "code",
   "execution_count": 49,
   "id": "d60783e6",
   "metadata": {},
   "outputs": [],
   "source": [
    "data_with_time = generate_full_timestamp(data)"
   ]
  },
  {
   "cell_type": "code",
   "execution_count": 50,
   "id": "2b3c7cf4",
   "metadata": {},
   "outputs": [],
   "source": [
    "data_imp = data_with_time.fillna(method='bfill')"
   ]
  },
  {
   "cell_type": "code",
   "execution_count": 51,
   "id": "55cbd053",
   "metadata": {},
   "outputs": [],
   "source": [
    "data_proc = preprocess(data_imp)"
   ]
  },
  {
   "cell_type": "code",
   "execution_count": 52,
   "id": "a925df5b",
   "metadata": {},
   "outputs": [],
   "source": [
    "IN_SEQ_LEN  = 2*144\n",
    "OUT_SEQ_LEN = 2*144\n",
    "STRIDE      = 144\n",
    "SHUFFLE     = False\n",
    "TEST_SIZE   = 0  # 2/200\n",
    "BATCH_SIZE  = 256"
   ]
  },
  {
   "cell_type": "code",
   "execution_count": 53,
   "id": "674180de",
   "metadata": {},
   "outputs": [],
   "source": [
    "cols = ['Time', 'TurbID', 'RPM', 'Bspd1', 'Bspd3', 'Bspd2', 'Wspd_cos', 'Wspd', 'Wspd_cube',\n",
    "       'P_max', 'Pab1', 'Pab2', 'Pab3', 'TSR1', 'TSR2', 'TSR3', 'Prtv','Patv']\n",
    "data_fin = data_proc[cols]"
   ]
  },
  {
   "cell_type": "code",
   "execution_count": 54,
   "id": "d43b64b5",
   "metadata": {},
   "outputs": [
    {
     "name": "stderr",
     "output_type": "stream",
     "text": [
      "100%|██████████| 134/134 [00:10<00:00, 12.53it/s]\n"
     ]
    },
    {
     "name": "stdout",
     "output_type": "stream",
     "text": [
      "Train data(X, y)     : (26398, 288, 16) (26398, 288, 16)\n",
      "Validation data(X, y): (0,) (0,)\n",
      "Test data(X)         : (134, 288, 16)\n"
     ]
    }
   ],
   "source": [
    "train_x1, train_y1, val_x, val_y, test_x = make_train_val_test_data(data_fin, IN_SEQ_LEN, OUT_SEQ_LEN, STRIDE, SHUFFLE, TEST_SIZE)\n",
    "# train_ds = generate_dataset(train_x, train_y, batch_size=BATCH_SIZE)\n",
    "# val_ds   = generate_dataset(val_x, val_y, batch_size=BATCH_SIZE)\n",
    "# test_ds  = generate_dataset(test_x, batch_size=1)"
   ]
  },
  {
   "cell_type": "markdown",
   "id": "d14b4320",
   "metadata": {},
   "source": [
    "---"
   ]
  },
  {
   "cell_type": "code",
   "execution_count": 55,
   "id": "4e33f2a9",
   "metadata": {},
   "outputs": [],
   "source": [
    "def make_train_data(data, seq_len, n_train):\n",
    "    \"\"\"\n",
    "    Last training set: [n_train-2-seq_len:n_train-2]\n",
    "    Last test set    : [n_train-2:n_train]\n",
    "    \"\"\"\n",
    "    train_x, train_y = [], []\n",
    "    for i in tqdm(sorted(pd.unique(data[\"TurbID\"]))):\n",
    "        tmp_data = data[data[\"TurbID\"] == i]\n",
    "        for j in range(1, (n_train-2) - (seq_len-1) + 1):  # 2일 test\n",
    "            # train data ==> seq_len일 단위\n",
    "            # label data ==> 2일 단위\n",
    "            train_days = np.arange(j, j+seq_len)\n",
    "            label_days = np.arange(j+seq_len, j+seq_len+2)\n",
    "            if (tmp_data.Day.isin(np.arange(j, j+seq_len+2)).sum() / 144) == (seq_len+2):  # 1Day = 10m * 144\n",
    "                train_tmp  = tmp_data[tmp_data.Day.isin(train_days)].drop(columns=['TurbID', 'Day'])\n",
    "                label_tmp  = tmp_data[tmp_data.Day.isin(label_days)].drop(columns=['TurbID', 'Day'])\n",
    "                train_x.append(train_tmp)  # (720, 11) = (Tmstamp * days, n_features)\n",
    "                train_y.append(label_tmp)  # (288)     = (Tmstamp * days)\n",
    "    train_x, train_y = np.array(train_x, dtype=np.float32), np.array(train_y, dtype=np.float32)\n",
    "    return train_x, train_y\n",
    "def make_val_data(data, seq_len):\n",
    "    train_days = np.arange(198-seq_len+1, 199)\n",
    "    label_days = np.arange(199, 201)\n",
    "    val_x = data[data.Day.isin(train_days)].drop(columns=['TurbID', 'Day'])\n",
    "    val_y = data[data.Day.isin(label_days)].Patv\n",
    "    return np.array(val_x, dtype=np.float32), np.array(val_y, dtype=np.float32)\n",
    "\n",
    "def make_test_data(data, seq_len):\n",
    "    test_x, test_y = [], []\n",
    "    for j in range(201, 240 - seq_len):\n",
    "        test_days = np.arange(j, j+seq_len)\n",
    "        label_days = np.arange(j+seq_len, j+seq_len+2)\n",
    "        test_tmp = data[data.Day.isin(test_days)].drop(columns=['TurbID','Day'])\n",
    "        label_tmp = data[data.Day.isin(label_days)].drop(columns=['TurbID','Day'])\n",
    "        test_x.append(test_tmp)  # (720, 11) = (Tmstamp * days, n_features)\n",
    "        test_y.append(label_tmp)  # (288)     = (Tmstamp * days)\n",
    "    test_x, test_y = np.array(test_x, dtype=np.float32), np.array(test_y, dtype=np.float32)\n",
    "    return np.array(test_x, dtype=np.float32), np.array(test_y, dtype=np.float32)"
   ]
  },
  {
   "cell_type": "code",
   "execution_count": 56,
   "id": "11ad8b55",
   "metadata": {},
   "outputs": [],
   "source": [
    "cols = ['Day', 'TurbID', 'RPM', 'Bspd1', 'Bspd3', 'Bspd2', 'Wspd_cos', 'Wspd', 'Wspd_cube',\n",
    "       'P_max', 'Pab1', 'Pab2', 'Pab3', 'TSR1', 'TSR2', 'TSR3', 'Prtv','Patv']\n",
    "data_fin = data_proc[cols]"
   ]
  },
  {
   "cell_type": "code",
   "execution_count": 57,
   "id": "01275b86",
   "metadata": {},
   "outputs": [
    {
     "name": "stderr",
     "output_type": "stream",
     "text": [
      "100%|██████████| 134/134 [00:30<00:00,  4.44it/s]\n"
     ]
    }
   ],
   "source": [
    "train_x2, train_y2 = make_train_data(data_fin, 2, 200)"
   ]
  },
  {
   "cell_type": "code",
   "execution_count": 58,
   "id": "ce9be49b",
   "metadata": {},
   "outputs": [
    {
     "data": {
      "text/plain": [
       "((26398, 288, 16), (26398, 288, 16))"
      ]
     },
     "execution_count": 58,
     "metadata": {},
     "output_type": "execute_result"
    }
   ],
   "source": [
    "train_x1.shape, train_x2.shape"
   ]
  },
  {
   "cell_type": "code",
   "execution_count": 59,
   "id": "93dc0654",
   "metadata": {},
   "outputs": [
    {
     "data": {
      "text/plain": [
       "True"
      ]
     },
     "execution_count": 59,
     "metadata": {},
     "output_type": "execute_result"
    }
   ],
   "source": [
    "np.all(train_x1 == train_x2)"
   ]
  }
 ],
 "metadata": {
  "kernelspec": {
   "display_name": "full",
   "language": "python",
   "name": "full"
  },
  "language_info": {
   "codemirror_mode": {
    "name": "ipython",
    "version": 3
   },
   "file_extension": ".py",
   "mimetype": "text/x-python",
   "name": "python",
   "nbconvert_exporter": "python",
   "pygments_lexer": "ipython3",
   "version": "3.8.13"
  }
 },
 "nbformat": 4,
 "nbformat_minor": 5
}
