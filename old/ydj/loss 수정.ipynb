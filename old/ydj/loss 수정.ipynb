{
 "cells": [
  {
   "cell_type": "code",
   "execution_count": null,
   "id": "949b6894",
   "metadata": {
    "pycharm": {
     "name": "#%%\n"
    }
   },
   "outputs": [],
   "source": [
    "%load_ext autoreload\n",
    "%autoreload 2\n",
    "%matplotlib inline\n",
    "\n",
    "import os\n",
    "import sys\n",
    "sys.path.append(os.path.dirname(os.getcwd()))\n",
    "\n",
    "from common import *"
   ]
  },
  {
   "cell_type": "code",
   "execution_count": null,
   "id": "7161ca4e",
   "metadata": {
    "pycharm": {
     "name": "#%%\n"
    }
   },
   "outputs": [],
   "source": [
    "data              = pd.read_csv(join(PATH.input, \"train_data.csv\"))\n",
    "sample_submission = pd.read_csv(join(PATH.input, \"sample_submission.csv\"))\n",
    "data.info()"
   ]
  },
  {
   "cell_type": "code",
   "execution_count": null,
   "id": "d60783e6",
   "metadata": {
    "pycharm": {
     "name": "#%%\n"
    }
   },
   "outputs": [],
   "source": [
    "data_with_time = generate_full_timestamp(data)"
   ]
  },
  {
   "cell_type": "code",
   "execution_count": null,
   "id": "2b3c7cf4",
   "metadata": {
    "pycharm": {
     "name": "#%%\n"
    }
   },
   "outputs": [],
   "source": [
    "data_imp = data_with_time.fillna(method='bfill')"
   ]
  },
  {
   "cell_type": "code",
   "execution_count": null,
   "id": "55cbd053",
   "metadata": {
    "pycharm": {
     "name": "#%%\n"
    }
   },
   "outputs": [],
   "source": [
    "data_proc = preprocess(data_imp)"
   ]
  },
  {
   "cell_type": "code",
   "execution_count": null,
   "id": "a925df5b",
   "metadata": {
    "pycharm": {
     "name": "#%%\n"
    }
   },
   "outputs": [],
   "source": [
    "IN_SEQ_LEN  = 2*144\n",
    "OUT_SEQ_LEN = 2*144\n",
    "STRIDE      = 144\n",
    "SHUFFLE     = False\n",
    "TEST_SIZE   = 0  # 2/200\n",
    "BATCH_SIZE  = 256"
   ]
  },
  {
   "cell_type": "code",
   "execution_count": null,
   "id": "674180de",
   "metadata": {
    "pycharm": {
     "name": "#%%\n"
    }
   },
   "outputs": [],
   "source": [
    "cols = ['Time', 'TurbID', 'RPM', 'Bspd1', 'Bspd3', 'Bspd2', 'Wspd_cos', 'Wspd', 'Wspd_cube',\n",
    "       'P_max', 'Pab1', 'Pab2', 'Pab3', 'TSR1', 'TSR2', 'TSR3', 'Prtv','Patv']\n",
    "data_fin = data_proc[cols]"
   ]
  },
  {
   "cell_type": "code",
   "execution_count": null,
   "id": "d43b64b5",
   "metadata": {
    "pycharm": {
     "name": "#%%\n"
    }
   },
   "outputs": [],
   "source": [
    "train_x1, train_y1, val_x, val_y, test_x = make_train_val_test_data(data_fin, IN_SEQ_LEN, OUT_SEQ_LEN, STRIDE, SHUFFLE, TEST_SIZE)\n",
    "# train_ds = generate_dataset(train_x, train_y, batch_size=BATCH_SIZE)\n",
    "# val_ds   = generate_dataset(val_x, val_y, batch_size=BATCH_SIZE)\n",
    "# test_ds  = generate_dataset(test_x, batch_size=1)"
   ]
  },
  {
   "cell_type": "markdown",
   "id": "d14b4320",
   "metadata": {
    "pycharm": {
     "name": "#%% md\n"
    }
   },
   "source": [
    "---"
   ]
  },
  {
   "cell_type": "code",
   "execution_count": null,
   "id": "4e33f2a9",
   "metadata": {
    "pycharm": {
     "name": "#%%\n"
    }
   },
   "outputs": [],
   "source": [
    "def make_train_data(data, seq_len, n_train):\n",
    "    \"\"\"\n",
    "    Last training set: [n_train-2-seq_len:n_train-2]\n",
    "    Last test set    : [n_train-2:n_train]\n",
    "    \"\"\"\n",
    "    train_x, train_y = [], []\n",
    "    for i in tqdm(sorted(pd.unique(data[\"TurbID\"]))):\n",
    "        tmp_data = data[data[\"TurbID\"] == i]\n",
    "        for j in range(1, (n_train-2) - (seq_len-1) + 1):  # 2일 test\n",
    "            # train data ==> seq_len일 단위\n",
    "            # label data ==> 2일 단위\n",
    "            train_days = np.arange(j, j+seq_len)\n",
    "            label_days = np.arange(j+seq_len, j+seq_len+2)\n",
    "            if (tmp_data.Day.isin(np.arange(j, j+seq_len+2)).sum() / 144) == (seq_len+2):  # 1Day = 10m * 144\n",
    "                train_tmp  = tmp_data[tmp_data.Day.isin(train_days)].drop(columns=['TurbID', 'Day'])\n",
    "                label_tmp  = tmp_data[tmp_data.Day.isin(label_days)].drop(columns=['TurbID', 'Day'])\n",
    "                train_x.append(train_tmp)  # (720, 11) = (Tmstamp * days, n_features)\n",
    "                train_y.append(label_tmp)  # (288)     = (Tmstamp * days)\n",
    "    train_x, train_y = np.array(train_x, dtype=np.float32), np.array(train_y, dtype=np.float32)\n",
    "    return train_x, train_y\n",
    "def make_val_data(data, seq_len):\n",
    "    train_days = np.arange(198-seq_len+1, 199)\n",
    "    label_days = np.arange(199, 201)\n",
    "    val_x = data[data.Day.isin(train_days)].drop(columns=['TurbID', 'Day'])\n",
    "    val_y = data[data.Day.isin(label_days)].Patv\n",
    "    return np.array(val_x, dtype=np.float32), np.array(val_y, dtype=np.float32)\n",
    "\n",
    "def make_test_data(data, seq_len):\n",
    "    test_x, test_y = [], []\n",
    "    for j in range(201, 240 - seq_len):\n",
    "        test_days = np.arange(j, j+seq_len)\n",
    "        label_days = np.arange(j+seq_len, j+seq_len+2)\n",
    "        test_tmp = data[data.Day.isin(test_days)].drop(columns=['TurbID','Day'])\n",
    "        label_tmp = data[data.Day.isin(label_days)].drop(columns=['TurbID','Day'])\n",
    "        test_x.append(test_tmp)  # (720, 11) = (Tmstamp * days, n_features)\n",
    "        test_y.append(label_tmp)  # (288)     = (Tmstamp * days)\n",
    "    test_x, test_y = np.array(test_x, dtype=np.float32), np.array(test_y, dtype=np.float32)\n",
    "    return np.array(test_x, dtype=np.float32), np.array(test_y, dtype=np.float32)"
   ]
  },
  {
   "cell_type": "code",
   "execution_count": null,
   "id": "11ad8b55",
   "metadata": {
    "pycharm": {
     "name": "#%%\n"
    }
   },
   "outputs": [],
   "source": [
    "cols = ['Day', 'TurbID', 'RPM', 'Bspd1', 'Bspd3', 'Bspd2', 'Wspd_cos', 'Wspd', 'Wspd_cube',\n",
    "       'P_max', 'Pab1', 'Pab2', 'Pab3', 'TSR1', 'TSR2', 'TSR3', 'Prtv','Patv']\n",
    "data_fin = data_proc[cols]"
   ]
  },
  {
   "cell_type": "code",
   "execution_count": null,
   "id": "01275b86",
   "metadata": {
    "pycharm": {
     "name": "#%%\n"
    }
   },
   "outputs": [],
   "source": [
    "train_x2, train_y2 = make_train_data(data_fin, 2, 200)"
   ]
  },
  {
   "cell_type": "code",
   "execution_count": null,
   "id": "ce9be49b",
   "metadata": {
    "pycharm": {
     "name": "#%%\n"
    }
   },
   "outputs": [],
   "source": [
    "train_x1.shape, train_x2.shape"
   ]
  },
  {
   "cell_type": "code",
   "execution_count": null,
   "id": "93dc0654",
   "metadata": {
    "pycharm": {
     "name": "#%%\n"
    }
   },
   "outputs": [],
   "source": [
    "np.all(train_x1 == train_x2)"
   ]
  }
 ],
 "metadata": {
  "kernelspec": {
   "display_name": "full",
   "language": "python",
   "name": "full"
  },
  "language_info": {
   "codemirror_mode": {
    "name": "ipython",
    "version": 3
   },
   "file_extension": ".py",
   "mimetype": "text/x-python",
   "name": "python",
   "nbconvert_exporter": "python",
   "pygments_lexer": "ipython3",
   "version": "3.8.13"
  }
 },
 "nbformat": 4,
 "nbformat_minor": 5
}