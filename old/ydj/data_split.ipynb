{
 "cells": [
  {
   "cell_type": "code",
   "execution_count": 1,
   "id": "066693e0",
   "metadata": {
    "pycharm": {
     "name": "#%%\n"
    }
   },
   "outputs": [],
   "source": [
    "%load_ext autoreload\n",
    "%autoreload 2\n",
    "\n",
    "import os\n",
    "import sys\n",
    "sys.path.append(os.path.dirname(os.getcwd()))\n",
    "\n",
    "from common import *"
   ]
  },
  {
   "cell_type": "markdown",
   "id": "76669c41",
   "metadata": {
    "pycharm": {
     "name": "#%% md\n"
    }
   },
   "source": [
    "# 1. Load dataset"
   ]
  },
  {
   "cell_type": "code",
   "execution_count": 2,
   "id": "1266fb78",
   "metadata": {},
   "outputs": [],
   "source": [
    "from dask import delayed, compute\n",
    "from dask.distributed import Client\n",
    "from dask.diagnostics import ProgressBar"
   ]
  },
  {
   "cell_type": "code",
   "execution_count": 3,
   "id": "b36e2bc1",
   "metadata": {
    "pycharm": {
     "name": "#%%\n"
    }
   },
   "outputs": [
    {
     "data": {
      "text/html": [
       "<div>\n",
       "<style scoped>\n",
       "    .dataframe tbody tr th:only-of-type {\n",
       "        vertical-align: middle;\n",
       "    }\n",
       "\n",
       "    .dataframe tbody tr th {\n",
       "        vertical-align: top;\n",
       "    }\n",
       "\n",
       "    .dataframe thead th {\n",
       "        text-align: right;\n",
       "    }\n",
       "</style>\n",
       "<table border=\"1\" class=\"dataframe\">\n",
       "  <thead>\n",
       "    <tr style=\"text-align: right;\">\n",
       "      <th></th>\n",
       "      <th>TurbID</th>\n",
       "      <th>Day</th>\n",
       "      <th>Tmstamp</th>\n",
       "      <th>Wspd</th>\n",
       "      <th>Wdir</th>\n",
       "      <th>Etmp</th>\n",
       "      <th>Itmp</th>\n",
       "      <th>Ndir</th>\n",
       "      <th>Pab1</th>\n",
       "      <th>Pab2</th>\n",
       "      <th>Pab3</th>\n",
       "      <th>Prtv</th>\n",
       "      <th>Patv</th>\n",
       "    </tr>\n",
       "  </thead>\n",
       "  <tbody>\n",
       "    <tr>\n",
       "      <th>0</th>\n",
       "      <td>1</td>\n",
       "      <td>1</td>\n",
       "      <td>00:00</td>\n",
       "      <td>NaN</td>\n",
       "      <td>NaN</td>\n",
       "      <td>NaN</td>\n",
       "      <td>NaN</td>\n",
       "      <td>NaN</td>\n",
       "      <td>NaN</td>\n",
       "      <td>NaN</td>\n",
       "      <td>NaN</td>\n",
       "      <td>NaN</td>\n",
       "      <td>NaN</td>\n",
       "    </tr>\n",
       "    <tr>\n",
       "      <th>1</th>\n",
       "      <td>1</td>\n",
       "      <td>1</td>\n",
       "      <td>00:10</td>\n",
       "      <td>6.17</td>\n",
       "      <td>-3.99</td>\n",
       "      <td>30.73</td>\n",
       "      <td>41.80</td>\n",
       "      <td>25.92</td>\n",
       "      <td>1.0</td>\n",
       "      <td>1.0</td>\n",
       "      <td>1.0</td>\n",
       "      <td>-0.25</td>\n",
       "      <td>494.66</td>\n",
       "    </tr>\n",
       "    <tr>\n",
       "      <th>2</th>\n",
       "      <td>1</td>\n",
       "      <td>1</td>\n",
       "      <td>00:20</td>\n",
       "      <td>6.27</td>\n",
       "      <td>-2.18</td>\n",
       "      <td>30.60</td>\n",
       "      <td>41.63</td>\n",
       "      <td>20.91</td>\n",
       "      <td>1.0</td>\n",
       "      <td>1.0</td>\n",
       "      <td>1.0</td>\n",
       "      <td>-0.24</td>\n",
       "      <td>509.76</td>\n",
       "    </tr>\n",
       "    <tr>\n",
       "      <th>3</th>\n",
       "      <td>1</td>\n",
       "      <td>1</td>\n",
       "      <td>00:30</td>\n",
       "      <td>6.42</td>\n",
       "      <td>-0.73</td>\n",
       "      <td>30.52</td>\n",
       "      <td>41.52</td>\n",
       "      <td>20.91</td>\n",
       "      <td>1.0</td>\n",
       "      <td>1.0</td>\n",
       "      <td>1.0</td>\n",
       "      <td>-0.26</td>\n",
       "      <td>542.53</td>\n",
       "    </tr>\n",
       "    <tr>\n",
       "      <th>4</th>\n",
       "      <td>1</td>\n",
       "      <td>1</td>\n",
       "      <td>00:40</td>\n",
       "      <td>6.25</td>\n",
       "      <td>0.89</td>\n",
       "      <td>30.49</td>\n",
       "      <td>41.38</td>\n",
       "      <td>20.91</td>\n",
       "      <td>1.0</td>\n",
       "      <td>1.0</td>\n",
       "      <td>1.0</td>\n",
       "      <td>-0.23</td>\n",
       "      <td>509.36</td>\n",
       "    </tr>\n",
       "  </tbody>\n",
       "</table>\n",
       "</div>"
      ],
      "text/plain": [
       "   TurbID  Day Tmstamp  Wspd  Wdir   Etmp   Itmp   Ndir  Pab1  Pab2  Pab3  Prtv    Patv\n",
       "0       1    1   00:00   NaN   NaN    NaN    NaN    NaN   NaN   NaN   NaN   NaN     NaN\n",
       "1       1    1   00:10  6.17 -3.99  30.73  41.80  25.92   1.0   1.0   1.0 -0.25  494.66\n",
       "2       1    1   00:20  6.27 -2.18  30.60  41.63  20.91   1.0   1.0   1.0 -0.24  509.76\n",
       "3       1    1   00:30  6.42 -0.73  30.52  41.52  20.91   1.0   1.0   1.0 -0.26  542.53\n",
       "4       1    1   00:40  6.25  0.89  30.49  41.38  20.91   1.0   1.0   1.0 -0.23  509.36"
      ]
     },
     "execution_count": 3,
     "metadata": {},
     "output_type": "execute_result"
    }
   ],
   "source": [
    "data = pd.read_csv(join(PATH.input, 'train_data.csv'))\n",
    "data.head()"
   ]
  },
  {
   "cell_type": "code",
   "execution_count": 4,
   "id": "66da88b6",
   "metadata": {},
   "outputs": [
    {
     "name": "stdout",
     "output_type": "stream",
     "text": [
      "CPU times: user 5.32 s, sys: 242 ms, total: 5.56 s\n",
      "Wall time: 3.54 s\n"
     ]
    }
   ],
   "source": [
    "%%time\n",
    "data = generate_full_timestamp(data, drop=True)"
   ]
  },
  {
   "cell_type": "code",
   "execution_count": 5,
   "id": "31be32dd",
   "metadata": {},
   "outputs": [],
   "source": [
    "data = data.dropna()"
   ]
  },
  {
   "cell_type": "code",
   "execution_count": 6,
   "id": "9ec5165b",
   "metadata": {},
   "outputs": [],
   "source": [
    "in_seq_len = 5*144\n",
    "out_seq_len = 2*144\n",
    "shuffle = False\n",
    "test_size = 0.2"
   ]
  },
  {
   "cell_type": "code",
   "execution_count": 7,
   "id": "c6006117",
   "metadata": {},
   "outputs": [],
   "source": [
    "def split_times(times, in_seq_len, out_seq_len):\n",
    "    inputs, outputs = [], []\n",
    "    full_times = set(range(1, 28800+1))\n",
    "    removed_times = full_times - set(times)\n",
    "    for i in times:  # 28486\n",
    "        input  = range(i,              i + in_seq_len)\n",
    "        output = range(i + in_seq_len, i + in_seq_len + out_seq_len)\n",
    "        if i + in_seq_len + out_seq_len > 28801:\n",
    "            break\n",
    "        if len(set(range(i, i + in_seq_len + out_seq_len)) & removed_times) == 0:\n",
    "            inputs.append(input);  outputs.append(output)\n",
    "    return inputs, outputs\n",
    "\n",
    "\n",
    "    \n",
    "def make_train_val_test_data(data, in_seq_len, out_seq_len, shuffle, test_size):\n",
    "    from sklearn.model_selection import train_test_split\n",
    "\n",
    "    train_x, train_y = [], []\n",
    "    val_x,   val_y   = [], []\n",
    "    test_x           = []\n",
    "    \n",
    "    for i in tqdm(sorted(pd.unique(data['TurbID']))):\n",
    "        data_tid = data[data['TurbID'] == i]\n",
    "        times    = data_tid['Time'].sort_values()\n",
    "        data_tid = data_tid.set_index('Time')\n",
    "    \n",
    "        # Make Train, validation set\n",
    "        inputs, outputs = split_times(times, in_seq_len, out_seq_len)\n",
    "\n",
    "        try:\n",
    "            train_in, val_in, train_out, val_out = train_test_split(inputs, outputs, shuffle=shuffle, test_size=test_size)\n",
    "        except Exception as e:\n",
    "            print(e);  print(inputs);  print(outputs)\n",
    "            continue\n",
    "        \n",
    "        train_x += [data_tid.loc[times] for times in train_in]\n",
    "        train_y += [data_tid.loc[times] for times in train_out]\n",
    "        val_x   += [data_tid.loc[times] for times in val_in]\n",
    "        val_y   += [data_tid.loc[times] for times in val_out]\n",
    "        test_x  += [data_tid.iloc[-in_seq_len:]]\n",
    "        \n",
    "    train_x, train_y = np.array(train_x), np.array(train_y)\n",
    "    val_x,   val_y   = np.array(val_x),   np.array(val_y)\n",
    "    test_x           = np.array(test_x)\n",
    "    \n",
    "    print(\"Train data(X, y)     :\", train_x.shape, train_y.shape)\n",
    "    print(\"Validation data(X, y):\", val_x.shape, val_y.shape)\n",
    "    print(\"Test data(X)         :\", test_x.shape)\n",
    "    return train_x, train_y, val_x, val_y, test_x"
   ]
  },
  {
   "cell_type": "code",
   "execution_count": 8,
   "id": "2dadebd5",
   "metadata": {},
   "outputs": [
    {
     "name": "stderr",
     "output_type": "stream",
     "text": [
      "100%|██████████| 134/134 [02:44<00:00,  1.22s/it]\n"
     ]
    },
    {
     "name": "stdout",
     "output_type": "stream",
     "text": [
      "Train data(X, y)     : (173016, 720, 11) (173016, 288, 11)\n",
      "Validation data(X, y): (43319, 720, 11) (43319, 288, 11)\n",
      "Test data(X)         : (134, 720, 11)\n",
      "CPU times: user 2min 58s, sys: 7.8 s, total: 3min 6s\n",
      "Wall time: 3min 5s\n"
     ]
    }
   ],
   "source": [
    "%%time\n",
    "\n",
    "# a, b, c, d, e = make_train_val_test_data(data, in_seq_len, out_seq_len, shuffle, test_size)\n",
    "rsts = make_train_val_test_data(data, in_seq_len, out_seq_len, shuffle, test_size)\n",
    "# a, b = make_train_val_test_data(data, seq_len, out_len, shuffle, test_size)"
   ]
  },
  {
   "cell_type": "code",
   "execution_count": 9,
   "id": "b8e7e81b",
   "metadata": {},
   "outputs": [],
   "source": [
    "train_x, train_y, val_x, val_y, test_x = rsts"
   ]
  }
 ],
 "metadata": {
  "kernelspec": {
   "display_name": "full",
   "language": "python",
   "name": "full"
  },
  "language_info": {
   "codemirror_mode": {
    "name": "ipython",
    "version": 3
   },
   "file_extension": ".py",
   "mimetype": "text/x-python",
   "name": "python",
   "nbconvert_exporter": "python",
   "pygments_lexer": "ipython3",
   "version": "3.8.13"
  }
 },
 "nbformat": 4,
 "nbformat_minor": 5
}